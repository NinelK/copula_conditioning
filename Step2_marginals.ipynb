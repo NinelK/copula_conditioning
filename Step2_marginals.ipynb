{
 "cells": [
  {
   "cell_type": "code",
   "execution_count": 1,
   "metadata": {},
   "outputs": [],
   "source": [
    "import pickle as pkl\n",
    "import pandas as pd\n",
    "import numpy as np\n",
    "\n",
    "import matplotlib.pyplot as plt\n",
    "from tqdm.notebook import tqdm\n",
    "\n",
    "import copulagp.marginal as mg\n",
    "\n",
    "def subsample(x,y,n=20000):\n",
    "    assert len(x)==len(y)\n",
    "    N = len(x)\n",
    "    if n>N:\n",
    "        return x, y\n",
    "    subset = np.arange(N)\n",
    "    np.random.shuffle(subset)\n",
    "    subset = subset[:n]\n",
    "    # add extremes\n",
    "    extreme_idxs = [np.argmin(x), np.argmax(x), np.argmin(y), np.argmax(y)]\n",
    "    i = 0\n",
    "    for eidx in extreme_idxs:\n",
    "        if eidx not in subset:\n",
    "            while subset[i] in extreme_idxs:\n",
    "                i+=1\n",
    "            subset[i] = eidx\n",
    "            i+=1\n",
    "    return x[subset], y[subset]\n",
    "            "
   ]
  },
  {
   "cell_type": "code",
   "execution_count": 2,
   "metadata": {},
   "outputs": [
    {
     "data": {
      "text/plain": [
       "session_id                               M3_D18_2020-11-21_14-29-49\n",
       "cluster_id                                                       12\n",
       "spikes_per50ms    [[0.17351680745402503, 0.2128912512133495, 0.2...\n",
       "Name: 10, dtype: object"
      ]
     },
     "execution_count": 2,
     "metadata": {},
     "output_type": "execute_result"
    }
   ],
   "source": [
    "session = 'M3_D18_2020-11-21_14-29-49'\n",
    "data = pd.read_pickle(f'{session}_50ms.pkl')\n",
    "data.iloc[2]"
   ]
  },
  {
   "cell_type": "code",
   "execution_count": 3,
   "metadata": {},
   "outputs": [
    {
     "ename": "ValueError",
     "evalue": "too many values to unpack (expected 5)",
     "output_type": "error",
     "traceback": [
      "\u001b[0;31m---------------------------------------------------------------------------\u001b[0m",
      "\u001b[0;31mValueError\u001b[0m                                Traceback (most recent call last)",
      "Input \u001b[0;32mIn [3]\u001b[0m, in \u001b[0;36m<module>\u001b[0;34m\u001b[0m\n\u001b[1;32m      1\u001b[0m session_id\u001b[38;5;241m=\u001b[39m\u001b[38;5;241m0\u001b[39m\n\u001b[0;32m----> 2\u001b[0m [ds_rate, ds_vel, ds_pos, trial_num, trial_type] \u001b[38;5;241m=\u001b[39m data\u001b[38;5;241m.\u001b[39miloc[session_id]\u001b[38;5;241m.\u001b[39mspikes_per50ms\n\u001b[1;32m      3\u001b[0m \u001b[38;5;66;03m#spike_rate_in_time\u001b[39;00m\n\u001b[1;32m      4\u001b[0m ds_pos\n",
      "\u001b[0;31mValueError\u001b[0m: too many values to unpack (expected 5)"
     ]
    }
   ],
   "source": [
    "session_id=0\n",
    "[ds_rate, ds_vel, ds_pos, trial_num, trial_type] = data.iloc[session_id].spikes_per50ms\n",
    "#spike_rate_in_time\n",
    "ds_pos"
   ]
  },
  {
   "cell_type": "code",
   "execution_count": null,
   "metadata": {},
   "outputs": [],
   "source": [
    "plt.scatter(ds_pos[trial_type==0],ds_vel[trial_type==0],alpha=0.01)\n",
    "plt.scatter(ds_pos[trial_type==1],ds_vel[trial_type==1],alpha=0.01)\n",
    "plt.xlabel(\"position, cm\")\n",
    "plt.ylabel(\"vel, cm/s?\")"
   ]
  },
  {
   "cell_type": "code",
   "execution_count": 5,
   "metadata": {},
   "outputs": [
    {
     "ename": "NameError",
     "evalue": "name 'ds_rate' is not defined",
     "output_type": "error",
     "traceback": [
      "\u001b[0;31m---------------------------------------------------------------------------\u001b[0m",
      "\u001b[0;31mNameError\u001b[0m                                 Traceback (most recent call last)",
      "Input \u001b[0;32mIn [5]\u001b[0m, in \u001b[0;36m<module>\u001b[0;34m\u001b[0m\n\u001b[1;32m      1\u001b[0m \u001b[38;5;66;03m# len(ds_pos)\u001b[39;00m\n\u001b[0;32m----> 2\u001b[0m np\u001b[38;5;241m.\u001b[39munique(\u001b[43mds_rate\u001b[49m[trial_type\u001b[38;5;241m==\u001b[39m\u001b[38;5;241m0\u001b[39m])\n",
      "\u001b[0;31mNameError\u001b[0m: name 'ds_rate' is not defined"
     ]
    }
   ],
   "source": [
    "# len(ds_pos)\n",
    "np.unique(ds_rate[trial_type==0])"
   ]
  },
  {
   "cell_type": "code",
   "execution_count": 6,
   "metadata": {},
   "outputs": [
    {
     "ename": "NameError",
     "evalue": "name 'ds_vel' is not defined",
     "output_type": "error",
     "traceback": [
      "\u001b[0;31m---------------------------------------------------------------------------\u001b[0m",
      "\u001b[0;31mNameError\u001b[0m                                 Traceback (most recent call last)",
      "Input \u001b[0;32mIn [6]\u001b[0m, in \u001b[0;36m<module>\u001b[0;34m\u001b[0m\n\u001b[0;32m----> 1\u001b[0m plt\u001b[38;5;241m.\u001b[39mhist(\u001b[43mds_vel\u001b[49m,bins\u001b[38;5;241m=\u001b[39m\u001b[38;5;241m20\u001b[39m)\n",
      "\u001b[0;31mNameError\u001b[0m: name 'ds_vel' is not defined"
     ]
    }
   ],
   "source": [
    "plt.hist(ds_vel,bins=20)"
   ]
  },
  {
   "cell_type": "code",
   "execution_count": 69,
   "metadata": {},
   "outputs": [],
   "source": [
    "# %time u_vel_t0 = mg.fast_signal2uniform(ds_vel[trial_type==0],ds_pos[trial_type==0],numPointsPerSigma=50,old=True)\n",
    "# %time u_rate_t0 = mg.zeroinflated_signal2uniform(ds_rate[trial_type==0],ds_pos[trial_type==0],numPointsPerSigma=50)\n",
    "# %time u_vel_t1 = mg.fast_signal2uniform(ds_vel[trial_type==1],ds_pos[trial_type==1],numPointsPerSigma=50,old=True)\n",
    "# %time u_rate_t1 = mg.zeroinflated_signal2uniform(ds_rate[trial_type==1],ds_pos[trial_type==1],numPointsPerSigma=50)"
   ]
  },
  {
   "cell_type": "code",
   "execution_count": 70,
   "metadata": {},
   "outputs": [],
   "source": []
  },
  {
   "cell_type": "code",
   "execution_count": 72,
   "metadata": {},
   "outputs": [
    {
     "data": {
      "application/vnd.jupyter.widget-view+json": {
       "model_id": "4527753800624191b6c6869bb89bb519",
       "version_major": 2,
       "version_minor": 0
      },
      "text/plain": [
       "  0%|          | 0/23 [00:00<?, ?it/s]"
      ]
     },
     "metadata": {},
     "output_type": "display_data"
    }
   ],
   "source": [
    "u_vel_t0, u_rate_t0, u_vel_t1, u_rate_t1 = [],[],[],[]\n",
    "for session_id in tqdm(range(len(data))):\n",
    "    [ds_rate, ds_vel, ds_pos, _, trial_type] = data.iloc[session_id].spikes_per50ms\n",
    "    if session_id==0:\n",
    "        ds_vel_all=ds_vel\n",
    "        u_vel_t0_all = mg.zeroinflated_signal2uniform(ds_vel[trial_type==0],ds_pos[trial_type==0],numPointsPerSigma=50)\n",
    "        u_vel_t1_all = mg.zeroinflated_signal2uniform(ds_vel[trial_type==1],ds_pos[trial_type==1],numPointsPerSigma=50)\n",
    "    else:\n",
    "        assert np.allclose(ds_vel_all,ds_vel)\n",
    "    u_vel_t0.append(u_vel_t0_all)\n",
    "    u_rate_t0.append(mg.zeroinflated_signal2uniform(ds_rate[trial_type==0],ds_pos[trial_type==0],numPointsPerSigma=50))\n",
    "    u_vel_t1.append(u_vel_t1_all)\n",
    "    u_rate_t1.append(mg.zeroinflated_signal2uniform(ds_rate[trial_type==1],ds_pos[trial_type==1],numPointsPerSigma=50))\n",
    "data['u_vel_t0']=u_vel_t0\n",
    "data['u_rate_t0']=u_rate_t0\n",
    "data['u_vel_t1']=u_vel_t1\n",
    "data['u_rate_t1']=u_rate_t1\n",
    "data.to_pickle(f\"{session}_u.pkl\")"
   ]
  },
  {
   "cell_type": "code",
   "execution_count": 73,
   "metadata": {},
   "outputs": [
    {
     "data": {
      "text/plain": [
       "(array([[2477., 2446., 2326., 2327., 2393., 2391., 2287., 2338., 2557.,\n",
       "         2541.],\n",
       "        [1479., 1669., 2941., 2581., 2513., 2519., 2537., 2652., 2593.,\n",
       "         2599.],\n",
       "        [2206., 2414., 2418., 2428., 2434., 2362., 2440., 2386., 2529.,\n",
       "         2466.],\n",
       "        [2007., 2219., 2151., 2232., 2237., 2078., 1787., 3216., 3129.,\n",
       "         3027.],\n",
       "        [1575., 1347., 2841., 2428., 2639., 2529., 2556., 2583., 2690.,\n",
       "         2895.],\n",
       "        [2267., 2383., 2342., 2506., 2470., 2244., 2510., 2470., 2377.,\n",
       "         2514.],\n",
       "        [2243., 2446., 2367., 2432., 2354., 2516., 2388., 2429., 2428.,\n",
       "         2480.],\n",
       "        [2022., 1605., 2264., 2298., 2781., 2565., 2586., 2546., 2697.,\n",
       "         2719.],\n",
       "        [2253., 2433., 2370., 2430., 2393., 2429., 2423., 2470., 2390.,\n",
       "         2492.],\n",
       "        [2254., 2441., 2464., 2374., 2339., 2449., 2489., 2446., 2433.,\n",
       "         2394.],\n",
       "        [2385., 2341., 2477., 2443., 2466., 2394., 2425., 2351., 2414.,\n",
       "         2387.],\n",
       "        [2295., 2439., 2377., 2354., 2478., 2482., 2423., 2398., 2425.,\n",
       "         2412.],\n",
       "        [1545., 1725., 2956., 2499., 2525., 2552., 2478., 2572., 2625.,\n",
       "         2606.],\n",
       "        [1773., 1583., 2407., 2873., 2512., 2543., 2564., 2555., 2615.,\n",
       "         2658.],\n",
       "        [2180., 2475., 2423., 2397., 2384., 2409., 2524., 2341., 2518.,\n",
       "         2432.],\n",
       "        [1677., 1756., 1942., 3230., 2514., 2487., 2612., 2527., 2640.,\n",
       "         2698.],\n",
       "        [2004., 1960., 1777., 2084., 3239., 2509., 2553., 2576., 2656.,\n",
       "         2725.],\n",
       "        [2335., 2313., 2493., 2410., 2424., 2341., 2419., 2490., 2394.,\n",
       "         2464.],\n",
       "        [2429., 2331., 2351., 2383., 2382., 2457., 2385., 2552., 2281.,\n",
       "         2532.],\n",
       "        [2047., 2478., 2304., 2537., 2440., 2459., 2460., 2456., 2495.,\n",
       "         2407.],\n",
       "        [1522., 2594., 2397., 2507., 2467., 2531., 2479., 2549., 2581.,\n",
       "         2456.],\n",
       "        [1480., 1973., 2821., 2545., 2553., 2496., 2518., 2546., 2604.,\n",
       "         2547.],\n",
       "        [1645., 1714., 2414., 2514., 2755., 2539., 2520., 2562., 2598.,\n",
       "         2822.]]),\n",
       " array([0. , 0.1, 0.2, 0.3, 0.4, 0.5, 0.6, 0.7, 0.8, 0.9, 1. ]),\n",
       " <a list of 23 Lists of Patches objects>)"
      ]
     },
     "execution_count": 73,
     "metadata": {},
     "output_type": "execute_result"
    },
    {
     "data": {
      "image/png": "[encoded data removed]",
      "text/plain": [
       "<Figure size 432x288 with 1 Axes>"
      ]
     },
     "metadata": {
      "needs_background": "light"
     },
     "output_type": "display_data"
    }
   ],
   "source": [
    "plt.hist(u_rate_t0)"
   ]
  },
  {
   "cell_type": "code",
   "execution_count": 74,
   "metadata": {},
   "outputs": [
    {
     "data": {
      "text/plain": [
       "(34870,)"
      ]
     },
     "execution_count": 74,
     "metadata": {},
     "output_type": "execute_result"
    }
   ],
   "source": [
    "ds_pos.shape"
   ]
  },
  {
   "cell_type": "markdown",
   "metadata": {},
   "source": [
    "# Serialize"
   ]
  },
  {
   "cell_type": "code",
   "execution_count": 5,
   "metadata": {},
   "outputs": [
    {
     "data": {
      "text/plain": [
       "'_cohort5'"
      ]
     },
     "execution_count": 5,
     "metadata": {},
     "output_type": "execute_result"
    }
   ],
   "source": [
    "import glob\n",
    "\n",
    "cohorts = glob.glob(\"_cohort*\")\n",
    "cohort = cohorts[3]\n",
    "cohort"
   ]
  },
  {
   "cell_type": "code",
   "execution_count": 6,
   "metadata": {},
   "outputs": [],
   "source": [
    "# session_list = glob.glob(f\"unified_binned/{cohort}/*\")\n",
    "# for session in tqdm(session_list):\n",
    "#     save_name=(session.split('/')[-1]).split(\".pkl\")[0]\n",
    "#     save_name = f\"unified_uniform/{cohort}/{save_name}_u.pkl\"\n",
    "#     data = pd.read_pickle(session)\n",
    "#     u_vel_t0, u_rate_t0, u_vel_t1, u_rate_t1 = [],[],[],[]\n",
    "#     for cluster_id in tqdm(range(len(data))):\n",
    "#         [ds_rate, ds_vel, ds_pos, ds_acc, _, trial_type] = data.iloc[cluster_id].spikes_per50ms\n",
    "#         if cluster_id==0:\n",
    "#             ds_vel_all=ds_vel\n",
    "#             u_vel_t0_all = mg.zeroinflated_signal2uniform(ds_vel[trial_type==0],ds_pos[trial_type==0],numPointsPerSigma=50)\n",
    "#             u_vel_t1_all = mg.zeroinflated_signal2uniform(ds_vel[trial_type==1],ds_pos[trial_type==1],numPointsPerSigma=50)\n",
    "#         else:\n",
    "#             assert np.allclose(ds_vel_all,ds_vel)\n",
    "#         u_vel_t0.append(u_vel_t0_all)\n",
    "#         u_rate_t0.append(mg.zeroinflated_signal2uniform(ds_rate[trial_type==0],ds_pos[trial_type==0],numPointsPerSigma=50))\n",
    "#         u_vel_t1.append(u_vel_t1_all)\n",
    "#         u_rate_t1.append(mg.zeroinflated_signal2uniform(ds_rate[trial_type==1],ds_pos[trial_type==1],numPointsPerSigma=50))\n",
    "#     data['u_vel_t0']=u_vel_t0\n",
    "#     data['u_rate_t0']=u_rate_t0\n",
    "#     data['u_vel_t1']=u_vel_t1\n",
    "#     data['u_rate_t1']=u_rate_t1\n",
    "#     data.to_pickle(save_name)\n",
    "# #     try:\n",
    "# #         open(save_name,'rb')\n",
    "# #     except:\n",
    "# #         print(save_name)\n",
    "        "
   ]
  },
  {
   "cell_type": "code",
   "execution_count": 7,
   "metadata": {},
   "outputs": [
    {
     "name": "stdout",
     "output_type": "stream",
     "text": [
      "unified_binned/_cohort5/M2_D12_2019-07-02_13-52-55_50ms.pklunified_binned/_cohort5/M1_D7_2019-06-25_13-29-10_50ms.pklunified_binned/_cohort5/M2_D5_2019-06-21_14-17-47_50ms.pklunified_binned/_cohort5/M2_D1_2019-06-17_13-48-10_50ms.pklunified_binned/_cohort5/M2_D3_2019-06-19_13-42-04_50ms.pklunified_binned/_cohort5/M1_D9_2019-06-27_13-17-22_50ms.pklunified_binned/_cohort5/M1_D8_2019-06-26_13-31-11_50ms.pkl unified_binned/_cohort5/M1_D6_2019-06-24_14-00-07_50ms.pklunified_binned/_cohort5/M1_D2_2019-06-18_13-25-18_50ms.pklunified_binned/_cohort5/M1_D16_2019-07-08_13-52-45_50ms.pkl unified_binned/_cohort5/M1_D13_2019-07-03_13-19-48_50ms.pklunified_binned/_cohort5/M1_D1_2019-06-17_13-10-34_50ms.pklunified_binned/_cohort5/M2_D10_2019-06-28_14-25-15_50ms.pklunified_binned/_cohort5/M2_D14_2019-07-04_14-09-44_50ms.pklunified_binned/_cohort5/M1_D10_2019-06-28_13-31-54_50ms.pklunified_binned/_cohort5/M1_D14_2019-07-04_13-33-14_50ms.pklunified_binned/_cohort5/M1_D4_2019-06-20_13-25-59_50ms.pklunified_binned/_cohort5/M1_D15_2019-07-05_13-25-15_50ms.pklunified_binned/_cohort5/M1_D3_2019-06-19_12-58-11_50ms.pklunified_binned/_cohort5/M2_D7_2019-06-25_14-09-48_50ms.pklunified_binned/_cohort5/M2_D8_2019-06-26_14-10-21_50ms.pkl  unified_binned/_cohort5/M1_D18_2019-07-10_13-33-11_50ms.pklunified_binned/_cohort5/M2_D11_2019-07-01_13-50-47_50ms.pklunified_binned/_cohort5/M1_D5_2019-06-21_13-33-50_50ms.pkl   unified_binned/_cohort5/M2_D9_2019-06-27_13-58-07_50ms.pkl startedunified_binned/_cohort5/M1_D11_2019-07-01_13-13-39_50ms.pklunified_binned/_cohort5/M2_D4_2019-06-20_14-10-17_50ms.pkl     started unified_binned/_cohort5/M1_D19_2019-07-11_13-29-24_50ms.pkl unified_binned/_cohort5/M2_D15_2019-07-05_14-01-02_50ms.pkl         started started   started  started started\n",
      "   started  started started started started started started   started started started started\n",
      " started started started\n",
      "\n",
      " started\n",
      " started started\n",
      " started started started\n",
      "\n",
      "\n",
      "\n",
      "\n",
      "\n",
      "\n",
      "\n",
      " started\n",
      "\n",
      " started\n",
      "\n",
      "\n",
      "\n",
      "\n",
      "\n",
      "\n",
      "\n",
      "\n",
      "\n",
      "\n",
      "\n",
      "\n"
     ]
    },
    {
     "data": {
      "application/vnd.jupyter.widget-view+json": {
       "model_id": "c6e71618dcd24f0fbdc94e5224c3c1fa",
       "version_major": 2,
       "version_minor": 0
      },
      "text/plain": [
       "  0%|          | 0/2 [00:00<?, ?it/s]"
      ]
     },
     "metadata": {},
     "output_type": "display_data"
    },
    {
     "data": {
      "application/vnd.jupyter.widget-view+json": {
       "model_id": "587064bda1c8498fb83ad4c6b79ccbd8",
       "version_major": 2,
       "version_minor": 0
      },
      "text/plain": [
       "  0%|          | 0/1 [00:00<?, ?it/s]"
      ]
     },
     "metadata": {},
     "output_type": "display_data"
    },
    {
     "data": {
      "application/vnd.jupyter.widget-view+json": {
       "model_id": "815d002585374e5a95f2ba7ee5df0d3f",
       "version_major": 2,
       "version_minor": 0
      },
      "text/plain": [
       "  0%|          | 0/1 [00:00<?, ?it/s]"
      ]
     },
     "metadata": {},
     "output_type": "display_data"
    },
    {
     "data": {
      "application/vnd.jupyter.widget-view+json": {
       "model_id": "d32541edd780445db959067a0932a059",
       "version_major": 2,
       "version_minor": 0
      },
      "text/plain": [
       "  0%|          | 0/2 [00:00<?, ?it/s]"
      ]
     },
     "metadata": {},
     "output_type": "display_data"
    },
    {
     "data": {
      "application/vnd.jupyter.widget-view+json": {
       "model_id": "b247c79e111d49c981e42a626c756af4",
       "version_major": 2,
       "version_minor": 0
      },
      "text/plain": [
       "  0%|          | 0/5 [00:00<?, ?it/s]"
      ]
     },
     "metadata": {},
     "output_type": "display_data"
    },
    {
     "data": {
      "application/vnd.jupyter.widget-view+json": {
       "model_id": "1a7efd7d5c734548812713b4828c0495",
       "version_major": 2,
       "version_minor": 0
      },
      "text/plain": [
       "  0%|          | 0/4 [00:00<?, ?it/s]"
      ]
     },
     "metadata": {},
     "output_type": "display_data"
    },
    {
     "data": {
      "application/vnd.jupyter.widget-view+json": {
       "model_id": "13975bbb50f949f79d15176f03765edf",
       "version_major": 2,
       "version_minor": 0
      },
      "text/plain": [
       "  0%|          | 0/4 [00:00<?, ?it/s]"
      ]
     },
     "metadata": {},
     "output_type": "display_data"
    },
    {
     "data": {
      "application/vnd.jupyter.widget-view+json": {
       "model_id": "0d45623566904b1aa1e6bd121d7e911f",
       "version_major": 2,
       "version_minor": 0
      },
      "text/plain": [
       "  0%|          | 0/1 [00:00<?, ?it/s]"
      ]
     },
     "metadata": {},
     "output_type": "display_data"
    },
    {
     "data": {
      "application/vnd.jupyter.widget-view+json": {
       "model_id": "a969a4e772bb43a6b25d480d44ad885d",
       "version_major": 2,
       "version_minor": 0
      },
      "text/plain": [
       "  0%|          | 0/4 [00:00<?, ?it/s]"
      ]
     },
     "metadata": {},
     "output_type": "display_data"
    },
    {
     "data": {
      "application/vnd.jupyter.widget-view+json": {
       "model_id": "de43c22d638f471bbf63aeb0611a9e1b",
       "version_major": 2,
       "version_minor": 0
      },
      "text/plain": [
       "  0%|          | 0/2 [00:00<?, ?it/s]"
      ]
     },
     "metadata": {},
     "output_type": "display_data"
    },
    {
     "data": {
      "application/vnd.jupyter.widget-view+json": {
       "model_id": "69db6b6d33aa481b9980be5325264230",
       "version_major": 2,
       "version_minor": 0
      },
      "text/plain": [
       "  0%|          | 0/3 [00:00<?, ?it/s]"
      ]
     },
     "metadata": {},
     "output_type": "display_data"
    },
    {
     "data": {
      "application/vnd.jupyter.widget-view+json": {
       "model_id": "02cbae86b927483989710c699591597b",
       "version_major": 2,
       "version_minor": 0
      },
      "text/plain": [
       "  0%|          | 0/5 [00:00<?, ?it/s]"
      ]
     },
     "metadata": {},
     "output_type": "display_data"
    },
    {
     "data": {
      "application/vnd.jupyter.widget-view+json": {
       "model_id": "9a8cbe6ebbab485da9d9441e3b59d60c",
       "version_major": 2,
       "version_minor": 0
      },
      "text/plain": [
       "  0%|          | 0/3 [00:00<?, ?it/s]"
      ]
     },
     "metadata": {},
     "output_type": "display_data"
    },
    {
     "data": {
      "application/vnd.jupyter.widget-view+json": {
       "model_id": "6b8873eea5ae4838861e29bd2221d09d",
       "version_major": 2,
       "version_minor": 0
      },
      "text/plain": [
       "  0%|          | 0/6 [00:00<?, ?it/s]"
      ]
     },
     "metadata": {},
     "output_type": "display_data"
    },
    {
     "data": {
      "application/vnd.jupyter.widget-view+json": {
       "model_id": "b7dd2089fd664f1fa9d82224f451bd7a",
       "version_major": 2,
       "version_minor": 0
      },
      "text/plain": [
       "  0%|          | 0/3 [00:00<?, ?it/s]"
      ]
     },
     "metadata": {},
     "output_type": "display_data"
    },
    {
     "data": {
      "application/vnd.jupyter.widget-view+json": {
       "model_id": "89e6cd3abf0649eaa4ffc1b76eef9904",
       "version_major": 2,
       "version_minor": 0
      },
      "text/plain": [
       "  0%|          | 0/1 [00:00<?, ?it/s]"
      ]
     },
     "metadata": {},
     "output_type": "display_data"
    },
    {
     "data": {
      "application/vnd.jupyter.widget-view+json": {
       "model_id": "bbaa04d846914d11a7fbb2dac63436bd",
       "version_major": 2,
       "version_minor": 0
      },
      "text/plain": [
       "  0%|          | 0/2 [00:00<?, ?it/s]"
      ]
     },
     "metadata": {},
     "output_type": "display_data"
    },
    {
     "data": {
      "application/vnd.jupyter.widget-view+json": {
       "model_id": "20ff88d7332243afa18d8cdb95999067",
       "version_major": 2,
       "version_minor": 0
      },
      "text/plain": [
       "  0%|          | 0/1 [00:00<?, ?it/s]"
      ]
     },
     "metadata": {},
     "output_type": "display_data"
    },
    {
     "data": {
      "application/vnd.jupyter.widget-view+json": {
       "model_id": "46138a99d30b4ab38d1b8a361f77346e",
       "version_major": 2,
       "version_minor": 0
      },
      "text/plain": [
       "  0%|          | 0/2 [00:00<?, ?it/s]"
      ]
     },
     "metadata": {},
     "output_type": "display_data"
    },
    {
     "data": {
      "application/vnd.jupyter.widget-view+json": {
       "model_id": "39264ebca2bc4b50a98bdbceac2d6211",
       "version_major": 2,
       "version_minor": 0
      },
      "text/plain": [
       "  0%|          | 0/6 [00:00<?, ?it/s]"
      ]
     },
     "metadata": {},
     "output_type": "display_data"
    },
    {
     "data": {
      "application/vnd.jupyter.widget-view+json": {
       "model_id": "ef827edc33aa49a39f4e00aeb9a9863a",
       "version_major": 2,
       "version_minor": 0
      },
      "text/plain": [
       "  0%|          | 0/4 [00:00<?, ?it/s]"
      ]
     },
     "metadata": {},
     "output_type": "display_data"
    },
    {
     "data": {
      "application/vnd.jupyter.widget-view+json": {
       "model_id": "26e81fa886454b1f981611d3992fd2f8",
       "version_major": 2,
       "version_minor": 0
      },
      "text/plain": [
       "  0%|          | 0/2 [00:00<?, ?it/s]"
      ]
     },
     "metadata": {},
     "output_type": "display_data"
    },
    {
     "data": {
      "application/vnd.jupyter.widget-view+json": {
       "model_id": "29a238ebe536411f8c232a72d81e1ff2",
       "version_major": 2,
       "version_minor": 0
      },
      "text/plain": [
       "  0%|          | 0/9 [00:00<?, ?it/s]"
      ]
     },
     "metadata": {},
     "output_type": "display_data"
    },
    {
     "data": {
      "application/vnd.jupyter.widget-view+json": {
       "model_id": "5276aa359db1487c8b5e0793a17e4733",
       "version_major": 2,
       "version_minor": 0
      },
      "text/plain": [
       "  0%|          | 0/4 [00:00<?, ?it/s]"
      ]
     },
     "metadata": {},
     "output_type": "display_data"
    },
    {
     "data": {
      "application/vnd.jupyter.widget-view+json": {
       "model_id": "6e96b5a1033844979ebd2f424bd002ea",
       "version_major": 2,
       "version_minor": 0
      },
      "text/plain": [
       "  0%|          | 0/5 [00:00<?, ?it/s]"
      ]
     },
     "metadata": {},
     "output_type": "display_data"
    },
    {
     "data": {
      "application/vnd.jupyter.widget-view+json": {
       "model_id": "964b8c2880824b098dcb036ab69215e3",
       "version_major": 2,
       "version_minor": 0
      },
      "text/plain": [
       "  0%|          | 0/11 [00:00<?, ?it/s]"
      ]
     },
     "metadata": {},
     "output_type": "display_data"
    },
    {
     "data": {
      "application/vnd.jupyter.widget-view+json": {
       "model_id": "f0fd2962ebd445f1bbecf1494269bd5a",
       "version_major": 2,
       "version_minor": 0
      },
      "text/plain": [
       "  0%|          | 0/3 [00:00<?, ?it/s]"
      ]
     },
     "metadata": {},
     "output_type": "display_data"
    },
    {
     "data": {
      "application/vnd.jupyter.widget-view+json": {
       "model_id": "4e7d3a22520c4709bb42d7a3ac9e3cbe",
       "version_major": 2,
       "version_minor": 0
      },
      "text/plain": [
       "  0%|          | 0/1 [00:00<?, ?it/s]"
      ]
     },
     "metadata": {},
     "output_type": "display_data"
    },
    {
     "data": {
      "application/vnd.jupyter.widget-view+json": {
       "model_id": "4f06de79a24b49598449c77462108e72",
       "version_major": 2,
       "version_minor": 0
      },
      "text/plain": [
       "  0%|          | 0/4 [00:00<?, ?it/s]"
      ]
     },
     "metadata": {},
     "output_type": "display_data"
    },
    {
     "name": "stdout",
     "output_type": "stream",
     "text": [
      "unified_binned/_cohort5/M2_D4_2019-06-20_14-10-17_50ms.pkl  finished\n",
      "unified_binned/_cohort5/M1_D15_2019-07-05_13-25-15_50ms.pkl  finished\n",
      "unified_binned/_cohort5/M2_D3_2019-06-19_13-42-04_50ms.pkl  finished\n",
      "unified_binned/_cohort5/M2_D10_2019-06-28_14-25-15_50ms.pkl  finished\n",
      "unified_binned/_cohort5/M1_D19_2019-07-11_13-29-24_50ms.pkl  finished\n",
      "unified_binned/_cohort5/M2_D7_2019-06-25_14-09-48_50ms.pkl  finished\n",
      "unified_binned/_cohort5/M2_D1_2019-06-17_13-48-10_50ms.pkl  finished\n",
      "unified_binned/_cohort5/M1_D13_2019-07-03_13-19-48_50ms.pkl  finished\n",
      "unified_binned/_cohort5/M1_D3_2019-06-19_12-58-11_50ms.pkl  finished\n",
      "unified_binned/_cohort5/M2_D14_2019-07-04_14-09-44_50ms.pkl  finished\n",
      "unified_binned/_cohort5/M1_D7_2019-06-25_13-29-10_50ms.pkl  finished\n",
      "unified_binned/_cohort5/M2_D12_2019-07-02_13-52-55_50ms.pkl  finished\n",
      "unified_binned/_cohort5/M1_D2_2019-06-18_13-25-18_50ms.pkl  finished\n",
      "unified_binned/_cohort5/M1_D6_2019-06-24_14-00-07_50ms.pkl  finished\n",
      "unified_binned/_cohort5/M2_D15_2019-07-05_14-01-02_50ms.pkl  finished\n",
      "unified_binned/_cohort5/M2_D5_2019-06-21_14-17-47_50ms.pkl  finished\n",
      "unified_binned/_cohort5/M1_D18_2019-07-10_13-33-11_50ms.pkl  finished\n",
      "unified_binned/_cohort5/M1_D5_2019-06-21_13-33-50_50ms.pkl  finished\n",
      "unified_binned/_cohort5/M2_D11_2019-07-01_13-50-47_50ms.pkl  finished\n",
      "unified_binned/_cohort5/M1_D11_2019-07-01_13-13-39_50ms.pkl  finished\n",
      "unified_binned/_cohort5/M1_D16_2019-07-08_13-52-45_50ms.pkl  finished\n",
      "unified_binned/_cohort5/M1_D9_2019-06-27_13-17-22_50ms.pkl  finished\n",
      "unified_binned/_cohort5/M1_D4_2019-06-20_13-25-59_50ms.pkl  finished\n",
      "unified_binned/_cohort5/M1_D10_2019-06-28_13-31-54_50ms.pkl  finished\n",
      "unified_binned/_cohort5/M1_D1_2019-06-17_13-10-34_50ms.pkl  finished\n",
      "unified_binned/_cohort5/M1_D14_2019-07-04_13-33-14_50ms.pkl  finished\n",
      "unified_binned/_cohort5/M2_D8_2019-06-26_14-10-21_50ms.pkl  finished\n",
      "unified_binned/_cohort5/M1_D8_2019-06-26_13-31-11_50ms.pkl  finished\n",
      "unified_binned/_cohort5/M2_D9_2019-06-27_13-58-07_50ms.pkl  finished\n"
     ]
    },
    {
     "data": {
      "text/plain": [
       "[None,\n",
       " None,\n",
       " None,\n",
       " None,\n",
       " None,\n",
       " None,\n",
       " None,\n",
       " None,\n",
       " None,\n",
       " None,\n",
       " None,\n",
       " None,\n",
       " None,\n",
       " None,\n",
       " None,\n",
       " None,\n",
       " None,\n",
       " None,\n",
       " None,\n",
       " None,\n",
       " None,\n",
       " None,\n",
       " None,\n",
       " None,\n",
       " None,\n",
       " None,\n",
       " None,\n",
       " None,\n",
       " None]"
      ]
     },
     "execution_count": 7,
     "metadata": {},
     "output_type": "execute_result"
    }
   ],
   "source": [
    "from multiprocessing import Pool\n",
    "\n",
    "session_list = glob.glob(f\"unified_binned/{cohort}/*\")\n",
    "def process_session(session):\n",
    "    print(session, ' started')\n",
    "    save_name=(session.split('/')[-1]).split(\".pkl\")[0]\n",
    "    save_name = f\"unconditional_uniform/{cohort}/{save_name}_u.pkl\"\n",
    "    data = pd.read_pickle(session)\n",
    "    u_vel, u_acc, u_rate = [], [], []\n",
    "    this_u_vel=None\n",
    "    for cluster_id in tqdm(range(len(data))):\n",
    "        [ds_rate, ds_vel, ds_pos, ds_acc, _, trial_type] = data.iloc[cluster_id].spikes_per50ms\n",
    "        if cluster_id==0:\n",
    "            ds_vel_all=ds_vel\n",
    "            this_u_vel = mg.zeroinflated_signal2uniform(ds_vel,ds_pos,numPointsPerSigma=50)\n",
    "            this_u_acc = mg.zeroinflated_signal2uniform(ds_acc,ds_pos,numPointsPerSigma=50)\n",
    "        else:\n",
    "            assert np.allclose(ds_vel_all,ds_vel)\n",
    "        this_u_rate = mg.zeroinflated_signal2uniform(ds_rate,ds_pos,numPointsPerSigma=50)\n",
    "        u_vel.append(this_u_vel)\n",
    "        u_acc.append(this_u_acc)\n",
    "        u_rate.append(this_u_rate)\n",
    "    data['u_vel']=u_vel\n",
    "    data['u_acc']=u_acc\n",
    "    data['u_rate']=u_rate\n",
    "    data.to_pickle(save_name)\n",
    "    print(session, ' finished')\n",
    "    \n",
    "pool = Pool(processes=32)                         # Create a multiprocessing Pool\n",
    "pool.map(process_session, session_list[:])  # process data_inputs iterable with pool\n",
    "#     try:\n",
    "#         open(save_name,'rb')\n",
    "#     except:\n",
    "#         print(save_name)\n",
    "        "
   ]
  },
  {
   "cell_type": "code",
   "execution_count": null,
   "metadata": {},
   "outputs": [],
   "source": []
  }
 ],
 "metadata": {
  "kernelspec": {
   "display_name": "SarahData",
   "language": "python",
   "name": "sarahdata"
  },
  "language_info": {
   "codemirror_mode": {
    "name": "ipython",
    "version": 3
   },
   "file_extension": ".py",
   "mimetype": "text/x-python",
   "name": "python",
   "nbconvert_exporter": "python",
   "pygments_lexer": "ipython3",
   "version": "3.8.12"
  }
 },
 "nbformat": 4,
 "nbformat_minor": 2
}
