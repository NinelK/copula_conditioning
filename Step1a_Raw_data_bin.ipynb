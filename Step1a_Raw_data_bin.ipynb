{
 "cells": [
  {
   "cell_type": "code",
   "execution_count": 122,
   "metadata": {},
   "outputs": [],
   "source": [
    "import pandas as pd\n",
    "import numpy as np\n",
    "import matplotlib.pyplot as plt\n",
    "import os\n",
    "os.chdir('in_vivo_ephys_openephys')\n",
    "\n",
    "os.chdir('../')"
   ]
  },
  {
   "cell_type": "code",
   "execution_count": 123,
   "metadata": {},
   "outputs": [],
   "source": [
    "pos_data = pd.read_pickle('position_data.pkl')\n",
    "fr_data = pd.read_pickle('spatial_firing.pkl')"
   ]
  },
  {
   "cell_type": "code",
   "execution_count": 129,
   "metadata": {},
   "outputs": [],
   "source": [
    "assert pos_data.index.start==0\n",
    "data4copula = [[] for i in range(len(fr_data))]\n",
    "for cluster in range(len(fr_data)):\n",
    "    when, count = np.unique((fr_data.iloc[cluster].firing_times.astype(\"int\")//pos_data.index.step),return_counts=True)\n",
    "    spikes = np.zeros(len(pos_data)).astype(\"int\")\n",
    "    spikes[when] = count\n",
    "    pos_data[\"spikes_per200ms\"] = spikes\n",
    "    data4copula[cluster] = [spikes,\n",
    "                            np.array(pos_data.speed_per200ms),\n",
    "                            np.array(pos_data.x_position_cm),\n",
    "#                              [],\n",
    "                            np.array(pos_data.trial_number),\n",
    "                            np.array(pos_data.trial_type)]\n",
    "fr_data[\"spikes_per200ms\"]=data4copula\n",
    "    "
   ]
  },
  {
   "cell_type": "code",
   "execution_count": 130,
   "metadata": {},
   "outputs": [
    {
     "data": {
      "text/plain": [
       "<matplotlib.collections.PathCollection at 0x7fbdee05cf40>"
      ]
     },
     "execution_count": 130,
     "metadata": {},
     "output_type": "execute_result"
    },
    {
     "data": {
      "image/png": "[encoded data removed]",
      "text/plain": [
       "<Figure size 432x288 with 1 Axes>"
      ]
     },
     "metadata": {
      "needs_background": "light"
     },
     "output_type": "display_data"
    }
   ],
   "source": [
    "plt.scatter(fr_data.iloc[0].spikes_per200ms[1],fr_data.iloc[0].spikes_per200ms[2],alpha=0.01)"
   ]
  },
  {
   "cell_type": "code",
   "execution_count": 131,
   "metadata": {},
   "outputs": [
    {
     "data": {
      "text/html": [
       "<div>\n",
       "<style scoped>\n",
       "    .dataframe tbody tr th:only-of-type {\n",
       "        vertical-align: middle;\n",
       "    }\n",
       "\n",
       "    .dataframe tbody tr th {\n",
       "        vertical-align: top;\n",
       "    }\n",
       "\n",
       "    .dataframe thead th {\n",
       "        text-align: right;\n",
       "    }\n",
       "</style>\n",
       "<table border=\"1\" class=\"dataframe\">\n",
       "  <thead>\n",
       "    <tr style=\"text-align: right;\">\n",
       "      <th></th>\n",
       "      <th>x_position_cm</th>\n",
       "      <th>time_seconds</th>\n",
       "      <th>speed_per200ms</th>\n",
       "      <th>trial_number</th>\n",
       "      <th>trial_type</th>\n",
       "      <th>spikes_per200ms</th>\n",
       "    </tr>\n",
       "  </thead>\n",
       "  <tbody>\n",
       "    <tr>\n",
       "      <th>0</th>\n",
       "      <td>183.00</td>\n",
       "      <td>0.000</td>\n",
       "      <td>0.000000</td>\n",
       "      <td>1</td>\n",
       "      <td>1</td>\n",
       "      <td>0</td>\n",
       "    </tr>\n",
       "    <tr>\n",
       "      <th>30</th>\n",
       "      <td>182.75</td>\n",
       "      <td>0.001</td>\n",
       "      <td>0.000000</td>\n",
       "      <td>1</td>\n",
       "      <td>1</td>\n",
       "      <td>0</td>\n",
       "    </tr>\n",
       "    <tr>\n",
       "      <th>60</th>\n",
       "      <td>182.75</td>\n",
       "      <td>0.002</td>\n",
       "      <td>0.000000</td>\n",
       "      <td>1</td>\n",
       "      <td>1</td>\n",
       "      <td>0</td>\n",
       "    </tr>\n",
       "    <tr>\n",
       "      <th>90</th>\n",
       "      <td>183.00</td>\n",
       "      <td>0.003</td>\n",
       "      <td>0.000000</td>\n",
       "      <td>1</td>\n",
       "      <td>1</td>\n",
       "      <td>0</td>\n",
       "    </tr>\n",
       "    <tr>\n",
       "      <th>120</th>\n",
       "      <td>182.75</td>\n",
       "      <td>0.004</td>\n",
       "      <td>0.000000</td>\n",
       "      <td>1</td>\n",
       "      <td>1</td>\n",
       "      <td>0</td>\n",
       "    </tr>\n",
       "    <tr>\n",
       "      <th>...</th>\n",
       "      <td>...</td>\n",
       "      <td>...</td>\n",
       "      <td>...</td>\n",
       "      <td>...</td>\n",
       "      <td>...</td>\n",
       "      <td>...</td>\n",
       "    </tr>\n",
       "    <tr>\n",
       "      <th>52304760</th>\n",
       "      <td>0.00</td>\n",
       "      <td>1743.492</td>\n",
       "      <td>0.006615</td>\n",
       "      <td>227</td>\n",
       "      <td>0</td>\n",
       "      <td>0</td>\n",
       "    </tr>\n",
       "    <tr>\n",
       "      <th>52304790</th>\n",
       "      <td>0.00</td>\n",
       "      <td>1743.493</td>\n",
       "      <td>0.000417</td>\n",
       "      <td>227</td>\n",
       "      <td>0</td>\n",
       "      <td>0</td>\n",
       "    </tr>\n",
       "    <tr>\n",
       "      <th>52304820</th>\n",
       "      <td>0.00</td>\n",
       "      <td>1743.494</td>\n",
       "      <td>0.000000</td>\n",
       "      <td>227</td>\n",
       "      <td>0</td>\n",
       "      <td>0</td>\n",
       "    </tr>\n",
       "    <tr>\n",
       "      <th>52304850</th>\n",
       "      <td>0.00</td>\n",
       "      <td>1743.495</td>\n",
       "      <td>0.000000</td>\n",
       "      <td>227</td>\n",
       "      <td>0</td>\n",
       "      <td>0</td>\n",
       "    </tr>\n",
       "    <tr>\n",
       "      <th>52304880</th>\n",
       "      <td>0.00</td>\n",
       "      <td>1743.496</td>\n",
       "      <td>0.000000</td>\n",
       "      <td>227</td>\n",
       "      <td>0</td>\n",
       "      <td>0</td>\n",
       "    </tr>\n",
       "  </tbody>\n",
       "</table>\n",
       "<p>1743497 rows × 6 columns</p>\n",
       "</div>"
      ],
      "text/plain": [
       "          x_position_cm  time_seconds  speed_per200ms  trial_number  \\\n",
       "0                183.00         0.000        0.000000             1   \n",
       "30               182.75         0.001        0.000000             1   \n",
       "60               182.75         0.002        0.000000             1   \n",
       "90               183.00         0.003        0.000000             1   \n",
       "120              182.75         0.004        0.000000             1   \n",
       "...                 ...           ...             ...           ...   \n",
       "52304760           0.00      1743.492        0.006615           227   \n",
       "52304790           0.00      1743.493        0.000417           227   \n",
       "52304820           0.00      1743.494        0.000000           227   \n",
       "52304850           0.00      1743.495        0.000000           227   \n",
       "52304880           0.00      1743.496        0.000000           227   \n",
       "\n",
       "          trial_type  spikes_per200ms  \n",
       "0                  1                0  \n",
       "30                 1                0  \n",
       "60                 1                0  \n",
       "90                 1                0  \n",
       "120                1                0  \n",
       "...              ...              ...  \n",
       "52304760           0                0  \n",
       "52304790           0                0  \n",
       "52304820           0                0  \n",
       "52304850           0                0  \n",
       "52304880           0                0  \n",
       "\n",
       "[1743497 rows x 6 columns]"
      ]
     },
     "execution_count": 131,
     "metadata": {},
     "output_type": "execute_result"
    }
   ],
   "source": [
    "pos_data"
   ]
  },
  {
   "cell_type": "code",
   "execution_count": 132,
   "metadata": {},
   "outputs": [],
   "source": [
    "session=fr_data.iloc[0].session_id\n",
    "fr_data.to_pickle(f\"{session}_200ms.pkl\",)"
   ]
  },
  {
   "cell_type": "code",
   "execution_count": 133,
   "metadata": {},
   "outputs": [
    {
     "data": {
      "text/plain": [
       "'M3_D18_2020-11-21_14-29-49'"
      ]
     },
     "execution_count": 133,
     "metadata": {},
     "output_type": "execute_result"
    }
   ],
   "source": [
    "session"
   ]
  },
  {
   "cell_type": "code",
   "execution_count": null,
   "metadata": {},
   "outputs": [],
   "source": []
  }
 ],
 "metadata": {
  "kernelspec": {
   "display_name": "SarahData",
   "language": "python",
   "name": "sarahdata"
  },
  "language_info": {
   "codemirror_mode": {
    "name": "ipython",
    "version": 3
   },
   "file_extension": ".py",
   "mimetype": "text/x-python",
   "name": "python",
   "nbconvert_exporter": "python",
   "pygments_lexer": "ipython3",
   "version": "3.8.12"
  }
 },
 "nbformat": 4,
 "nbformat_minor": 2
}
