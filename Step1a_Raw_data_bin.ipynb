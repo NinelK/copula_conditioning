{
 "cells": [
  {
   "cell_type": "code",
   "execution_count": 95,
   "metadata": {},
   "outputs": [],
   "source": [
    "import pandas as pd\n",
    "import numpy as np\n",
    "import matplotlib.pyplot as plt\n",
    "import os\n",
    "import glob\n",
    "import tqdm.notebook as tqdm\n",
    "os.chdir('in_vivo_ephys_openephys')\n",
    "\n",
    "os.chdir('../')"
   ]
  },
  {
   "cell_type": "code",
   "execution_count": 96,
   "metadata": {},
   "outputs": [
    {
     "data": {
      "text/plain": [
       "34869.94"
      ]
     },
     "execution_count": 96,
     "metadata": {},
     "output_type": "execute_result"
    }
   ],
   "source": [
    "pos_data = pd.read_pickle('position_data.pkl')\n",
    "fr_data = pd.read_pickle('spatial_firing.pkl')\n",
    "len(pos_data)/50"
   ]
  },
  {
   "cell_type": "code",
   "execution_count": 98,
   "metadata": {},
   "outputs": [
    {
     "data": {
      "text/html": [
       "<div>\n",
       "<style scoped>\n",
       "    .dataframe tbody tr th:only-of-type {\n",
       "        vertical-align: middle;\n",
       "    }\n",
       "\n",
       "    .dataframe tbody tr th {\n",
       "        vertical-align: top;\n",
       "    }\n",
       "\n",
       "    .dataframe thead th {\n",
       "        text-align: right;\n",
       "    }\n",
       "</style>\n",
       "<table border=\"1\" class=\"dataframe\">\n",
       "  <thead>\n",
       "    <tr style=\"text-align: right;\">\n",
       "      <th></th>\n",
       "      <th>x_position_cm</th>\n",
       "      <th>time_seconds</th>\n",
       "      <th>speed_per200ms</th>\n",
       "      <th>trial_number</th>\n",
       "      <th>trial_type</th>\n",
       "    </tr>\n",
       "  </thead>\n",
       "  <tbody>\n",
       "    <tr>\n",
       "      <th>0</th>\n",
       "      <td>183.00</td>\n",
       "      <td>0.000</td>\n",
       "      <td>0.000000</td>\n",
       "      <td>1</td>\n",
       "      <td>1</td>\n",
       "    </tr>\n",
       "    <tr>\n",
       "      <th>30</th>\n",
       "      <td>182.75</td>\n",
       "      <td>0.001</td>\n",
       "      <td>0.000000</td>\n",
       "      <td>1</td>\n",
       "      <td>1</td>\n",
       "    </tr>\n",
       "    <tr>\n",
       "      <th>60</th>\n",
       "      <td>182.75</td>\n",
       "      <td>0.002</td>\n",
       "      <td>0.000000</td>\n",
       "      <td>1</td>\n",
       "      <td>1</td>\n",
       "    </tr>\n",
       "    <tr>\n",
       "      <th>90</th>\n",
       "      <td>183.00</td>\n",
       "      <td>0.003</td>\n",
       "      <td>0.000000</td>\n",
       "      <td>1</td>\n",
       "      <td>1</td>\n",
       "    </tr>\n",
       "    <tr>\n",
       "      <th>120</th>\n",
       "      <td>182.75</td>\n",
       "      <td>0.004</td>\n",
       "      <td>0.000000</td>\n",
       "      <td>1</td>\n",
       "      <td>1</td>\n",
       "    </tr>\n",
       "    <tr>\n",
       "      <th>...</th>\n",
       "      <td>...</td>\n",
       "      <td>...</td>\n",
       "      <td>...</td>\n",
       "      <td>...</td>\n",
       "      <td>...</td>\n",
       "    </tr>\n",
       "    <tr>\n",
       "      <th>52304760</th>\n",
       "      <td>0.00</td>\n",
       "      <td>1743.492</td>\n",
       "      <td>0.006615</td>\n",
       "      <td>227</td>\n",
       "      <td>0</td>\n",
       "    </tr>\n",
       "    <tr>\n",
       "      <th>52304790</th>\n",
       "      <td>0.00</td>\n",
       "      <td>1743.493</td>\n",
       "      <td>0.000417</td>\n",
       "      <td>227</td>\n",
       "      <td>0</td>\n",
       "    </tr>\n",
       "    <tr>\n",
       "      <th>52304820</th>\n",
       "      <td>0.00</td>\n",
       "      <td>1743.494</td>\n",
       "      <td>0.000000</td>\n",
       "      <td>227</td>\n",
       "      <td>0</td>\n",
       "    </tr>\n",
       "    <tr>\n",
       "      <th>52304850</th>\n",
       "      <td>0.00</td>\n",
       "      <td>1743.495</td>\n",
       "      <td>0.000000</td>\n",
       "      <td>227</td>\n",
       "      <td>0</td>\n",
       "    </tr>\n",
       "    <tr>\n",
       "      <th>52304880</th>\n",
       "      <td>0.00</td>\n",
       "      <td>1743.496</td>\n",
       "      <td>0.000000</td>\n",
       "      <td>227</td>\n",
       "      <td>0</td>\n",
       "    </tr>\n",
       "  </tbody>\n",
       "</table>\n",
       "<p>1743497 rows × 5 columns</p>\n",
       "</div>"
      ],
      "text/plain": [
       "          x_position_cm  time_seconds  speed_per200ms  trial_number  \\\n",
       "0                183.00         0.000        0.000000             1   \n",
       "30               182.75         0.001        0.000000             1   \n",
       "60               182.75         0.002        0.000000             1   \n",
       "90               183.00         0.003        0.000000             1   \n",
       "120              182.75         0.004        0.000000             1   \n",
       "...                 ...           ...             ...           ...   \n",
       "52304760           0.00      1743.492        0.006615           227   \n",
       "52304790           0.00      1743.493        0.000417           227   \n",
       "52304820           0.00      1743.494        0.000000           227   \n",
       "52304850           0.00      1743.495        0.000000           227   \n",
       "52304880           0.00      1743.496        0.000000           227   \n",
       "\n",
       "          trial_type  \n",
       "0                  1  \n",
       "30                 1  \n",
       "60                 1  \n",
       "90                 1  \n",
       "120                1  \n",
       "...              ...  \n",
       "52304760           0  \n",
       "52304790           0  \n",
       "52304820           0  \n",
       "52304850           0  \n",
       "52304880           0  \n",
       "\n",
       "[1743497 rows x 5 columns]"
      ]
     },
     "execution_count": 98,
     "metadata": {},
     "output_type": "execute_result"
    }
   ],
   "source": [
    "pos_data"
   ]
  },
  {
   "cell_type": "code",
   "execution_count": 101,
   "metadata": {},
   "outputs": [
    {
     "data": {
      "text/plain": [
       "(1743496,)"
      ]
     },
     "execution_count": 101,
     "metadata": {},
     "output_type": "execute_result"
    }
   ],
   "source": [
    "np.diff(pos_data.speed_per200ms).shape"
   ]
  },
  {
   "cell_type": "code",
   "execution_count": 117,
   "metadata": {},
   "outputs": [],
   "source": [
    "assert pos_data.index.start==0\n",
    "bin_size=50\n",
    "w=4\n",
    "f = np.linspace(-5*w,5*w,10*w-1)\n",
    "K = 1/(np.sqrt(2*np.pi) * w )*np.exp(-f**2/(2*w**2))\n",
    "data4copula = [[] for i in range(len(fr_data))]\n",
    "for cluster in range(len(fr_data)):\n",
    "    when, count = np.unique((fr_data.iloc[cluster].firing_times.astype(\"int\")//(pos_data.index.step*bin_size)),return_counts=True)\n",
    "    spikes = np.zeros(len(pos_data.speed_per200ms[::bin_size])).astype(\"int\")\n",
    "    spikes[when] = count\n",
    "    rate = np.zeros(len(pos_data.speed_per200ms[::bin_size])).astype(\"float\")\n",
    "    rate = np.convolve(spikes,K,mode=\"same\")\n",
    "#     pos_data[\"spikes_per200ms\"] = spikes\n",
    "    data4copula[cluster] = [rate,\n",
    "                            np.array(pos_data.speed_per200ms[::bin_size]),\n",
    "                            np.array(pos_data.x_position_cm[::bin_size]),\n",
    "                            np.array(np.diff(pos_data.speed_per200ms)[::bin_size]*1e3),\n",
    "                            np.array(pos_data.trial_number[::bin_size]),\n",
    "                            np.array(pos_data.trial_type[::bin_size])]\n",
    "# fr_data[\"spikes_per200ms\"]=data4copula\n",
    "    "
   ]
  },
  {
   "cell_type": "code",
   "execution_count": 120,
   "metadata": {},
   "outputs": [],
   "source": [
    "new_data=pd.DataFrame({\"session_id\": fr_data.session_id, \n",
    "                       'cluster_id': fr_data.cluster_id, \n",
    "                       \"spikes_per50ms\": data4copula})"
   ]
  },
  {
   "cell_type": "code",
   "execution_count": 121,
   "metadata": {},
   "outputs": [
    {
     "data": {
      "text/plain": [
       "<matplotlib.collections.PathCollection at 0x7f4a64bdaa30>"
      ]
     },
     "execution_count": 121,
     "metadata": {},
     "output_type": "execute_result"
    },
    {
     "data": {
      "image/png": "[encoded data removed]",
      "text/plain": [
       "<Figure size 432x288 with 1 Axes>"
      ]
     },
     "metadata": {
      "needs_background": "light"
     },
     "output_type": "display_data"
    }
   ],
   "source": [
    "plt.scatter(new_data.iloc[0].spikes_per50ms[2],new_data.iloc[0].spikes_per50ms[3],alpha=0.01)"
   ]
  },
  {
   "cell_type": "code",
   "execution_count": 122,
   "metadata": {},
   "outputs": [
    {
     "data": {
      "text/html": [
       "<div>\n",
       "<style scoped>\n",
       "    .dataframe tbody tr th:only-of-type {\n",
       "        vertical-align: middle;\n",
       "    }\n",
       "\n",
       "    .dataframe tbody tr th {\n",
       "        vertical-align: top;\n",
       "    }\n",
       "\n",
       "    .dataframe thead th {\n",
       "        text-align: right;\n",
       "    }\n",
       "</style>\n",
       "<table border=\"1\" class=\"dataframe\">\n",
       "  <thead>\n",
       "    <tr style=\"text-align: right;\">\n",
       "      <th></th>\n",
       "      <th>x_position_cm</th>\n",
       "      <th>time_seconds</th>\n",
       "      <th>speed_per200ms</th>\n",
       "      <th>trial_number</th>\n",
       "      <th>trial_type</th>\n",
       "    </tr>\n",
       "  </thead>\n",
       "  <tbody>\n",
       "    <tr>\n",
       "      <th>0</th>\n",
       "      <td>183.00</td>\n",
       "      <td>0.000</td>\n",
       "      <td>0.000000</td>\n",
       "      <td>1</td>\n",
       "      <td>1</td>\n",
       "    </tr>\n",
       "    <tr>\n",
       "      <th>30</th>\n",
       "      <td>182.75</td>\n",
       "      <td>0.001</td>\n",
       "      <td>0.000000</td>\n",
       "      <td>1</td>\n",
       "      <td>1</td>\n",
       "    </tr>\n",
       "    <tr>\n",
       "      <th>60</th>\n",
       "      <td>182.75</td>\n",
       "      <td>0.002</td>\n",
       "      <td>0.000000</td>\n",
       "      <td>1</td>\n",
       "      <td>1</td>\n",
       "    </tr>\n",
       "    <tr>\n",
       "      <th>90</th>\n",
       "      <td>183.00</td>\n",
       "      <td>0.003</td>\n",
       "      <td>0.000000</td>\n",
       "      <td>1</td>\n",
       "      <td>1</td>\n",
       "    </tr>\n",
       "    <tr>\n",
       "      <th>120</th>\n",
       "      <td>182.75</td>\n",
       "      <td>0.004</td>\n",
       "      <td>0.000000</td>\n",
       "      <td>1</td>\n",
       "      <td>1</td>\n",
       "    </tr>\n",
       "    <tr>\n",
       "      <th>...</th>\n",
       "      <td>...</td>\n",
       "      <td>...</td>\n",
       "      <td>...</td>\n",
       "      <td>...</td>\n",
       "      <td>...</td>\n",
       "    </tr>\n",
       "    <tr>\n",
       "      <th>52304760</th>\n",
       "      <td>0.00</td>\n",
       "      <td>1743.492</td>\n",
       "      <td>0.006615</td>\n",
       "      <td>227</td>\n",
       "      <td>0</td>\n",
       "    </tr>\n",
       "    <tr>\n",
       "      <th>52304790</th>\n",
       "      <td>0.00</td>\n",
       "      <td>1743.493</td>\n",
       "      <td>0.000417</td>\n",
       "      <td>227</td>\n",
       "      <td>0</td>\n",
       "    </tr>\n",
       "    <tr>\n",
       "      <th>52304820</th>\n",
       "      <td>0.00</td>\n",
       "      <td>1743.494</td>\n",
       "      <td>0.000000</td>\n",
       "      <td>227</td>\n",
       "      <td>0</td>\n",
       "    </tr>\n",
       "    <tr>\n",
       "      <th>52304850</th>\n",
       "      <td>0.00</td>\n",
       "      <td>1743.495</td>\n",
       "      <td>0.000000</td>\n",
       "      <td>227</td>\n",
       "      <td>0</td>\n",
       "    </tr>\n",
       "    <tr>\n",
       "      <th>52304880</th>\n",
       "      <td>0.00</td>\n",
       "      <td>1743.496</td>\n",
       "      <td>0.000000</td>\n",
       "      <td>227</td>\n",
       "      <td>0</td>\n",
       "    </tr>\n",
       "  </tbody>\n",
       "</table>\n",
       "<p>1743497 rows × 5 columns</p>\n",
       "</div>"
      ],
      "text/plain": [
       "          x_position_cm  time_seconds  speed_per200ms  trial_number  \\\n",
       "0                183.00         0.000        0.000000             1   \n",
       "30               182.75         0.001        0.000000             1   \n",
       "60               182.75         0.002        0.000000             1   \n",
       "90               183.00         0.003        0.000000             1   \n",
       "120              182.75         0.004        0.000000             1   \n",
       "...                 ...           ...             ...           ...   \n",
       "52304760           0.00      1743.492        0.006615           227   \n",
       "52304790           0.00      1743.493        0.000417           227   \n",
       "52304820           0.00      1743.494        0.000000           227   \n",
       "52304850           0.00      1743.495        0.000000           227   \n",
       "52304880           0.00      1743.496        0.000000           227   \n",
       "\n",
       "          trial_type  \n",
       "0                  1  \n",
       "30                 1  \n",
       "60                 1  \n",
       "90                 1  \n",
       "120                1  \n",
       "...              ...  \n",
       "52304760           0  \n",
       "52304790           0  \n",
       "52304820           0  \n",
       "52304850           0  \n",
       "52304880           0  \n",
       "\n",
       "[1743497 rows x 5 columns]"
      ]
     },
     "execution_count": 122,
     "metadata": {},
     "output_type": "execute_result"
    }
   ],
   "source": [
    "pos_data"
   ]
  },
  {
   "cell_type": "code",
   "execution_count": 123,
   "metadata": {},
   "outputs": [],
   "source": [
    "session=new_data.iloc[0].session_id\n",
    "new_data.to_pickle(f\"{session}_50ms.pkl\",)"
   ]
  },
  {
   "cell_type": "code",
   "execution_count": 12,
   "metadata": {},
   "outputs": [
    {
     "data": {
      "text/plain": [
       "'M3_D18_2020-11-21_14-29-49'"
      ]
     },
     "execution_count": 12,
     "metadata": {},
     "output_type": "execute_result"
    }
   ],
   "source": [
    "session"
   ]
  },
  {
   "cell_type": "markdown",
   "metadata": {},
   "source": [
    "# Serialize"
   ]
  },
  {
   "cell_type": "code",
   "execution_count": 92,
   "metadata": {},
   "outputs": [
    {
     "data": {
      "text/plain": [
       "'Cohort7_october2020'"
      ]
     },
     "execution_count": 92,
     "metadata": {},
     "output_type": "execute_result"
    }
   ],
   "source": [
    "cohorts = glob.glob(\"Cohort*\")\n",
    "cohort = cohorts[0]\n",
    "cohort"
   ]
  },
  {
   "cell_type": "code",
   "execution_count": 124,
   "metadata": {},
   "outputs": [
    {
     "data": {
      "application/vnd.jupyter.widget-view+json": {
       "model_id": "93773c4ecbdf460b9d23af1c09815c5f",
       "version_major": 2,
       "version_minor": 0
      },
      "text/plain": [
       "  0%|          | 0/119 [00:00<?, ?it/s]"
      ]
     },
     "metadata": {},
     "output_type": "display_data"
    },
    {
     "name": "stdout",
     "output_type": "stream",
     "text": [
      "Cohort7_october2020/M7_D33_2020-12-12_15-39-40\n",
      "Cohort7_october2020/M4_D2_2020-10-30_15-23-49\n",
      "Cohort7_october2020/M4_D25_2020-11-30_15-49-06\n",
      "Cohort7_october2020/M4_D4_2020-11-01_14-53-03\n",
      "Cohort7_october2020/M4_D21_2020-11-26_15-33-37\n",
      "Cohort7_october2020/M4_D24_2020-11-29_15-42-16\n",
      "Cohort7_october2020/M7_D10_2020-11-09_16-16-06\n",
      "Cohort7_october2020/M4_D29_2020-12-06_15-53-34\n",
      "Cohort7_october2020/M4_D7_2020-11-06_14-58-44\n",
      "Cohort7_october2020/M4_D3_2020-10-31_14-46-29\n",
      "Cohort7_october2020/M4_D20_2020-11-23_15-08-48\n",
      "Cohort7_october2020/M7_D3_2020-10-31_16-01-32\n",
      "Cohort7_october2020/M4_D1_2020-10-29_14-21-55\n",
      "Cohort7_october2020/M7_D27_2020-12-04_16-24-48\n"
     ]
    }
   ],
   "source": [
    "mice = glob.glob(f\"{cohort}/M*\")\n",
    "\n",
    "#setup kernel\n",
    "bin_size=50\n",
    "w=4\n",
    "f = np.linspace(-5*w,5*w,10*w-1)\n",
    "K = 1/(np.sqrt(2*np.pi) * w )*np.exp(-f**2/(2*w**2))\n",
    "\n",
    "for mouse in tqdm.tqdm(mice):\n",
    "    pos_data = pd.read_pickle(f'{mouse}/position_data.pkl')\n",
    "    fr_data = pd.read_pickle(f'{mouse}/spatial_firing.pkl')\n",
    "    \n",
    "    assert pos_data.index.start==0\n",
    "    data4copula = [[] for i in range(len(fr_data))]\n",
    "    for cluster in range(len(fr_data)):\n",
    "        when, count = np.unique((fr_data.iloc[cluster].firing_times.astype(\"int\")//(pos_data.index.step*bin_size)),return_counts=True)\n",
    "        spikes = np.zeros(len(pos_data.speed_per200ms[::bin_size])).astype(\"int\")\n",
    "        spikes[when] = count\n",
    "        rate = np.zeros(len(pos_data.speed_per200ms[::bin_size])).astype(\"float\")\n",
    "        rate = np.convolve(spikes,K,mode=\"same\")\n",
    "    #     pos_data[\"spikes_per200ms\"] = spikes\n",
    "        data4copula[cluster] = [rate,\n",
    "                                np.array(pos_data.speed_per200ms[::bin_size]),\n",
    "                                np.array(pos_data.x_position_cm[::bin_size]),\n",
    "                                np.diff(pos_data.speed_per200ms)[::bin_size]*1e3,\n",
    "                                np.array(pos_data.trial_number[::bin_size]),\n",
    "                                np.array(pos_data.trial_type[::bin_size])]\n",
    "    # fr_data[\"spikes_per200ms\"]=data4copula\n",
    "    new_data=pd.DataFrame({\"session_id\": fr_data.session_id, \n",
    "                       'cluster_id': fr_data.cluster_id, \n",
    "                       \"spikes_per50ms\": data4copula})\n",
    "    if len(fr_data.session_id)==0:\n",
    "        print(mouse)\n",
    "        pass\n",
    "    else:\n",
    "        session=new_data.iloc[0].session_id\n",
    "        new_data.to_pickle(f\"unified_binned/{cohort}/{session}_50ms.pkl\",)"
   ]
  },
  {
   "cell_type": "code",
   "execution_count": 94,
   "metadata": {},
   "outputs": [
    {
     "data": {
      "text/plain": [
       "['unified_binned/Cohort7_october2020/M3_D1_2020-10-29_13-45-02_50ms.pkl',\n",
       " 'unified_binned/Cohort7_october2020/M7_D26_2020-12-03_16-01-44_50ms.pkl',\n",
       " 'unified_binned/Cohort7_october2020/M3_D24_2020-11-29_15-08-39_50ms.pkl',\n",
       " 'unified_binned/Cohort7_october2020/M4_D18_2020-11-21_15-04-19_50ms.pkl',\n",
       " 'unified_binned/Cohort7_october2020/M7_D1_2020-10-29_15-44-22_50ms.pkl',\n",
       " 'unified_binned/Cohort7_october2020/M3_D22_2020-11-27_15-01-24_50ms.pkl',\n",
       " 'unified_binned/Cohort7_october2020/M4_D19_2020-11-22_15-21-58_50ms.pkl',\n",
       " 'unified_binned/Cohort7_october2020/M3_D7_2020-11-06_14-22-53_50ms.pkl',\n",
       " 'unified_binned/Cohort7_october2020/M7_D12_2020-11-13_16-20-54_50ms.pkl',\n",
       " 'unified_binned/Cohort7_october2020/M3_D15_2020-11-16_14-21-36_50ms.pkl',\n",
       " 'unified_binned/Cohort7_october2020/M6_D3_2020-10-31_15-27-13_50ms.pkl',\n",
       " 'unified_binned/Cohort7_october2020/M7_D22_2020-11-27_16-11-24_50ms.pkl',\n",
       " 'unified_binned/Cohort7_october2020/M3_D23_2020-11-28_15-13-28_50ms.pkl',\n",
       " 'unified_binned/Cohort7_october2020/M3_D33_2020-12-12_15-02-16_50ms.pkl',\n",
       " 'unified_binned/Cohort7_october2020/M3_D31_2020-12-10_15-13-00_50ms.pkl',\n",
       " 'unified_binned/Cohort7_october2020/M4_D10_2020-11-09_15-04-26_50ms.pkl',\n",
       " 'unified_binned/Cohort7_october2020/M6_D25_2020-11-30_17-03-20_50ms.pkl',\n",
       " 'unified_binned/Cohort7_october2020/M7_D16_2020-11-19_15-01-59_50ms.pkl',\n",
       " 'unified_binned/Cohort7_october2020/M4_D23_2020-11-28_15-45-12_50ms.pkl',\n",
       " 'unified_binned/Cohort7_october2020/M3_D2_2020-10-30_14-43-08_50ms.pkl',\n",
       " 'unified_binned/Cohort7_october2020/M3_D21_2020-11-26_14-59-39_50ms.pkl',\n",
       " 'unified_binned/Cohort7_october2020/M4_D22_2020-11-27_15-38-49_50ms.pkl',\n",
       " 'unified_binned/Cohort7_october2020/M3_D35_2020-12-14_15-15-30_50ms.pkl',\n",
       " 'unified_binned/Cohort7_october2020/M7_D28_2020-12-05_16-15-10_50ms.pkl',\n",
       " 'unified_binned/Cohort7_october2020/M3_D34_2020-12-13_15-16-58_50ms.pkl',\n",
       " 'unified_binned/Cohort7_october2020/M3_D4_2020-11-01_14-12-26_50ms.pkl',\n",
       " 'unified_binned/Cohort7_october2020/M6_D22_2020-11-27_16-59-03_50ms.pkl',\n",
       " 'unified_binned/Cohort7_october2020/M6_D18_2020-11-21_16-52-35_50ms.pkl',\n",
       " 'unified_binned/Cohort7_october2020/M7_D4_2020-11-01_16-05-43_50ms.pkl',\n",
       " 'unified_binned/Cohort7_october2020/M3_D5_2020-11-02_14-10-23_50ms.pkl',\n",
       " 'unified_binned/Cohort7_october2020/M7_D17_2020-11-20_16-15-32_50ms.pkl',\n",
       " 'unified_binned/Cohort7_october2020/M6_D23_2020-11-28_17-01-43_50ms.pkl',\n",
       " 'unified_binned/Cohort7_october2020/M7_D30_2020-12-07_16-04-16_50ms.pkl',\n",
       " 'unified_binned/Cohort7_october2020/M4_D16_2020-11-19_13-52-10_50ms.pkl',\n",
       " 'unified_binned/Cohort7_october2020/M6_D8_2020-11-07_15-49-19_50ms.pkl',\n",
       " 'unified_binned/Cohort7_october2020/M6_D14_2020-11-15_15-37-28_50ms.pkl',\n",
       " 'unified_binned/Cohort7_october2020/M6_D10_2020-11-09_15-44-20_50ms.pkl',\n",
       " 'unified_binned/Cohort7_october2020/M6_D7_2020-11-06_15-37-15_50ms.pkl',\n",
       " 'unified_binned/Cohort7_october2020/M4_D6_2020-11-05_15-13-56_50ms.pkl',\n",
       " 'unified_binned/Cohort7_october2020/M4_D11_2020-11-12_15-03-41_50ms.pkl',\n",
       " 'unified_binned/Cohort7_october2020/M6_D13_2020-11-14_15-40-42_50ms.pkl',\n",
       " 'unified_binned/Cohort7_october2020/M6_D4_2020-11-01_15-27-08_50ms.pkl',\n",
       " 'unified_binned/Cohort7_october2020/M7_D11_2020-11-12_16-22-33_50ms.pkl',\n",
       " 'unified_binned/Cohort7_october2020/M3_D29_2020-12-06_15-20-09_50ms.pkl',\n",
       " 'unified_binned/Cohort7_october2020/M6_D11_2020-11-12_15-39-10_50ms.pkl',\n",
       " 'unified_binned/Cohort7_october2020/M3_D27_2020-12-04_15-10-38_50ms.pkl',\n",
       " 'unified_binned/Cohort7_october2020/M6_D6_2020-11-05_15-50-22_50ms.pkl',\n",
       " 'unified_binned/Cohort7_october2020/M4_D5_2020-11-02_14-45-55_50ms.pkl',\n",
       " 'unified_binned/Cohort7_october2020/M7_D15_2020-11-16_16-16-33_50ms.pkl',\n",
       " 'unified_binned/Cohort7_october2020/M4_D14_2020-11-15_14-58-40_50ms.pkl',\n",
       " 'unified_binned/Cohort7_october2020/M4_D17_2020-11-20_15-03-04_50ms.pkl',\n",
       " 'unified_binned/Cohort7_october2020/M6_D26_2020-12-03_16-42-12_50ms.pkl',\n",
       " 'unified_binned/Cohort7_october2020/M3_D14_2020-11-15_14-22-52_50ms.pkl',\n",
       " 'unified_binned/Cohort7_october2020/M3_D32_2020-12-11_15-06-08_50ms.pkl',\n",
       " 'unified_binned/Cohort7_october2020/M4_D26_2020-12-03_15-28-32_50ms.pkl',\n",
       " 'unified_binned/Cohort7_october2020/M7_D21_2020-11-26_16-09-48_50ms.pkl',\n",
       " 'unified_binned/Cohort7_october2020/M7_D34_2020-12-13_15-49-08_50ms.pkl',\n",
       " 'unified_binned/Cohort7_october2020/M7_D32_2020-12-11_15-40-03_50ms.pkl',\n",
       " 'unified_binned/Cohort7_october2020/M7_D23_2020-11-28_16-17-31_50ms.pkl',\n",
       " 'unified_binned/Cohort7_october2020/M7_D25_2020-11-30_16-24-49_50ms.pkl',\n",
       " 'unified_binned/Cohort7_october2020/M7_D5_2020-11-02_15-52-51_50ms.pkl',\n",
       " 'unified_binned/Cohort7_october2020/M3_D12_2020-11-13_14-27-08_50ms.pkl',\n",
       " 'unified_binned/Cohort7_october2020/M7_D6_2020-11-05_16-26-28_50ms.pkl',\n",
       " 'unified_binned/Cohort7_october2020/M7_D8_2020-11-07_16-24-43_50ms.pkl',\n",
       " 'unified_binned/Cohort7_october2020/M6_D15_2020-11-16_15-36-31_50ms.pkl',\n",
       " 'unified_binned/Cohort7_october2020/M3_D8_2020-11-07_14-39-22_50ms.pkl',\n",
       " 'unified_binned/Cohort7_october2020/M6_D1_2020-10-29_15-04-09_50ms.pkl',\n",
       " 'unified_binned/Cohort7_october2020/M3_D16_2020-11-19_13-12-12_50ms.pkl',\n",
       " 'unified_binned/Cohort7_october2020/M7_D31_2020-12-10_15-52-42_50ms.pkl',\n",
       " 'unified_binned/Cohort7_october2020/M7_D29_2020-12-06_16-26-39_50ms.pkl',\n",
       " 'unified_binned/Cohort7_october2020/M3_D20_2020-11-23_14-32-20_50ms.pkl',\n",
       " 'unified_binned/Cohort7_october2020/M7_D20_2020-11-23_15-47-55_50ms.pkl',\n",
       " 'unified_binned/Cohort7_october2020/M7_D19_2020-11-22_16-06-11_50ms.pkl',\n",
       " 'unified_binned/Cohort7_october2020/M6_D17_2020-11-20_15-40-03_50ms.pkl',\n",
       " 'unified_binned/Cohort7_october2020/M3_D9_2020-11-08_14-37-47_50ms.pkl',\n",
       " 'unified_binned/Cohort7_october2020/M4_D30_2020-12-07_15-27-58_50ms.pkl',\n",
       " 'unified_binned/Cohort7_october2020/M7_D9_2020-11-08_16-29-26_50ms.pkl',\n",
       " 'unified_binned/Cohort7_october2020/M6_D12_2020-11-13_15-44-22_50ms.pkl',\n",
       " 'unified_binned/Cohort7_october2020/M3_D10_2020-11-09_14-28-59_50ms.pkl',\n",
       " 'unified_binned/Cohort7_october2020/M3_D25_2020-11-30_15-13-15_50ms.pkl',\n",
       " 'unified_binned/Cohort7_october2020/M6_D16_2020-11-19_14-30-17_50ms.pkl',\n",
       " 'unified_binned/Cohort7_october2020/M7_D7_2020-11-06_16-14-44_50ms.pkl',\n",
       " 'unified_binned/Cohort7_october2020/M4_D9_2020-11-08_15-18-01_50ms.pkl',\n",
       " 'unified_binned/Cohort7_october2020/M4_D13_2020-11-14_14-58-42_50ms.pkl',\n",
       " 'unified_binned/Cohort7_october2020/M4_D28_2020-12-05_15-44-27_50ms.pkl',\n",
       " 'unified_binned/Cohort7_october2020/M4_D8_2020-11-07_15-13-58_50ms.pkl',\n",
       " 'unified_binned/Cohort7_october2020/M3_D17_2020-11-20_14-23-44_50ms.pkl',\n",
       " 'unified_binned/Cohort7_october2020/M4_D27_2020-12-04_15-49-07_50ms.pkl',\n",
       " 'unified_binned/Cohort7_october2020/M7_D13_2020-11-14_16-14-33_50ms.pkl',\n",
       " 'unified_binned/Cohort7_october2020/M6_D5_2020-11-02_15-18-00_50ms.pkl',\n",
       " 'unified_binned/Cohort7_october2020/M3_D18_2020-11-21_14-29-49_50ms.pkl',\n",
       " 'unified_binned/Cohort7_october2020/M4_D12_2020-11-13_15-08-51_50ms.pkl',\n",
       " 'unified_binned/Cohort7_october2020/M3_D28_2020-12-05_15-05-24_50ms.pkl',\n",
       " 'unified_binned/Cohort7_october2020/M4_D15_2020-11-16_14-59-09_50ms.pkl',\n",
       " 'unified_binned/Cohort7_october2020/M6_D9_2020-11-08_15-53-11_50ms.pkl',\n",
       " 'unified_binned/Cohort7_october2020/M7_D24_2020-11-29_16-15-28_50ms.pkl',\n",
       " 'unified_binned/Cohort7_october2020/M6_D24_2020-11-29_17-08-18_50ms.pkl',\n",
       " 'unified_binned/Cohort7_october2020/M3_D3_2020-10-31_14-05-19_50ms.pkl',\n",
       " 'unified_binned/Cohort7_october2020/M3_D11_2020-11-12_14-26-13_50ms.pkl',\n",
       " 'unified_binned/Cohort7_october2020/M3_D6_2020-11-05_14-37-17_50ms.pkl',\n",
       " 'unified_binned/Cohort7_october2020/M3_D26_2020-12-03_14-51-03_50ms.pkl',\n",
       " 'unified_binned/Cohort7_october2020/M7_D14_2020-11-15_16-14-54_50ms.pkl',\n",
       " 'unified_binned/Cohort7_october2020/M3_D19_2020-11-22_14-48-51_50ms.pkl',\n",
       " 'unified_binned/Cohort7_october2020/M3_D13_2020-11-14_14-25-12_50ms.pkl',\n",
       " 'unified_binned/Cohort7_october2020/M3_D30_2020-12-07_14-55-41_50ms.pkl']"
      ]
     },
     "execution_count": 94,
     "metadata": {},
     "output_type": "execute_result"
    }
   ],
   "source": [
    "glob.glob(f\"unified_binned/{cohort}/*\")"
   ]
  },
  {
   "cell_type": "code",
   "execution_count": 90,
   "metadata": {},
   "outputs": [
    {
     "data": {
      "text/plain": [
       "['Cohort7_october2020/M7_D35_2020-12-14_15-48-14/processed_position_data_unsmoothened.pkl',\n",
       " 'Cohort7_october2020/M7_D35_2020-12-14_15-48-14/position_data.pkl',\n",
       " 'Cohort7_october2020/M7_D35_2020-12-14_15-48-14/spatial_firing.pkl']"
      ]
     },
     "execution_count": 90,
     "metadata": {},
     "output_type": "execute_result"
    }
   ],
   "source": [
    "glob.glob(f\"{mice[33]}/*\")"
   ]
  },
  {
   "cell_type": "code",
   "execution_count": null,
   "metadata": {},
   "outputs": [],
   "source": []
  }
 ],
 "metadata": {
  "kernelspec": {
   "display_name": "SarahData",
   "language": "python",
   "name": "sarahdata"
  },
  "language_info": {
   "codemirror_mode": {
    "name": "ipython",
    "version": 3
   },
   "file_extension": ".py",
   "mimetype": "text/x-python",
   "name": "python",
   "nbconvert_exporter": "python",
   "pygments_lexer": "ipython3",
   "version": "3.8.12"
  }
 },
 "nbformat": 4,
 "nbformat_minor": 2
}
