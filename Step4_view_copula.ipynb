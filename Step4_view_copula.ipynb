{
 "cells": [
  {
   "cell_type": "code",
   "execution_count": 281,
   "metadata": {},
   "outputs": [],
   "source": [
    "import numpy as np\n",
    "import pickle as pkl\n",
    "import matplotlib.pyplot as plt\n",
    "from tqdm.notebook import tqdm\n",
    "import os\n",
    "import pandas as pd\n",
    "\n",
    "import copulagp.marginal as mg\n",
    "from copulagp import bvcopula\n",
    "import torch\n",
    "from scipy import interpolate\n",
    "\n",
    "LENGTH = 200 #cm long VR corridor\n",
    "\n",
    "def both_types_in_pos_bins(trials,pos,rate, n_bins=100,m=5):\n",
    "    A_t0 = np.zeros((len(np.unique(trials[0])),n_bins))\n",
    "    A_t1 = np.zeros((len(np.unique(trials[1])),n_bins))\n",
    "    for A_tx, trial_num_tx, pos_tx, u_rate_tx in zip([A_t0,A_t1],\n",
    "                                             trials,pos,rate):\n",
    "\n",
    "        for j,trial in enumerate(np.unique(trial_num_tx)):\n",
    "            pos = pos_tx[trial_num_tx==trial]\n",
    "            for i in range(n_bins):\n",
    "                mask = (pos>=(i-m)/n_bins) & (pos <=(i+1+m)/n_bins)\n",
    "                if np.any(mask):\n",
    "                    A_tx[j,i] = u_rate_tx[trial_num_tx==trial][mask].mean()\n",
    "\n",
    "    return np.concatenate([A_t0,A_t1])\n",
    "\n",
    "\n",
    "def plot_diff(data, cluster_id, file,\n",
    "             n_bins = 200, m=5):\n",
    "    [ds_rate, ds_vel, ds_pos, trial_num, trial_type] = data.iloc[cluster_id].spikes_per50ms\n",
    "    pos_t0 = ds_pos[trial_type==0]/LENGTH\n",
    "    pos_t1 = ds_pos[trial_type==1]/LENGTH\n",
    "    ds_rate_t0 = ds_rate[trial_type==0]\n",
    "    ds_rate_t1 = ds_rate[trial_type==1]\n",
    "    trial_num_t0 = trial_num[trial_type==0]\n",
    "    trial_num_t1 = trial_num[trial_type==1]\n",
    "    cond_y_t0 = data.iloc[cluster_id].cond_y_t0\n",
    "    cond_y_t1 = data.iloc[cluster_id].cond_y_t1\n",
    "\n",
    "    A=both_types_in_pos_bins([trial_num_t0,trial_num_t1],[pos_t0, pos_t1],[ds_rate_t0,ds_rate_t1],\n",
    "                            n_bins=n_bins, m=m)\n",
    "    B=both_types_in_pos_bins([trial_num_t0,trial_num_t1],[pos_t0, pos_t1],[cond_y_t0,cond_y_t1],\n",
    "                            n_bins=n_bins, m=m)\n",
    "\n",
    "    Hz_range = np.mean(A,axis=0).max(0)*0.5\n",
    "    plt.imshow(A-B,vmin=-Hz_range,vmax=Hz_range,cmap=\"RdBu\")\n",
    "    plt.axhline(len(np.unique(trial_num_t0)),color='k',linestyle=':')\n",
    "    plt.xticks([0,50],[0,100])\n",
    "    plt.colorbar(label='<raw rate> - <conditional rate>')\n",
    "    plt.xlabel('position, cm')\n",
    "    plt.ylabel('trial #')\n",
    "    plt.title(f'{data.iloc[cluster_id].session_id}, #{data.iloc[cluster_id].cluster_id}')\n",
    "    # fig.colorbar(plot);\n",
    "    plt.savefig(file)\n",
    "    plt.close();\n",
    "    \n",
    "def plot_fr(data, cluster_id, file,\n",
    "             n_bins = 200, m=5):\n",
    "    [ds_rate, ds_vel, ds_pos, trial_num, trial_type] = data.iloc[cluster_id].spikes_per50ms\n",
    "    pos_t0 = ds_pos[trial_type==0]/LENGTH\n",
    "    pos_t1 = ds_pos[trial_type==1]/LENGTH\n",
    "    ds_rate_t0 = ds_rate[trial_type==0]\n",
    "    ds_rate_t1 = ds_rate[trial_type==1]\n",
    "    trial_num_t0 = trial_num[trial_type==0]\n",
    "    trial_num_t1 = trial_num[trial_type==1]\n",
    "    cond_y_t0 = data.iloc[cluster_id].cond_y_t0\n",
    "    cond_y_t1 = data.iloc[cluster_id].cond_y_t1\n",
    "\n",
    "    A=both_types_in_pos_bins([trial_num_t0,trial_num_t1],[pos_t0, pos_t1],[ds_rate_t0,ds_rate_t1],\n",
    "                            n_bins=n_bins, m=m)\n",
    "    \n",
    "    Hz_range = np.mean(A,axis=0).max(0)*1.2 # mean FR at the location with the highest FR\n",
    "    #     print(A.shape)\n",
    "    plt.imshow(A,vmin=0,vmax=Hz_range)\n",
    "    plt.axhline(len(np.unique(trial_num_t0)),color='k',linestyle=':')\n",
    "    plt.xticks([0,50],[0,100])\n",
    "    plt.colorbar(label='<raw rate> - <conditional rate>')\n",
    "    plt.xlabel('position, cm')\n",
    "    plt.ylabel('trial #')\n",
    "    plt.title(f'{data.iloc[cluster_id].session_id}, #{data.iloc[cluster_id].cluster_id}')\n",
    "    # fig.colorbar(plot);\n",
    "    plt.savefig(file)\n",
    "    plt.close();\n",
    "    \n",
    "def plot_diff_n_fr(data, cluster_id, file,\n",
    "             n_bins = 200, m=5):\n",
    "    fig,ax = plt.subplots(1,2)\n",
    "    [ds_rate, ds_vel, ds_pos, trial_num, trial_type] = data.iloc[cluster_id].spikes_per50ms\n",
    "    pos_t0 = ds_pos[trial_type==0]/LENGTH\n",
    "    pos_t1 = ds_pos[trial_type==1]/LENGTH\n",
    "    ds_rate_t0 = ds_rate[trial_type==0]\n",
    "    ds_rate_t1 = ds_rate[trial_type==1]\n",
    "    trial_num_t0 = trial_num[trial_type==0]\n",
    "    trial_num_t1 = trial_num[trial_type==1]\n",
    "    cond_y_t0 = data.iloc[cluster_id].cond_y_t0\n",
    "    cond_y_t1 = data.iloc[cluster_id].cond_y_t1\n",
    "\n",
    "    A=both_types_in_pos_bins([trial_num_t0,trial_num_t1],[pos_t0, pos_t1],[ds_rate_t0,ds_rate_t1],\n",
    "                            n_bins=n_bins, m=m)\n",
    "    B=both_types_in_pos_bins([trial_num_t0,trial_num_t1],[pos_t0, pos_t1],[cond_y_t0,cond_y_t1],\n",
    "                            n_bins=n_bins, m=m)\n",
    "\n",
    "    Hz_range = np.mean(A,axis=0).max(0)*0.5\n",
    "    ax[0].imshow(A-B,vmin=-Hz_range,vmax=Hz_range,cmap=\"RdBu\")\n",
    "    ax[0].axhline(len(np.unique(trial_num_t0)),color='k',linestyle=':')\n",
    "    ax[0].set_xticks([0,50],[0,100])\n",
    "#     ax[0].colorbar(label='<raw rate> - <conditional rate>')\n",
    "    ax[0].set_xlabel('position, cm')\n",
    "    ax[0].set_ylabel('trial #')\n",
    "    ax[0].set_title(f'{data.iloc[cluster_id].session_id}, #{data.iloc[cluster_id].cluster_id}')\n",
    "    \n",
    "    Hz_range = np.mean(A,axis=0).max(0)*1.2 # mean FR at the location with the highest FR\n",
    "    #     print(A.shape)\n",
    "    ax[1].imshow(A,vmin=0,vmax=Hz_range)\n",
    "    ax[1].axhline(len(np.unique(trial_num_t0)),color='k',linestyle=':')\n",
    "    ax[1].set_xticks([0,50],[0,100])\n",
    "#     ax[1].colorbar(label='<raw rate> - <conditional rate>')\n",
    "    ax[1].set_xlabel('position, cm')\n",
    "    ax[1].set_ylabel('trial #')\n",
    "    ax[1].set_title(f'{data.iloc[cluster_id].session_id}, #{data.iloc[cluster_id].cluster_id}')\n",
    "    \n",
    "#     fig.colorbar(ax[0]);\n",
    "    plt.savefig(file)\n",
    "    plt.close();\n",
    "    \n",
    "    \n",
    "    \n",
    "    "
   ]
  },
  {
   "cell_type": "code",
   "execution_count": 282,
   "metadata": {},
   "outputs": [
    {
     "data": {
      "text/plain": [
       "'Cohort7_october2020'"
      ]
     },
     "execution_count": 282,
     "metadata": {},
     "output_type": "execute_result"
    }
   ],
   "source": [
    "import glob\n",
    "\n",
    "cohorts = glob.glob(\"Cohort*\")\n",
    "cohort = cohorts[0]\n",
    "cohort"
   ]
  },
  {
   "cell_type": "code",
   "execution_count": 283,
   "metadata": {},
   "outputs": [
    {
     "data": {
      "text/plain": [
       "['unified_copula/Cohort7_october2020/M3_D23_2020-11-28_15-13-28_50ms_copula.pkl',\n",
       " 'unified_copula/Cohort7_october2020/M3_D8_2020-11-07_14-39-22_50ms_copula.pkl',\n",
       " 'unified_copula/Cohort7_october2020/M3_D28_2020-12-05_15-05-24_50ms_copula.pkl',\n",
       " 'unified_copula/Cohort7_october2020/M4_D12_2020-11-13_15-08-51_50ms_copula.pkl',\n",
       " 'unified_copula/Cohort7_october2020/M3_D21_2020-11-26_14-59-39_50ms_copula.pkl',\n",
       " 'unified_copula/Cohort7_october2020/M6_D17_2020-11-20_15-40-03_50ms_copula.pkl',\n",
       " 'unified_copula/Cohort7_october2020/M4_D6_2020-11-05_15-13-56_50ms_copula.pkl',\n",
       " 'unified_copula/Cohort7_october2020/M3_D29_2020-12-06_15-20-09_50ms_copula.pkl',\n",
       " 'unified_copula/Cohort7_october2020/M7_D30_2020-12-07_16-04-16_50ms_copula.pkl',\n",
       " 'unified_copula/Cohort7_october2020/M3_D24_2020-11-29_15-08-39_50ms_copula.pkl',\n",
       " 'unified_copula/Cohort7_october2020/M3_D25_2020-11-30_15-13-15_50ms_copula.pkl',\n",
       " 'unified_copula/Cohort7_october2020/M6_D23_2020-11-28_17-01-43_50ms_copula.pkl',\n",
       " 'unified_copula/Cohort7_october2020/M3_D3_2020-10-31_14-05-19_50ms_copula.pkl',\n",
       " 'unified_copula/Cohort7_october2020/M3_D5_2020-11-02_14-10-23_50ms_copula.pkl',\n",
       " 'unified_copula/Cohort7_october2020/M4_D30_2020-12-07_15-27-58_50ms_copula.pkl',\n",
       " 'unified_copula/Cohort7_october2020/M3_D22_2020-11-27_15-01-24_50ms_copula.pkl',\n",
       " 'unified_copula/Cohort7_october2020/M4_D11_2020-11-12_15-03-41_50ms_copula.pkl',\n",
       " 'unified_copula/Cohort7_october2020/M6_D14_2020-11-15_15-37-28_50ms_copula.pkl',\n",
       " 'unified_copula/Cohort7_october2020/M7_D1_2020-10-29_15-44-22_50ms_copula.pkl',\n",
       " 'unified_copula/Cohort7_october2020/M3_D13_2020-11-14_14-25-12_50ms_copula.pkl',\n",
       " 'unified_copula/Cohort7_october2020/M7_D34_2020-12-13_15-49-08_50ms_copula.pkl',\n",
       " 'unified_copula/Cohort7_october2020/M3_D19_2020-11-22_14-48-51_50ms_copula.pkl',\n",
       " 'unified_copula/Cohort7_october2020/M3_D17_2020-11-20_14-23-44_50ms_copula.pkl',\n",
       " 'unified_copula/Cohort7_october2020/M7_D6_2020-11-05_16-26-28_50ms_copula.pkl',\n",
       " 'unified_copula/Cohort7_october2020/M3_D2_2020-10-30_14-43-08_50ms_copula.pkl',\n",
       " 'unified_copula/Cohort7_october2020/M7_D7_2020-11-06_16-14-44_50ms_copula.pkl',\n",
       " 'unified_copula/Cohort7_october2020/M7_D29_2020-12-06_16-26-39_50ms_copula.pkl',\n",
       " 'unified_copula/Cohort7_october2020/M3_D6_2020-11-05_14-37-17_50ms_copula.pkl',\n",
       " 'unified_copula/Cohort7_october2020/M3_D18_2020-11-21_14-29-49_50ms_copula.pkl',\n",
       " 'unified_copula/Cohort7_october2020/M3_D7_2020-11-06_14-22-53_50ms_copula.pkl',\n",
       " 'unified_copula/Cohort7_october2020/M6_D16_2020-11-19_14-30-17_50ms_copula.pkl',\n",
       " 'unified_copula/Cohort7_october2020/M4_D27_2020-12-04_15-49-07_50ms_copula.pkl',\n",
       " 'unified_copula/Cohort7_october2020/M3_D30_2020-12-07_14-55-41_50ms_copula.pkl',\n",
       " 'unified_copula/Cohort7_october2020/M4_D8_2020-11-07_15-13-58_50ms_copula.pkl',\n",
       " 'unified_copula/Cohort7_october2020/M6_D26_2020-12-03_16-42-12_50ms_copula.pkl',\n",
       " 'unified_copula/Cohort7_october2020/M6_D3_2020-10-31_15-27-13_50ms_copula.pkl',\n",
       " 'unified_copula/Cohort7_october2020/M7_D32_2020-12-11_15-40-03_50ms_copula.pkl',\n",
       " 'unified_copula/Cohort7_october2020/M7_D12_2020-11-13_16-20-54_50ms_copula.pkl',\n",
       " 'unified_copula/Cohort7_october2020/M4_D5_2020-11-02_14-45-55_50ms_copula.pkl',\n",
       " 'unified_copula/Cohort7_october2020/M3_D11_2020-11-12_14-26-13_50ms_copula.pkl',\n",
       " 'unified_copula/Cohort7_october2020/M7_D8_2020-11-07_16-24-43_50ms_copula.pkl',\n",
       " 'unified_copula/Cohort7_october2020/M6_D12_2020-11-13_15-44-22_50ms_copula.pkl',\n",
       " 'unified_copula/Cohort7_october2020/M3_D20_2020-11-23_14-32-20_50ms_copula.pkl',\n",
       " 'unified_copula/Cohort7_october2020/M4_D22_2020-11-27_15-38-49_50ms_copula.pkl',\n",
       " 'unified_copula/Cohort7_october2020/M3_D1_2020-10-29_13-45-02_50ms_copula.pkl',\n",
       " 'unified_copula/Cohort7_october2020/M6_D15_2020-11-16_15-36-31_50ms_copula.pkl',\n",
       " 'unified_copula/Cohort7_october2020/M3_D9_2020-11-08_14-37-47_50ms_copula.pkl',\n",
       " 'unified_copula/Cohort7_october2020/M7_D13_2020-11-14_16-14-33_50ms_copula.pkl',\n",
       " 'unified_copula/Cohort7_october2020/M4_D18_2020-11-21_15-04-19_50ms_copula.pkl',\n",
       " 'unified_copula/Cohort7_october2020/M7_D9_2020-11-08_16-29-26_50ms_copula.pkl',\n",
       " 'unified_copula/Cohort7_october2020/M7_D15_2020-11-16_16-16-33_50ms_copula.pkl',\n",
       " 'unified_copula/Cohort7_october2020/M3_D26_2020-12-03_14-51-03_50ms_copula.pkl',\n",
       " 'unified_copula/Cohort7_october2020/M4_D23_2020-11-28_15-45-12_50ms_copula.pkl',\n",
       " 'unified_copula/Cohort7_october2020/M3_D14_2020-11-15_14-22-52_50ms_copula.pkl',\n",
       " 'unified_copula/Cohort7_october2020/M7_D11_2020-11-12_16-22-33_50ms_copula.pkl',\n",
       " 'unified_copula/Cohort7_october2020/M4_D19_2020-11-22_15-21-58_50ms_copula.pkl',\n",
       " 'unified_copula/Cohort7_october2020/M7_D23_2020-11-28_16-17-31_50ms_copula.pkl',\n",
       " 'unified_copula/Cohort7_october2020/M7_D5_2020-11-02_15-52-51_50ms_copula.pkl',\n",
       " 'unified_copula/Cohort7_october2020/M6_D8_2020-11-07_15-49-19_50ms_copula.pkl',\n",
       " 'unified_copula/Cohort7_october2020/M6_D5_2020-11-02_15-18-00_50ms_copula.pkl',\n",
       " 'unified_copula/Cohort7_october2020/M6_D1_2020-10-29_15-04-09_50ms_copula.pkl',\n",
       " 'unified_copula/Cohort7_october2020/M7_D14_2020-11-15_16-14-54_50ms_copula.pkl',\n",
       " 'unified_copula/Cohort7_october2020/M4_D16_2020-11-19_13-52-10_50ms_copula.pkl',\n",
       " 'unified_copula/Cohort7_october2020/M7_D28_2020-12-05_16-15-10_50ms_copula.pkl',\n",
       " 'unified_copula/Cohort7_october2020/M6_D24_2020-11-29_17-08-18_50ms_copula.pkl',\n",
       " 'unified_copula/Cohort7_october2020/M7_D25_2020-11-30_16-24-49_50ms_copula.pkl',\n",
       " 'unified_copula/Cohort7_october2020/M4_D13_2020-11-14_14-58-42_50ms_copula.pkl',\n",
       " 'unified_copula/Cohort7_october2020/M4_D10_2020-11-09_15-04-26_50ms_copula.pkl',\n",
       " 'unified_copula/Cohort7_october2020/M4_D14_2020-11-15_14-58-40_50ms_copula.pkl',\n",
       " 'unified_copula/Cohort7_october2020/M6_D22_2020-11-27_16-59-03_50ms_copula.pkl',\n",
       " 'unified_copula/Cohort7_october2020/M7_D31_2020-12-10_15-52-42_50ms_copula.pkl',\n",
       " 'unified_copula/Cohort7_october2020/M6_D25_2020-11-30_17-03-20_50ms_copula.pkl',\n",
       " 'unified_copula/Cohort7_october2020/M3_D35_2020-12-14_15-15-30_50ms_copula.pkl',\n",
       " 'unified_copula/Cohort7_october2020/M4_D9_2020-11-08_15-18-01_50ms_copula.pkl',\n",
       " 'unified_copula/Cohort7_october2020/M3_D16_2020-11-19_13-12-12_50ms_copula.pkl',\n",
       " 'unified_copula/Cohort7_october2020/M6_D9_2020-11-08_15-53-11_50ms_copula.pkl',\n",
       " 'unified_copula/Cohort7_october2020/M6_D10_2020-11-09_15-44-20_50ms_copula.pkl',\n",
       " 'unified_copula/Cohort7_october2020/M6_D6_2020-11-05_15-50-22_50ms_copula.pkl',\n",
       " 'unified_copula/Cohort7_october2020/M6_D13_2020-11-14_15-40-42_50ms_copula.pkl',\n",
       " 'unified_copula/Cohort7_october2020/M7_D16_2020-11-19_15-01-59_50ms_copula.pkl',\n",
       " 'unified_copula/Cohort7_october2020/M3_D4_2020-11-01_14-12-26_50ms_copula.pkl',\n",
       " 'unified_copula/Cohort7_october2020/M4_D17_2020-11-20_15-03-04_50ms_copula.pkl',\n",
       " 'unified_copula/Cohort7_october2020/M6_D11_2020-11-12_15-39-10_50ms_copula.pkl',\n",
       " 'unified_copula/Cohort7_october2020/M3_D31_2020-12-10_15-13-00_50ms_copula.pkl',\n",
       " 'unified_copula/Cohort7_october2020/M7_D26_2020-12-03_16-01-44_50ms_copula.pkl',\n",
       " 'unified_copula/Cohort7_october2020/M4_D15_2020-11-16_14-59-09_50ms_copula.pkl',\n",
       " 'unified_copula/Cohort7_october2020/M3_D15_2020-11-16_14-21-36_50ms_copula.pkl',\n",
       " 'unified_copula/Cohort7_october2020/M7_D17_2020-11-20_16-15-32_50ms_copula.pkl',\n",
       " 'unified_copula/Cohort7_october2020/M3_D10_2020-11-09_14-28-59_50ms_copula.pkl',\n",
       " 'unified_copula/Cohort7_october2020/M7_D21_2020-11-26_16-09-48_50ms_copula.pkl',\n",
       " 'unified_copula/Cohort7_october2020/M3_D12_2020-11-13_14-27-08_50ms_copula.pkl',\n",
       " 'unified_copula/Cohort7_october2020/M7_D4_2020-11-01_16-05-43_50ms_copula.pkl',\n",
       " 'unified_copula/Cohort7_october2020/M7_D19_2020-11-22_16-06-11_50ms_copula.pkl',\n",
       " 'unified_copula/Cohort7_october2020/M7_D22_2020-11-27_16-11-24_50ms_copula.pkl',\n",
       " 'unified_copula/Cohort7_october2020/M6_D4_2020-11-01_15-27-08_50ms_copula.pkl',\n",
       " 'unified_copula/Cohort7_october2020/M6_D7_2020-11-06_15-37-15_50ms_copula.pkl',\n",
       " 'unified_copula/Cohort7_october2020/M7_D24_2020-11-29_16-15-28_50ms_copula.pkl',\n",
       " 'unified_copula/Cohort7_october2020/M3_D33_2020-12-12_15-02-16_50ms_copula.pkl',\n",
       " 'unified_copula/Cohort7_october2020/M3_D27_2020-12-04_15-10-38_50ms_copula.pkl',\n",
       " 'unified_copula/Cohort7_october2020/M3_D32_2020-12-11_15-06-08_50ms_copula.pkl',\n",
       " 'unified_copula/Cohort7_october2020/M4_D26_2020-12-03_15-28-32_50ms_copula.pkl',\n",
       " 'unified_copula/Cohort7_october2020/M7_D20_2020-11-23_15-47-55_50ms_copula.pkl']"
      ]
     },
     "execution_count": 283,
     "metadata": {},
     "output_type": "execute_result"
    }
   ],
   "source": [
    "\n",
    "session_list = glob.glob(f\"unified_copula/{cohort}/*.pkl\")\n",
    "session_list\n",
    "    "
   ]
  },
  {
   "cell_type": "code",
   "execution_count": 284,
   "metadata": {},
   "outputs": [
    {
     "data": {
      "text/plain": [
       "40"
      ]
     },
     "execution_count": 284,
     "metadata": {},
     "output_type": "execute_result"
    }
   ],
   "source": [
    "session_id=4\n",
    "data = pd.read_pickle(session_list[session_id])\n",
    "len(data)"
   ]
  },
  {
   "cell_type": "code",
   "execution_count": 285,
   "metadata": {},
   "outputs": [],
   "source": [
    "diff_before_after=np.zeros((len(data),2))\n",
    "for cluster_id in range(len(data)):\n",
    "    [ds_rate, ds_vel, ds_pos, trial_num, trial_type] = data.iloc[cluster_id].spikes_per50ms\n",
    "    pos_t0 = ds_pos[trial_type==0]#/LENGTH\n",
    "    pos_t1 = ds_pos[trial_type==1]#/LENGTH\n",
    "    ds_rate_t0 = ds_rate[trial_type==0]\n",
    "    ds_rate_t1 = ds_rate[trial_type==1]\n",
    "    cond_y_t0 = data.iloc[cluster_id].cond_y_t0\n",
    "    cond_y_t1 = data.iloc[cluster_id].cond_y_t1\n",
    "\n",
    "    diff_before_after[cluster_id] = (np.mean(np.abs(ds_rate_t0[pos_t0<90]-cond_y_t0[pos_t0<90])),np.mean(np.abs(ds_rate_t0[pos_t0>110]-cond_y_t0[pos_t0>110])))"
   ]
  },
  {
   "cell_type": "code",
   "execution_count": 286,
   "metadata": {},
   "outputs": [
    {
     "data": {
      "image/png": "[encoded data removed]",
      "text/plain": [
       "<Figure size 432x288 with 1 Axes>"
      ]
     },
     "metadata": {
      "needs_background": "light"
     },
     "output_type": "display_data"
    }
   ],
   "source": [
    "mask = diff_before_after[:,1]!=0\n",
    "\n",
    "ratio = np.zeros_like(diff_before_after[:,0])\n",
    "ratio[mask] = np.clip(diff_before_after[mask,0]/diff_before_after[mask,1],0,10.)\n",
    "\n",
    "plt.scatter(diff_before_after[mask,0],ratio[mask])\n",
    "plt.axhline(1.)\n",
    "top=np.argmax(ratio[mask & (ratio!=10.)])\n",
    "bottom=np.argmin(ratio[mask & (ratio!=0.)])"
   ]
  },
  {
   "cell_type": "code",
   "execution_count": 107,
   "metadata": {},
   "outputs": [
    {
     "data": {
      "application/vnd.jupyter.widget-view+json": {
       "model_id": "e3293fe680714c5fba262015a9e5e4d8",
       "version_major": 2,
       "version_minor": 0
      },
      "text/plain": [
       "0it [00:00, ?it/s]"
      ]
     },
     "metadata": {},
     "output_type": "display_data"
    },
    {
     "data": {
      "application/vnd.jupyter.widget-view+json": {
       "model_id": "83d26bc05110447abfb69a7654e1a79f",
       "version_major": 2,
       "version_minor": 0
      },
      "text/plain": [
       "0it [00:00, ?it/s]"
      ]
     },
     "metadata": {},
     "output_type": "display_data"
    },
    {
     "data": {
      "application/vnd.jupyter.widget-view+json": {
       "model_id": "f9dd09c098234540a78a5e93fec3330a",
       "version_major": 2,
       "version_minor": 0
      },
      "text/plain": [
       "0it [00:00, ?it/s]"
      ]
     },
     "metadata": {},
     "output_type": "display_data"
    },
    {
     "data": {
      "application/vnd.jupyter.widget-view+json": {
       "model_id": "e7654d2c840f40cfa9bc4f10ddfe1da7",
       "version_major": 2,
       "version_minor": 0
      },
      "text/plain": [
       "0it [00:00, ?it/s]"
      ]
     },
     "metadata": {},
     "output_type": "display_data"
    },
    {
     "data": {
      "application/vnd.jupyter.widget-view+json": {
       "model_id": "a0dde1477458414fb55ad35421502805",
       "version_major": 2,
       "version_minor": 0
      },
      "text/plain": [
       "0it [00:00, ?it/s]"
      ]
     },
     "metadata": {},
     "output_type": "display_data"
    },
    {
     "data": {
      "application/vnd.jupyter.widget-view+json": {
       "model_id": "ed91ade8e6964ed8b42c2251f566398f",
       "version_major": 2,
       "version_minor": 0
      },
      "text/plain": [
       "0it [00:00, ?it/s]"
      ]
     },
     "metadata": {},
     "output_type": "display_data"
    },
    {
     "data": {
      "application/vnd.jupyter.widget-view+json": {
       "model_id": "fc001281e9044ee984b3a09e8a947c24",
       "version_major": 2,
       "version_minor": 0
      },
      "text/plain": [
       "0it [00:00, ?it/s]"
      ]
     },
     "metadata": {},
     "output_type": "display_data"
    },
    {
     "data": {
      "application/vnd.jupyter.widget-view+json": {
       "model_id": "d55281a1f02745c99f38d1afe80c6f1b",
       "version_major": 2,
       "version_minor": 0
      },
      "text/plain": [
       "0it [00:00, ?it/s]"
      ]
     },
     "metadata": {},
     "output_type": "display_data"
    },
    {
     "data": {
      "image/png": "[encoded data removed]",
      "text/plain": [
       "<Figure size 432x288 with 3 Axes>"
      ]
     },
     "metadata": {
      "needs_background": "light"
     },
     "output_type": "display_data"
    }
   ],
   "source": [
    "# plot_diff(data, cluster_id, )\n",
    "session_name=(session_list[session_id].split('/')[-1]).split(\"_copula.pkl\")[0]\n",
    "save_name = lambda which: f\"unified_copula/{cohort}/{session_name}_{which}.png\"\n",
    "plot_diff(data, top, save_name('top'))\n",
    "# plot_diff(data, bottom, save_name('bottom'))"
   ]
  },
  {
   "cell_type": "code",
   "execution_count": 106,
   "metadata": {},
   "outputs": [
    {
     "data": {
      "application/vnd.jupyter.widget-view+json": {
       "model_id": "5271f628bdb542a7b3a3f00da0da3d9c",
       "version_major": 2,
       "version_minor": 0
      },
      "text/plain": [
       "0it [00:00, ?it/s]"
      ]
     },
     "metadata": {},
     "output_type": "display_data"
    },
    {
     "data": {
      "application/vnd.jupyter.widget-view+json": {
       "model_id": "293ee1d22b19426487ac75a29b873669",
       "version_major": 2,
       "version_minor": 0
      },
      "text/plain": [
       "0it [00:00, ?it/s]"
      ]
     },
     "metadata": {},
     "output_type": "display_data"
    },
    {
     "data": {
      "application/vnd.jupyter.widget-view+json": {
       "model_id": "528b479f9a954b9c9ade21f2a85154f0",
       "version_major": 2,
       "version_minor": 0
      },
      "text/plain": [
       "0it [00:00, ?it/s]"
      ]
     },
     "metadata": {},
     "output_type": "display_data"
    },
    {
     "data": {
      "application/vnd.jupyter.widget-view+json": {
       "model_id": "d10ceae11d6a464ebb14a36a5963dfd5",
       "version_major": 2,
       "version_minor": 0
      },
      "text/plain": [
       "0it [00:00, ?it/s]"
      ]
     },
     "metadata": {},
     "output_type": "display_data"
    },
    {
     "data": {
      "image/png": "[encoded data removed]",
      "text/plain": [
       "<Figure size 432x288 with 2 Axes>"
      ]
     },
     "metadata": {
      "needs_background": "light"
     },
     "output_type": "display_data"
    }
   ],
   "source": [
    "plot_diff(data, bottom, save_name('bottom'))"
   ]
  },
  {
   "cell_type": "markdown",
   "metadata": {},
   "source": [
    "# Serialize"
   ]
  },
  {
   "cell_type": "code",
   "execution_count": 240,
   "metadata": {},
   "outputs": [
    {
     "data": {
      "application/vnd.jupyter.widget-view+json": {
       "model_id": "b6da41baa05541aabc71e4dabc2fe0fa",
       "version_major": 2,
       "version_minor": 0
      },
      "text/plain": [
       "  0%|          | 0/102 [00:00<?, ?it/s]"
      ]
     },
     "metadata": {},
     "output_type": "display_data"
    },
    {
     "data": {
      "application/vnd.jupyter.widget-view+json": {
       "model_id": "c416ace0a4dd459e8b3ae9cb2af445bd",
       "version_major": 2,
       "version_minor": 0
      },
      "text/plain": [
       "0it [00:00, ?it/s]"
      ]
     },
     "metadata": {},
     "output_type": "display_data"
    },
    {
     "data": {
      "application/vnd.jupyter.widget-view+json": {
       "model_id": "5f679a2a763a475f838ccd6e870c3635",
       "version_major": 2,
       "version_minor": 0
      },
      "text/plain": [
       "0it [00:00, ?it/s]"
      ]
     },
     "metadata": {},
     "output_type": "display_data"
    },
    {
     "data": {
      "application/vnd.jupyter.widget-view+json": {
       "model_id": "6a134107e62b4d96bd02f1fd46ad3184",
       "version_major": 2,
       "version_minor": 0
      },
      "text/plain": [
       "0it [00:00, ?it/s]"
      ]
     },
     "metadata": {},
     "output_type": "display_data"
    },
    {
     "data": {
      "application/vnd.jupyter.widget-view+json": {
       "model_id": "0f8cf45e2e30454e9edec6f893ebd0ce",
       "version_major": 2,
       "version_minor": 0
      },
      "text/plain": [
       "0it [00:00, ?it/s]"
      ]
     },
     "metadata": {},
     "output_type": "display_data"
    },
    {
     "data": {
      "application/vnd.jupyter.widget-view+json": {
       "model_id": "2a9de845535640cf87d7facd51c87123",
       "version_major": 2,
       "version_minor": 0
      },
      "text/plain": [
       "0it [00:00, ?it/s]"
      ]
     },
     "metadata": {},
     "output_type": "display_data"
    },
    {
     "data": {
      "application/vnd.jupyter.widget-view+json": {
       "model_id": "f9c91ee9b5464fc1adaa239128461a5a",
       "version_major": 2,
       "version_minor": 0
      },
      "text/plain": [
       "0it [00:00, ?it/s]"
      ]
     },
     "metadata": {},
     "output_type": "display_data"
    },
    {
     "data": {
      "application/vnd.jupyter.widget-view+json": {
       "model_id": "6bafd7dd97d044588c78982c55d3ed7b",
       "version_major": 2,
       "version_minor": 0
      },
      "text/plain": [
       "0it [00:00, ?it/s]"
      ]
     },
     "metadata": {},
     "output_type": "display_data"
    },
    {
     "ename": "KeyboardInterrupt",
     "evalue": "",
     "output_type": "error",
     "traceback": [
      "\u001b[0;31m---------------------------------------------------------------------------\u001b[0m",
      "\u001b[0;31mKeyboardInterrupt\u001b[0m                         Traceback (most recent call last)",
      "Input \u001b[0;32mIn [240]\u001b[0m, in \u001b[0;36m<module>\u001b[0;34m\u001b[0m\n\u001b[1;32m     30\u001b[0m save_name \u001b[38;5;241m=\u001b[39m \u001b[38;5;28;01mlambda\u001b[39;00m which: \u001b[38;5;124mf\u001b[39m\u001b[38;5;124m\"\u001b[39m\u001b[38;5;124munified_copula/\u001b[39m\u001b[38;5;132;01m{\u001b[39;00mcohort\u001b[38;5;132;01m}\u001b[39;00m\u001b[38;5;124m/\u001b[39m\u001b[38;5;132;01m{\u001b[39;00msession_name\u001b[38;5;132;01m}\u001b[39;00m\u001b[38;5;124m_\u001b[39m\u001b[38;5;132;01m{\u001b[39;00mwhich\u001b[38;5;132;01m}\u001b[39;00m\u001b[38;5;124m.png\u001b[39m\u001b[38;5;124m\"\u001b[39m\n\u001b[1;32m     31\u001b[0m plot_diff(data, top_idx, save_name(\u001b[38;5;124m'\u001b[39m\u001b[38;5;124mtop\u001b[39m\u001b[38;5;124m'\u001b[39m))\n\u001b[0;32m---> 32\u001b[0m \u001b[43mplot_diff\u001b[49m\u001b[43m(\u001b[49m\u001b[43mdata\u001b[49m\u001b[43m,\u001b[49m\u001b[43m \u001b[49m\u001b[43mbottom_idx\u001b[49m\u001b[43m,\u001b[49m\u001b[43m \u001b[49m\u001b[43msave_name\u001b[49m\u001b[43m(\u001b[49m\u001b[38;5;124;43m'\u001b[39;49m\u001b[38;5;124;43mbottom\u001b[39;49m\u001b[38;5;124;43m'\u001b[39;49m\u001b[43m)\u001b[49m\u001b[43m)\u001b[49m\n\u001b[1;32m     34\u001b[0m \u001b[38;5;28;01mif\u001b[39;00m top\u001b[38;5;241m>\u001b[39m\u001b[38;5;241m2.\u001b[39m:\n\u001b[1;32m     35\u001b[0m     save_name \u001b[38;5;241m=\u001b[39m \u001b[38;5;124mf\u001b[39m\u001b[38;5;124m\"\u001b[39m\u001b[38;5;124minteresting/effect_\u001b[39m\u001b[38;5;132;01m{\u001b[39;00mcohort\u001b[38;5;132;01m}\u001b[39;00m\u001b[38;5;124m_\u001b[39m\u001b[38;5;132;01m{\u001b[39;00msession_name\u001b[38;5;132;01m}\u001b[39;00m\u001b[38;5;124m.png\u001b[39m\u001b[38;5;124m\"\u001b[39m\n",
      "Input \u001b[0;32mIn [239]\u001b[0m, in \u001b[0;36mplot_diff\u001b[0;34m(data, cluster_id, file, n_bins, m)\u001b[0m\n\u001b[1;32m     41\u001b[0m cond_y_t1 \u001b[38;5;241m=\u001b[39m data\u001b[38;5;241m.\u001b[39miloc[cluster_id]\u001b[38;5;241m.\u001b[39mcond_y_t1\n\u001b[1;32m     43\u001b[0m A\u001b[38;5;241m=\u001b[39mboth_types_in_pos_bins([trial_num_t0,trial_num_t1],[pos_t0, pos_t1],[ds_rate_t0,ds_rate_t1],\n\u001b[1;32m     44\u001b[0m                         n_bins\u001b[38;5;241m=\u001b[39mn_bins, m\u001b[38;5;241m=\u001b[39mm)\n\u001b[0;32m---> 45\u001b[0m B\u001b[38;5;241m=\u001b[39m\u001b[43mboth_types_in_pos_bins\u001b[49m\u001b[43m(\u001b[49m\u001b[43m[\u001b[49m\u001b[43mtrial_num_t0\u001b[49m\u001b[43m,\u001b[49m\u001b[43mtrial_num_t1\u001b[49m\u001b[43m]\u001b[49m\u001b[43m,\u001b[49m\u001b[43m[\u001b[49m\u001b[43mpos_t0\u001b[49m\u001b[43m,\u001b[49m\u001b[43m \u001b[49m\u001b[43mpos_t1\u001b[49m\u001b[43m]\u001b[49m\u001b[43m,\u001b[49m\u001b[43m[\u001b[49m\u001b[43mcond_y_t0\u001b[49m\u001b[43m,\u001b[49m\u001b[43mcond_y_t1\u001b[49m\u001b[43m]\u001b[49m\u001b[43m,\u001b[49m\n\u001b[1;32m     46\u001b[0m \u001b[43m                        \u001b[49m\u001b[43mn_bins\u001b[49m\u001b[38;5;241;43m=\u001b[39;49m\u001b[43mn_bins\u001b[49m\u001b[43m,\u001b[49m\u001b[43m \u001b[49m\u001b[43mm\u001b[49m\u001b[38;5;241;43m=\u001b[39;49m\u001b[43mm\u001b[49m\u001b[43m)\u001b[49m\n\u001b[1;32m     48\u001b[0m Hz_range \u001b[38;5;241m=\u001b[39m np\u001b[38;5;241m.\u001b[39mmean(A,axis\u001b[38;5;241m=\u001b[39m\u001b[38;5;241m0\u001b[39m)\u001b[38;5;241m.\u001b[39mmax(\u001b[38;5;241m0\u001b[39m)\u001b[38;5;241m*\u001b[39m\u001b[38;5;241m0.5\u001b[39m\n\u001b[1;32m     49\u001b[0m plt\u001b[38;5;241m.\u001b[39mimshow(A\u001b[38;5;241m-\u001b[39mB,vmin\u001b[38;5;241m=\u001b[39m\u001b[38;5;241m-\u001b[39mHz_range,vmax\u001b[38;5;241m=\u001b[39mHz_range,cmap\u001b[38;5;241m=\u001b[39m\u001b[38;5;124m\"\u001b[39m\u001b[38;5;124mRdBu\u001b[39m\u001b[38;5;124m\"\u001b[39m)\n",
      "Input \u001b[0;32mIn [239]\u001b[0m, in \u001b[0;36mboth_types_in_pos_bins\u001b[0;34m(trials, pos, rate, n_bins, m)\u001b[0m\n\u001b[1;32m     23\u001b[0m         \u001b[38;5;28;01mfor\u001b[39;00m i \u001b[38;5;129;01min\u001b[39;00m \u001b[38;5;28mrange\u001b[39m(n_bins):\n\u001b[1;32m     24\u001b[0m             mask \u001b[38;5;241m=\u001b[39m (pos\u001b[38;5;241m>\u001b[39m\u001b[38;5;241m=\u001b[39m(i\u001b[38;5;241m-\u001b[39mm)\u001b[38;5;241m/\u001b[39mn_bins) \u001b[38;5;241m&\u001b[39m (pos \u001b[38;5;241m<\u001b[39m\u001b[38;5;241m=\u001b[39m(i\u001b[38;5;241m+\u001b[39m\u001b[38;5;241m1\u001b[39m\u001b[38;5;241m+\u001b[39mm)\u001b[38;5;241m/\u001b[39mn_bins)\n\u001b[0;32m---> 25\u001b[0m             \u001b[38;5;28;01mif\u001b[39;00m \u001b[43mnp\u001b[49m\u001b[38;5;241;43m.\u001b[39;49m\u001b[43many\u001b[49m\u001b[43m(\u001b[49m\u001b[43mmask\u001b[49m\u001b[43m)\u001b[49m:\n\u001b[1;32m     26\u001b[0m                 A_tx[j,i] \u001b[38;5;241m=\u001b[39m u_rate_tx[trial_num_tx\u001b[38;5;241m==\u001b[39mtrial][mask]\u001b[38;5;241m.\u001b[39mmean()\n\u001b[1;32m     28\u001b[0m \u001b[38;5;28;01mreturn\u001b[39;00m np\u001b[38;5;241m.\u001b[39mconcatenate([A_t0,A_t1])\n",
      "File \u001b[0;32m<__array_function__ internals>:180\u001b[0m, in \u001b[0;36many\u001b[0;34m(*args, **kwargs)\u001b[0m\n",
      "File \u001b[0;32m~/miniconda3/envs/SarahData/lib/python3.8/site-packages/numpy/core/fromnumeric.py:2395\u001b[0m, in \u001b[0;36many\u001b[0;34m(a, axis, out, keepdims, where)\u001b[0m\n\u001b[1;32m   2305\u001b[0m \u001b[38;5;129m@array_function_dispatch\u001b[39m(_any_dispatcher)\n\u001b[1;32m   2306\u001b[0m \u001b[38;5;28;01mdef\u001b[39;00m \u001b[38;5;21many\u001b[39m(a, axis\u001b[38;5;241m=\u001b[39m\u001b[38;5;28;01mNone\u001b[39;00m, out\u001b[38;5;241m=\u001b[39m\u001b[38;5;28;01mNone\u001b[39;00m, keepdims\u001b[38;5;241m=\u001b[39mnp\u001b[38;5;241m.\u001b[39m_NoValue, \u001b[38;5;241m*\u001b[39m, where\u001b[38;5;241m=\u001b[39mnp\u001b[38;5;241m.\u001b[39m_NoValue):\n\u001b[1;32m   2307\u001b[0m     \u001b[38;5;124;03m\"\"\"\u001b[39;00m\n\u001b[1;32m   2308\u001b[0m \u001b[38;5;124;03m    Test whether any array element along a given axis evaluates to True.\u001b[39;00m\n\u001b[1;32m   2309\u001b[0m \n\u001b[0;32m   (...)\u001b[0m\n\u001b[1;32m   2393\u001b[0m \n\u001b[1;32m   2394\u001b[0m \u001b[38;5;124;03m    \"\"\"\u001b[39;00m\n\u001b[0;32m-> 2395\u001b[0m     \u001b[38;5;28;01mreturn\u001b[39;00m \u001b[43m_wrapreduction\u001b[49m\u001b[43m(\u001b[49m\u001b[43ma\u001b[49m\u001b[43m,\u001b[49m\u001b[43m \u001b[49m\u001b[43mnp\u001b[49m\u001b[38;5;241;43m.\u001b[39;49m\u001b[43mlogical_or\u001b[49m\u001b[43m,\u001b[49m\u001b[43m \u001b[49m\u001b[38;5;124;43m'\u001b[39;49m\u001b[38;5;124;43many\u001b[39;49m\u001b[38;5;124;43m'\u001b[39;49m\u001b[43m,\u001b[49m\u001b[43m \u001b[49m\u001b[43maxis\u001b[49m\u001b[43m,\u001b[49m\u001b[43m \u001b[49m\u001b[38;5;28;43;01mNone\u001b[39;49;00m\u001b[43m,\u001b[49m\u001b[43m \u001b[49m\u001b[43mout\u001b[49m\u001b[43m,\u001b[49m\n\u001b[1;32m   2396\u001b[0m \u001b[43m                          \u001b[49m\u001b[43mkeepdims\u001b[49m\u001b[38;5;241;43m=\u001b[39;49m\u001b[43mkeepdims\u001b[49m\u001b[43m,\u001b[49m\u001b[43m \u001b[49m\u001b[43mwhere\u001b[49m\u001b[38;5;241;43m=\u001b[39;49m\u001b[43mwhere\u001b[49m\u001b[43m)\u001b[49m\n",
      "File \u001b[0;32m~/miniconda3/envs/SarahData/lib/python3.8/site-packages/numpy/core/fromnumeric.py:70\u001b[0m, in \u001b[0;36m_wrapreduction\u001b[0;34m(obj, ufunc, method, axis, dtype, out, **kwargs)\u001b[0m\n\u001b[1;32m     69\u001b[0m \u001b[38;5;28;01mdef\u001b[39;00m \u001b[38;5;21m_wrapreduction\u001b[39m(obj, ufunc, method, axis, dtype, out, \u001b[38;5;241m*\u001b[39m\u001b[38;5;241m*\u001b[39mkwargs):\n\u001b[0;32m---> 70\u001b[0m     passkwargs \u001b[38;5;241m=\u001b[39m {k: v \u001b[38;5;28;01mfor\u001b[39;00m k, v \u001b[38;5;129;01min\u001b[39;00m kwargs\u001b[38;5;241m.\u001b[39mitems()\n\u001b[1;32m     71\u001b[0m                   \u001b[38;5;28;01mif\u001b[39;00m v \u001b[38;5;129;01mis\u001b[39;00m \u001b[38;5;129;01mnot\u001b[39;00m np\u001b[38;5;241m.\u001b[39m_NoValue}\n\u001b[1;32m     73\u001b[0m     \u001b[38;5;28;01mif\u001b[39;00m \u001b[38;5;28mtype\u001b[39m(obj) \u001b[38;5;129;01mis\u001b[39;00m \u001b[38;5;129;01mnot\u001b[39;00m mu\u001b[38;5;241m.\u001b[39mndarray:\n\u001b[1;32m     74\u001b[0m         \u001b[38;5;28;01mtry\u001b[39;00m:\n",
      "\u001b[0;31mKeyboardInterrupt\u001b[0m: "
     ]
    }
   ],
   "source": [
    "session_list = glob.glob(f\"unified_copula/{cohort}/*.pkl\")\n",
    "for session in tqdm(session_list):\n",
    "    data = pd.read_pickle(session)\n",
    "\n",
    "    diff_before_after=np.zeros((len(data),2))\n",
    "    for cluster_id in range(len(data)):\n",
    "        [ds_rate, ds_vel, ds_pos, trial_num, trial_type] = data.iloc[cluster_id].spikes_per50ms\n",
    "        pos = ds_pos%LENGTH\n",
    "        cond_y = np.empty_like(ds_rate) \n",
    "        cond_y[trial_type==0] = data.iloc[cluster_id].cond_y_t0\n",
    "        cond_y[trial_type==1] = data.iloc[cluster_id].cond_y_t1\n",
    "\n",
    "        diff_before_after[cluster_id] = (np.mean(np.abs(ds_rate[pos<90]-cond_y[pos<90])),np.mean(np.abs(ds_rate[pos>110]-cond_y[pos>110])))\n",
    "    \n",
    "    mask = diff_before_after[:,1]!=0\n",
    "\n",
    "    ratio = np.zeros_like(diff_before_after[:,0])\n",
    "    ratio[mask] = np.clip(diff_before_after[mask,0]/diff_before_after[mask,1],0,10.)\n",
    "\n",
    "    plt.scatter(diff_before_after[mask,0],ratio[mask])\n",
    "    plt.axhline(1.)\n",
    "    \n",
    "    if len(ratio[mask & (ratio!=10.) & (ratio!=0.)])>0:\n",
    "        top=np.max(ratio[mask & (ratio!=10.)])\n",
    "        top_idx=np.argmax(ratio[mask & (ratio!=10.)])\n",
    "        bottom=np.min(ratio[mask & (ratio!=0.)])\n",
    "        bottom_idx=np.argmin(ratio[mask & (ratio!=0.)])\n",
    "\n",
    "        session_name=(session.split('/')[-1]).split(\"_copula.pkl\")[0]\n",
    "        save_name = lambda which: f\"unified_copula/{cohort}/{session_name}_{which}.png\"\n",
    "        plot_diff(data, top_idx, save_name('top'))\n",
    "        plot_diff(data, bottom_idx, save_name('bottom'))\n",
    "\n",
    "        if top>2.:\n",
    "            save_name = f\"interesting/effect_{cohort}_{session_name}.png\"\n",
    "            plot_diff(data, top_idx, save_name)\n",
    "\n",
    "        if bottom<0.5:\n",
    "            save_name = f\"interesting/countereffect_{cohort}_{session_name}.png\"\n",
    "            plot_diff(data, bottom_idx, save_name)\n",
    "    \n",
    "\n",
    "    "
   ]
  },
  {
   "cell_type": "code",
   "execution_count": 250,
   "metadata": {},
   "outputs": [
    {
     "data": {
      "application/vnd.jupyter.widget-view+json": {
       "model_id": "5f91e0d76bcd42458e0b176588106726",
       "version_major": 2,
       "version_minor": 0
      },
      "text/plain": [
       "  0%|          | 0/102 [00:00<?, ?it/s]"
      ]
     },
     "metadata": {},
     "output_type": "display_data"
    },
    {
     "name": "stdout",
     "output_type": "stream",
     "text": [
      "Assym dependence, sym FR:\n",
      "M3_D21_2020-11-26_14-59-39_50ms 11    12\n",
      "Name: cluster_id, dtype: int64\n",
      "4\n"
     ]
    },
    {
     "data": {
      "application/vnd.jupyter.widget-view+json": {
       "model_id": "20f7990a99d2438d8f25e3c5559fc8a1",
       "version_major": 2,
       "version_minor": 0
      },
      "text/plain": [
       "0it [00:00, ?it/s]"
      ]
     },
     "metadata": {},
     "output_type": "display_data"
    },
    {
     "data": {
      "application/vnd.jupyter.widget-view+json": {
       "model_id": "197c3272eefc487b9c9f17d0b31969cf",
       "version_major": 2,
       "version_minor": 0
      },
      "text/plain": [
       "0it [00:00, ?it/s]"
      ]
     },
     "metadata": {},
     "output_type": "display_data"
    },
    {
     "data": {
      "application/vnd.jupyter.widget-view+json": {
       "model_id": "ecabac8c19ed48d7aeb92393c2fbb054",
       "version_major": 2,
       "version_minor": 0
      },
      "text/plain": [
       "0it [00:00, ?it/s]"
      ]
     },
     "metadata": {},
     "output_type": "display_data"
    },
    {
     "data": {
      "application/vnd.jupyter.widget-view+json": {
       "model_id": "e37a2950753a4b9483c9b46409087218",
       "version_major": 2,
       "version_minor": 0
      },
      "text/plain": [
       "0it [00:00, ?it/s]"
      ]
     },
     "metadata": {},
     "output_type": "display_data"
    },
    {
     "name": "stderr",
     "output_type": "stream",
     "text": [
      "/tmp/ipykernel_40730/1060138831.py:109: MatplotlibDeprecationWarning: Passing the minor parameter of set_xticks() positionally is deprecated since Matplotlib 3.2; the parameter will become keyword-only two minor releases later.\n",
      "  ax[0].set_xticks([0,50],[0,100])\n",
      "/tmp/ipykernel_40730/1060138831.py:119: MatplotlibDeprecationWarning: Passing the minor parameter of set_xticks() positionally is deprecated since Matplotlib 3.2; the parameter will become keyword-only two minor releases later.\n",
      "  ax[1].set_xticks([0,50],[0,100])\n"
     ]
    },
    {
     "name": "stdout",
     "output_type": "stream",
     "text": [
      "Assym dependence, sym FR:\n",
      "M3_D19_2020-11-22_14-48-51_50ms 22    24\n",
      "Name: cluster_id, dtype: int64\n",
      "10\n"
     ]
    },
    {
     "data": {
      "application/vnd.jupyter.widget-view+json": {
       "model_id": "387e11497b2a4f4080e0f6e22e34a156",
       "version_major": 2,
       "version_minor": 0
      },
      "text/plain": [
       "0it [00:00, ?it/s]"
      ]
     },
     "metadata": {},
     "output_type": "display_data"
    },
    {
     "data": {
      "application/vnd.jupyter.widget-view+json": {
       "model_id": "6ea0c69506414499882c1947d5b82260",
       "version_major": 2,
       "version_minor": 0
      },
      "text/plain": [
       "0it [00:00, ?it/s]"
      ]
     },
     "metadata": {},
     "output_type": "display_data"
    },
    {
     "data": {
      "application/vnd.jupyter.widget-view+json": {
       "model_id": "95bd8adedb184834a9a21cf1eb7d3f9c",
       "version_major": 2,
       "version_minor": 0
      },
      "text/plain": [
       "0it [00:00, ?it/s]"
      ]
     },
     "metadata": {},
     "output_type": "display_data"
    },
    {
     "data": {
      "application/vnd.jupyter.widget-view+json": {
       "model_id": "cbea68e0645d4eb88a366096c05d9d34",
       "version_major": 2,
       "version_minor": 0
      },
      "text/plain": [
       "0it [00:00, ?it/s]"
      ]
     },
     "metadata": {},
     "output_type": "display_data"
    },
    {
     "name": "stderr",
     "output_type": "stream",
     "text": [
      "/tmp/ipykernel_40730/1060138831.py:109: MatplotlibDeprecationWarning: Passing the minor parameter of set_xticks() positionally is deprecated since Matplotlib 3.2; the parameter will become keyword-only two minor releases later.\n",
      "  ax[0].set_xticks([0,50],[0,100])\n",
      "/tmp/ipykernel_40730/1060138831.py:119: MatplotlibDeprecationWarning: Passing the minor parameter of set_xticks() positionally is deprecated since Matplotlib 3.2; the parameter will become keyword-only two minor releases later.\n",
      "  ax[1].set_xticks([0,50],[0,100])\n"
     ]
    },
    {
     "name": "stdout",
     "output_type": "stream",
     "text": [
      "Assym dependence, sym FR:\n",
      "M7_D7_2020-11-06_16-14-44_50ms 19    20\n",
      "Name: cluster_id, dtype: int64\n",
      "5\n"
     ]
    },
    {
     "data": {
      "application/vnd.jupyter.widget-view+json": {
       "model_id": "bb3b41a46b8c43d68f87e73ca9e58ebe",
       "version_major": 2,
       "version_minor": 0
      },
      "text/plain": [
       "0it [00:00, ?it/s]"
      ]
     },
     "metadata": {},
     "output_type": "display_data"
    },
    {
     "data": {
      "application/vnd.jupyter.widget-view+json": {
       "model_id": "a72e1d4c0dcb4b17ab535d6595cb2318",
       "version_major": 2,
       "version_minor": 0
      },
      "text/plain": [
       "0it [00:00, ?it/s]"
      ]
     },
     "metadata": {},
     "output_type": "display_data"
    },
    {
     "data": {
      "application/vnd.jupyter.widget-view+json": {
       "model_id": "1d2e7af78adc40eab39c2c1dfd09d42d",
       "version_major": 2,
       "version_minor": 0
      },
      "text/plain": [
       "0it [00:00, ?it/s]"
      ]
     },
     "metadata": {},
     "output_type": "display_data"
    },
    {
     "data": {
      "application/vnd.jupyter.widget-view+json": {
       "model_id": "98dbb079373c49d7a7306ca9f27d8d9d",
       "version_major": 2,
       "version_minor": 0
      },
      "text/plain": [
       "0it [00:00, ?it/s]"
      ]
     },
     "metadata": {},
     "output_type": "display_data"
    },
    {
     "name": "stderr",
     "output_type": "stream",
     "text": [
      "/tmp/ipykernel_40730/1060138831.py:109: MatplotlibDeprecationWarning: Passing the minor parameter of set_xticks() positionally is deprecated since Matplotlib 3.2; the parameter will become keyword-only two minor releases later.\n",
      "  ax[0].set_xticks([0,50],[0,100])\n",
      "/tmp/ipykernel_40730/1060138831.py:119: MatplotlibDeprecationWarning: Passing the minor parameter of set_xticks() positionally is deprecated since Matplotlib 3.2; the parameter will become keyword-only two minor releases later.\n",
      "  ax[1].set_xticks([0,50],[0,100])\n"
     ]
    },
    {
     "name": "stdout",
     "output_type": "stream",
     "text": [
      "Assym dependence, sym FR:\n",
      "M6_D3_2020-10-31_15-27-13_50ms 29    41\n",
      "Name: cluster_id, dtype: int64\n",
      "3\n"
     ]
    },
    {
     "data": {
      "application/vnd.jupyter.widget-view+json": {
       "model_id": "65abc0f0972c4306a25033e37f92f6ea",
       "version_major": 2,
       "version_minor": 0
      },
      "text/plain": [
       "0it [00:00, ?it/s]"
      ]
     },
     "metadata": {},
     "output_type": "display_data"
    },
    {
     "data": {
      "application/vnd.jupyter.widget-view+json": {
       "model_id": "028f8b85fd7b43e891bf654bd033918e",
       "version_major": 2,
       "version_minor": 0
      },
      "text/plain": [
       "0it [00:00, ?it/s]"
      ]
     },
     "metadata": {},
     "output_type": "display_data"
    },
    {
     "data": {
      "application/vnd.jupyter.widget-view+json": {
       "model_id": "65f6534f52ed448e9c07bcd64cde8612",
       "version_major": 2,
       "version_minor": 0
      },
      "text/plain": [
       "0it [00:00, ?it/s]"
      ]
     },
     "metadata": {},
     "output_type": "display_data"
    },
    {
     "data": {
      "application/vnd.jupyter.widget-view+json": {
       "model_id": "2be488b3d5724079bc35722818780612",
       "version_major": 2,
       "version_minor": 0
      },
      "text/plain": [
       "0it [00:00, ?it/s]"
      ]
     },
     "metadata": {},
     "output_type": "display_data"
    },
    {
     "name": "stderr",
     "output_type": "stream",
     "text": [
      "/tmp/ipykernel_40730/1060138831.py:109: MatplotlibDeprecationWarning: Passing the minor parameter of set_xticks() positionally is deprecated since Matplotlib 3.2; the parameter will become keyword-only two minor releases later.\n",
      "  ax[0].set_xticks([0,50],[0,100])\n",
      "/tmp/ipykernel_40730/1060138831.py:119: MatplotlibDeprecationWarning: Passing the minor parameter of set_xticks() positionally is deprecated since Matplotlib 3.2; the parameter will become keyword-only two minor releases later.\n",
      "  ax[1].set_xticks([0,50],[0,100])\n"
     ]
    },
    {
     "name": "stdout",
     "output_type": "stream",
     "text": [
      "Assym dependence, sym FR:\n",
      "M6_D12_2020-11-13_15-44-22_50ms 28    29\n",
      "32    33\n",
      "Name: cluster_id, dtype: int64\n",
      "11\n"
     ]
    },
    {
     "data": {
      "application/vnd.jupyter.widget-view+json": {
       "model_id": "27795fadb46d440cbcd989209511826c",
       "version_major": 2,
       "version_minor": 0
      },
      "text/plain": [
       "0it [00:00, ?it/s]"
      ]
     },
     "metadata": {},
     "output_type": "display_data"
    },
    {
     "data": {
      "application/vnd.jupyter.widget-view+json": {
       "model_id": "87b9dfa07c7d4f58bbf3e7e5ee4fd831",
       "version_major": 2,
       "version_minor": 0
      },
      "text/plain": [
       "0it [00:00, ?it/s]"
      ]
     },
     "metadata": {},
     "output_type": "display_data"
    },
    {
     "data": {
      "application/vnd.jupyter.widget-view+json": {
       "model_id": "b897959eb3d04d9da864342227385a51",
       "version_major": 2,
       "version_minor": 0
      },
      "text/plain": [
       "0it [00:00, ?it/s]"
      ]
     },
     "metadata": {},
     "output_type": "display_data"
    },
    {
     "data": {
      "application/vnd.jupyter.widget-view+json": {
       "model_id": "da35dc78a9d9434b8ea1f4d8def22fba",
       "version_major": 2,
       "version_minor": 0
      },
      "text/plain": [
       "0it [00:00, ?it/s]"
      ]
     },
     "metadata": {},
     "output_type": "display_data"
    },
    {
     "name": "stdout",
     "output_type": "stream",
     "text": [
      "13\n"
     ]
    },
    {
     "name": "stderr",
     "output_type": "stream",
     "text": [
      "/tmp/ipykernel_40730/1060138831.py:109: MatplotlibDeprecationWarning: Passing the minor parameter of set_xticks() positionally is deprecated since Matplotlib 3.2; the parameter will become keyword-only two minor releases later.\n",
      "  ax[0].set_xticks([0,50],[0,100])\n",
      "/tmp/ipykernel_40730/1060138831.py:119: MatplotlibDeprecationWarning: Passing the minor parameter of set_xticks() positionally is deprecated since Matplotlib 3.2; the parameter will become keyword-only two minor releases later.\n",
      "  ax[1].set_xticks([0,50],[0,100])\n"
     ]
    },
    {
     "data": {
      "application/vnd.jupyter.widget-view+json": {
       "model_id": "e5f777f3697c469fb13066e79947ae03",
       "version_major": 2,
       "version_minor": 0
      },
      "text/plain": [
       "0it [00:00, ?it/s]"
      ]
     },
     "metadata": {},
     "output_type": "display_data"
    },
    {
     "data": {
      "application/vnd.jupyter.widget-view+json": {
       "model_id": "2524e08119ce489da10b2d25ddf91347",
       "version_major": 2,
       "version_minor": 0
      },
      "text/plain": [
       "0it [00:00, ?it/s]"
      ]
     },
     "metadata": {},
     "output_type": "display_data"
    },
    {
     "data": {
      "application/vnd.jupyter.widget-view+json": {
       "model_id": "c62c129cc00f45c980a27d0f9dccb47a",
       "version_major": 2,
       "version_minor": 0
      },
      "text/plain": [
       "0it [00:00, ?it/s]"
      ]
     },
     "metadata": {},
     "output_type": "display_data"
    },
    {
     "data": {
      "application/vnd.jupyter.widget-view+json": {
       "model_id": "67acb5f575b64d89890c9ae15989d641",
       "version_major": 2,
       "version_minor": 0
      },
      "text/plain": [
       "0it [00:00, ?it/s]"
      ]
     },
     "metadata": {},
     "output_type": "display_data"
    },
    {
     "name": "stdout",
     "output_type": "stream",
     "text": [
      "Assym dependence, sym FR:\n",
      "M7_D11_2020-11-12_16-22-33_50ms 9    10\n",
      "Name: cluster_id, dtype: int64\n",
      "5\n"
     ]
    },
    {
     "data": {
      "application/vnd.jupyter.widget-view+json": {
       "model_id": "f0ad9a9784e7434c9dc9753de454b3bb",
       "version_major": 2,
       "version_minor": 0
      },
      "text/plain": [
       "0it [00:00, ?it/s]"
      ]
     },
     "metadata": {},
     "output_type": "display_data"
    },
    {
     "data": {
      "application/vnd.jupyter.widget-view+json": {
       "model_id": "95da3ec435614d46b88bfd0b802dd3ae",
       "version_major": 2,
       "version_minor": 0
      },
      "text/plain": [
       "0it [00:00, ?it/s]"
      ]
     },
     "metadata": {},
     "output_type": "display_data"
    },
    {
     "data": {
      "application/vnd.jupyter.widget-view+json": {
       "model_id": "b020808a79a846819748a42a3d39d834",
       "version_major": 2,
       "version_minor": 0
      },
      "text/plain": [
       "0it [00:00, ?it/s]"
      ]
     },
     "metadata": {},
     "output_type": "display_data"
    },
    {
     "data": {
      "application/vnd.jupyter.widget-view+json": {
       "model_id": "f603064f7225405992255b654cd7d7c3",
       "version_major": 2,
       "version_minor": 0
      },
      "text/plain": [
       "0it [00:00, ?it/s]"
      ]
     },
     "metadata": {},
     "output_type": "display_data"
    },
    {
     "name": "stderr",
     "output_type": "stream",
     "text": [
      "/tmp/ipykernel_40730/1060138831.py:109: MatplotlibDeprecationWarning: Passing the minor parameter of set_xticks() positionally is deprecated since Matplotlib 3.2; the parameter will become keyword-only two minor releases later.\n",
      "  ax[0].set_xticks([0,50],[0,100])\n",
      "/tmp/ipykernel_40730/1060138831.py:119: MatplotlibDeprecationWarning: Passing the minor parameter of set_xticks() positionally is deprecated since Matplotlib 3.2; the parameter will become keyword-only two minor releases later.\n",
      "  ax[1].set_xticks([0,50],[0,100])\n"
     ]
    },
    {
     "name": "stdout",
     "output_type": "stream",
     "text": [
      "Assym dependence, sym FR:\n",
      "M7_D28_2020-12-05_16-15-10_50ms 3    4\n",
      "5    6\n",
      "Name: cluster_id, dtype: int64\n",
      "1\n"
     ]
    },
    {
     "data": {
      "application/vnd.jupyter.widget-view+json": {
       "model_id": "d8abca72b7514cfda72876b2f634acba",
       "version_major": 2,
       "version_minor": 0
      },
      "text/plain": [
       "0it [00:00, ?it/s]"
      ]
     },
     "metadata": {},
     "output_type": "display_data"
    },
    {
     "data": {
      "application/vnd.jupyter.widget-view+json": {
       "model_id": "a313cfa085fd4c1da559f6009104a0b3",
       "version_major": 2,
       "version_minor": 0
      },
      "text/plain": [
       "0it [00:00, ?it/s]"
      ]
     },
     "metadata": {},
     "output_type": "display_data"
    },
    {
     "data": {
      "application/vnd.jupyter.widget-view+json": {
       "model_id": "e8f34a6e4983473094f155c008594c29",
       "version_major": 2,
       "version_minor": 0
      },
      "text/plain": [
       "0it [00:00, ?it/s]"
      ]
     },
     "metadata": {},
     "output_type": "display_data"
    },
    {
     "data": {
      "application/vnd.jupyter.widget-view+json": {
       "model_id": "ed6d6dc10d4e4286bc98ff9265bc0b4b",
       "version_major": 2,
       "version_minor": 0
      },
      "text/plain": [
       "0it [00:00, ?it/s]"
      ]
     },
     "metadata": {},
     "output_type": "display_data"
    },
    {
     "name": "stdout",
     "output_type": "stream",
     "text": [
      "3\n"
     ]
    },
    {
     "name": "stderr",
     "output_type": "stream",
     "text": [
      "/tmp/ipykernel_40730/1060138831.py:109: MatplotlibDeprecationWarning: Passing the minor parameter of set_xticks() positionally is deprecated since Matplotlib 3.2; the parameter will become keyword-only two minor releases later.\n",
      "  ax[0].set_xticks([0,50],[0,100])\n",
      "/tmp/ipykernel_40730/1060138831.py:119: MatplotlibDeprecationWarning: Passing the minor parameter of set_xticks() positionally is deprecated since Matplotlib 3.2; the parameter will become keyword-only two minor releases later.\n",
      "  ax[1].set_xticks([0,50],[0,100])\n"
     ]
    },
    {
     "data": {
      "application/vnd.jupyter.widget-view+json": {
       "model_id": "75298d45688f4794a295f46c16b4d00c",
       "version_major": 2,
       "version_minor": 0
      },
      "text/plain": [
       "0it [00:00, ?it/s]"
      ]
     },
     "metadata": {},
     "output_type": "display_data"
    },
    {
     "data": {
      "application/vnd.jupyter.widget-view+json": {
       "model_id": "9692c696fc6c47b49b81e3e2693551fe",
       "version_major": 2,
       "version_minor": 0
      },
      "text/plain": [
       "0it [00:00, ?it/s]"
      ]
     },
     "metadata": {},
     "output_type": "display_data"
    },
    {
     "data": {
      "application/vnd.jupyter.widget-view+json": {
       "model_id": "f449ae510e3e45f6b96534b3e64de07c",
       "version_major": 2,
       "version_minor": 0
      },
      "text/plain": [
       "0it [00:00, ?it/s]"
      ]
     },
     "metadata": {},
     "output_type": "display_data"
    },
    {
     "data": {
      "application/vnd.jupyter.widget-view+json": {
       "model_id": "9a3ce9b69c0146c990fe51566cd0eb0a",
       "version_major": 2,
       "version_minor": 0
      },
      "text/plain": [
       "0it [00:00, ?it/s]"
      ]
     },
     "metadata": {},
     "output_type": "display_data"
    },
    {
     "name": "stdout",
     "output_type": "stream",
     "text": [
      "Assym dependence, sym FR:\n",
      "M6_D10_2020-11-09_15-44-20_50ms 20    27\n",
      "Name: cluster_id, dtype: int64\n",
      "7\n"
     ]
    },
    {
     "data": {
      "application/vnd.jupyter.widget-view+json": {
       "model_id": "a365fd9fe4604577b8739a1d79b979be",
       "version_major": 2,
       "version_minor": 0
      },
      "text/plain": [
       "0it [00:00, ?it/s]"
      ]
     },
     "metadata": {},
     "output_type": "display_data"
    },
    {
     "data": {
      "application/vnd.jupyter.widget-view+json": {
       "model_id": "558b3b0ba2a84e5b81db27333472f800",
       "version_major": 2,
       "version_minor": 0
      },
      "text/plain": [
       "0it [00:00, ?it/s]"
      ]
     },
     "metadata": {},
     "output_type": "display_data"
    },
    {
     "data": {
      "application/vnd.jupyter.widget-view+json": {
       "model_id": "a451134c9ad347b394f8bc1135d8b595",
       "version_major": 2,
       "version_minor": 0
      },
      "text/plain": [
       "0it [00:00, ?it/s]"
      ]
     },
     "metadata": {},
     "output_type": "display_data"
    },
    {
     "data": {
      "application/vnd.jupyter.widget-view+json": {
       "model_id": "3db62f777a604dce8dacc995b6f5eca0",
       "version_major": 2,
       "version_minor": 0
      },
      "text/plain": [
       "0it [00:00, ?it/s]"
      ]
     },
     "metadata": {},
     "output_type": "display_data"
    },
    {
     "name": "stderr",
     "output_type": "stream",
     "text": [
      "/tmp/ipykernel_40730/1060138831.py:109: MatplotlibDeprecationWarning: Passing the minor parameter of set_xticks() positionally is deprecated since Matplotlib 3.2; the parameter will become keyword-only two minor releases later.\n",
      "  ax[0].set_xticks([0,50],[0,100])\n",
      "/tmp/ipykernel_40730/1060138831.py:119: MatplotlibDeprecationWarning: Passing the minor parameter of set_xticks() positionally is deprecated since Matplotlib 3.2; the parameter will become keyword-only two minor releases later.\n",
      "  ax[1].set_xticks([0,50],[0,100])\n"
     ]
    },
    {
     "name": "stdout",
     "output_type": "stream",
     "text": [
      "Assym dependence, sym FR:\n",
      "M6_D11_2020-11-12_15-39-10_50ms 15    16\n",
      "30    31\n",
      "Name: cluster_id, dtype: int64\n",
      "4\n"
     ]
    },
    {
     "data": {
      "application/vnd.jupyter.widget-view+json": {
       "model_id": "3b37721a3fa6499e82973765bd095307",
       "version_major": 2,
       "version_minor": 0
      },
      "text/plain": [
       "0it [00:00, ?it/s]"
      ]
     },
     "metadata": {},
     "output_type": "display_data"
    },
    {
     "data": {
      "application/vnd.jupyter.widget-view+json": {
       "model_id": "79a8ccb0e7794477a98196a17e5329e9",
       "version_major": 2,
       "version_minor": 0
      },
      "text/plain": [
       "0it [00:00, ?it/s]"
      ]
     },
     "metadata": {},
     "output_type": "display_data"
    },
    {
     "data": {
      "application/vnd.jupyter.widget-view+json": {
       "model_id": "e74b23ef99db4c49b2c043384cd4e1be",
       "version_major": 2,
       "version_minor": 0
      },
      "text/plain": [
       "0it [00:00, ?it/s]"
      ]
     },
     "metadata": {},
     "output_type": "display_data"
    },
    {
     "data": {
      "application/vnd.jupyter.widget-view+json": {
       "model_id": "22751d59a866416993453886278a1239",
       "version_major": 2,
       "version_minor": 0
      },
      "text/plain": [
       "0it [00:00, ?it/s]"
      ]
     },
     "metadata": {},
     "output_type": "display_data"
    },
    {
     "name": "stdout",
     "output_type": "stream",
     "text": [
      "10\n"
     ]
    },
    {
     "name": "stderr",
     "output_type": "stream",
     "text": [
      "/tmp/ipykernel_40730/1060138831.py:109: MatplotlibDeprecationWarning: Passing the minor parameter of set_xticks() positionally is deprecated since Matplotlib 3.2; the parameter will become keyword-only two minor releases later.\n",
      "  ax[0].set_xticks([0,50],[0,100])\n",
      "/tmp/ipykernel_40730/1060138831.py:119: MatplotlibDeprecationWarning: Passing the minor parameter of set_xticks() positionally is deprecated since Matplotlib 3.2; the parameter will become keyword-only two minor releases later.\n",
      "  ax[1].set_xticks([0,50],[0,100])\n"
     ]
    },
    {
     "data": {
      "application/vnd.jupyter.widget-view+json": {
       "model_id": "604b1f3011ad4c2bb16ab6187b04d6a5",
       "version_major": 2,
       "version_minor": 0
      },
      "text/plain": [
       "0it [00:00, ?it/s]"
      ]
     },
     "metadata": {},
     "output_type": "display_data"
    },
    {
     "data": {
      "application/vnd.jupyter.widget-view+json": {
       "model_id": "70f9af560d1b4ad3b3272dc3a1e994d9",
       "version_major": 2,
       "version_minor": 0
      },
      "text/plain": [
       "0it [00:00, ?it/s]"
      ]
     },
     "metadata": {},
     "output_type": "display_data"
    },
    {
     "data": {
      "application/vnd.jupyter.widget-view+json": {
       "model_id": "d1c8b255a0394d7ba681c9cc92335d23",
       "version_major": 2,
       "version_minor": 0
      },
      "text/plain": [
       "0it [00:00, ?it/s]"
      ]
     },
     "metadata": {},
     "output_type": "display_data"
    },
    {
     "data": {
      "application/vnd.jupyter.widget-view+json": {
       "model_id": "6697190abcd84dfa8a116db04a68de09",
       "version_major": 2,
       "version_minor": 0
      },
      "text/plain": [
       "0it [00:00, ?it/s]"
      ]
     },
     "metadata": {},
     "output_type": "display_data"
    },
    {
     "name": "stdout",
     "output_type": "stream",
     "text": [
      "Assym dependence, sym FR:\n",
      "M6_D7_2020-11-06_15-37-15_50ms 32    33\n",
      "Name: cluster_id, dtype: int64\n",
      "12\n"
     ]
    },
    {
     "data": {
      "application/vnd.jupyter.widget-view+json": {
       "model_id": "11bc70b2ac0e4a939fded4d0fbc47423",
       "version_major": 2,
       "version_minor": 0
      },
      "text/plain": [
       "0it [00:00, ?it/s]"
      ]
     },
     "metadata": {},
     "output_type": "display_data"
    },
    {
     "data": {
      "application/vnd.jupyter.widget-view+json": {
       "model_id": "1d7882918fc74c7f8ac4510733ae2f28",
       "version_major": 2,
       "version_minor": 0
      },
      "text/plain": [
       "0it [00:00, ?it/s]"
      ]
     },
     "metadata": {},
     "output_type": "display_data"
    },
    {
     "data": {
      "application/vnd.jupyter.widget-view+json": {
       "model_id": "532643ea1202456a8a9cf74103cb43df",
       "version_major": 2,
       "version_minor": 0
      },
      "text/plain": [
       "0it [00:00, ?it/s]"
      ]
     },
     "metadata": {},
     "output_type": "display_data"
    },
    {
     "data": {
      "application/vnd.jupyter.widget-view+json": {
       "model_id": "33ac51a8122a455e87147c695ccbcbac",
       "version_major": 2,
       "version_minor": 0
      },
      "text/plain": [
       "0it [00:00, ?it/s]"
      ]
     },
     "metadata": {},
     "output_type": "display_data"
    },
    {
     "name": "stderr",
     "output_type": "stream",
     "text": [
      "/tmp/ipykernel_40730/1060138831.py:109: MatplotlibDeprecationWarning: Passing the minor parameter of set_xticks() positionally is deprecated since Matplotlib 3.2; the parameter will become keyword-only two minor releases later.\n",
      "  ax[0].set_xticks([0,50],[0,100])\n",
      "/tmp/ipykernel_40730/1060138831.py:119: MatplotlibDeprecationWarning: Passing the minor parameter of set_xticks() positionally is deprecated since Matplotlib 3.2; the parameter will become keyword-only two minor releases later.\n",
      "  ax[1].set_xticks([0,50],[0,100])\n"
     ]
    },
    {
     "name": "stdout",
     "output_type": "stream",
     "text": [
      "Assym dependence, sym FR:\n",
      "M4_D26_2020-12-03_15-28-32_50ms 6    7\n",
      "Name: cluster_id, dtype: int64\n",
      "0\n"
     ]
    },
    {
     "data": {
      "application/vnd.jupyter.widget-view+json": {
       "model_id": "925300bc8e88438b92c8e8e60f0ed128",
       "version_major": 2,
       "version_minor": 0
      },
      "text/plain": [
       "0it [00:00, ?it/s]"
      ]
     },
     "metadata": {},
     "output_type": "display_data"
    },
    {
     "data": {
      "application/vnd.jupyter.widget-view+json": {
       "model_id": "1e1219f00f3041788b54ba91843decac",
       "version_major": 2,
       "version_minor": 0
      },
      "text/plain": [
       "0it [00:00, ?it/s]"
      ]
     },
     "metadata": {},
     "output_type": "display_data"
    },
    {
     "data": {
      "application/vnd.jupyter.widget-view+json": {
       "model_id": "392c816cce0840e1bd66e1d7fa8df76e",
       "version_major": 2,
       "version_minor": 0
      },
      "text/plain": [
       "0it [00:00, ?it/s]"
      ]
     },
     "metadata": {},
     "output_type": "display_data"
    },
    {
     "data": {
      "application/vnd.jupyter.widget-view+json": {
       "model_id": "5ced0e250f3848b29878d011976b3b53",
       "version_major": 2,
       "version_minor": 0
      },
      "text/plain": [
       "0it [00:00, ?it/s]"
      ]
     },
     "metadata": {},
     "output_type": "display_data"
    },
    {
     "name": "stderr",
     "output_type": "stream",
     "text": [
      "/tmp/ipykernel_40730/1060138831.py:109: MatplotlibDeprecationWarning: Passing the minor parameter of set_xticks() positionally is deprecated since Matplotlib 3.2; the parameter will become keyword-only two minor releases later.\n",
      "  ax[0].set_xticks([0,50],[0,100])\n",
      "/tmp/ipykernel_40730/1060138831.py:119: MatplotlibDeprecationWarning: Passing the minor parameter of set_xticks() positionally is deprecated since Matplotlib 3.2; the parameter will become keyword-only two minor releases later.\n",
      "  ax[1].set_xticks([0,50],[0,100])\n"
     ]
    }
   ],
   "source": [
    "session_list = glob.glob(f\"unified_copula/{cohort}/*.pkl\")\n",
    "ckpt_before,ckpt_after = 80,120\n",
    "for session in tqdm(session_list):\n",
    "    data = pd.read_pickle(session)\n",
    "\n",
    "    diff_before_after=np.zeros((len(data),2))\n",
    "    for cluster_id in range(len(data)):\n",
    "        [ds_rate, ds_vel, ds_pos, trial_num, trial_type] = data.iloc[cluster_id].spikes_per50ms\n",
    "        pos = ds_pos%LENGTH\n",
    "        cond_y = np.empty_like(ds_rate) \n",
    "        cond_y[trial_type==0] = data.iloc[cluster_id].cond_y_t0\n",
    "        cond_y[trial_type==1] = data.iloc[cluster_id].cond_y_t1\n",
    "\n",
    "        diff_before_after[cluster_id] = (np.mean(np.abs(ds_rate[pos<ckpt_before]-cond_y[pos<ckpt_before])),\n",
    "                                         np.mean(np.abs(ds_rate[pos>ckpt_after]-cond_y[pos>ckpt_after])))\n",
    "    \n",
    "    mask = diff_before_after[:,1]!=0\n",
    "\n",
    "    ratio_dep = np.zeros_like(diff_before_after[:,0])\n",
    "    ratio_dep[mask] = diff_before_after[mask,0]/diff_before_after[mask,1]\n",
    "    \n",
    "    diff_before_after=np.zeros((len(data),2))\n",
    "    for cluster_id in range(len(data)):\n",
    "        [ds_rate, ds_vel, ds_pos, trial_num, trial_type] = data.iloc[cluster_id].spikes_per50ms\n",
    "        pos = ds_pos%LENGTH\n",
    "        \n",
    "        diff_before_after[cluster_id] = (np.mean(ds_rate[pos<ckpt_before]),np.mean(ds_rate[pos>ckpt_after]))\n",
    "    \n",
    "    mask = diff_before_after[:,1]!=0\n",
    "\n",
    "    ratio_fr = np.zeros_like(diff_before_after[:,0])\n",
    "    ratio_fr[mask] = diff_before_after[mask,0]/diff_before_after[mask,1]\n",
    "\n",
    "    session_name=(session.split('/')[-1]).split(\"_copula.pkl\")[0]\n",
    "    \n",
    "    assym_dep = ((ratio_dep>2.) & (ratio_dep<10.)) | ((ratio_dep<0.5) & (ratio_dep>0.1))\n",
    "    sym_fr  =   (ratio_fr<1.2) & (ratio_fr >0.8)\n",
    "    mask = assym_dep & sym_fr\n",
    "    if np.any(mask):\n",
    "        print('Assym dependence, sym FR:')\n",
    "        print(session_name, data['cluster_id'][mask])\n",
    "    \n",
    "        for cluster_id in np.where(mask)[0]:\n",
    "            print(cluster_id)\n",
    "#             save_name = f\"interesting/assym_dep_{cohort}_{session_name}_{cluster_id}.png\"\n",
    "#             plot_diff(data, cluster_id, save_name)\n",
    "#             save_name = f\"interesting/sym_fr_{cohort}_{session_name}_{cluster_id}.png\"\n",
    "#             plot_fr(data, cluster_id, save_name)\n",
    "            save_name = f\"interesting/assym_dep_sym_fr_{cohort}_{session_name}_{cluster_id}.png\"\n",
    "            plot_diff_n_fr(data, cluster_id, save_name)\n",
    "#     mask = assym_dep & assym_fr\n",
    "#     if np.any(mask):\n",
    "#         print('Assym everything:')\n",
    "#         print(session_name, data['cluster_id'][mask])\n",
    "    \n",
    "\n",
    "    "
   ]
  },
  {
   "cell_type": "code",
   "execution_count": null,
   "metadata": {},
   "outputs": [],
   "source": []
  },
  {
   "cell_type": "code",
   "execution_count": 280,
   "metadata": {},
   "outputs": [
    {
     "data": {
      "application/vnd.jupyter.widget-view+json": {
       "model_id": "c5c26e3ac6944a96a99de55a4bf731e7",
       "version_major": 2,
       "version_minor": 0
      },
      "text/plain": [
       "  0%|          | 0/102 [00:00<?, ?it/s]"
      ]
     },
     "metadata": {},
     "output_type": "display_data"
    },
    {
     "name": "stdout",
     "output_type": "stream",
     "text": [
      "0.33840172846821065\n",
      "M3_D23_2020-11-28_15-13-28 0\n"
     ]
    },
    {
     "name": "stderr",
     "output_type": "stream",
     "text": [
      "/tmp/ipykernel_40730/2219265660.py:44: MatplotlibDeprecationWarning: Passing the minor parameter of set_xticks() positionally is deprecated since Matplotlib 3.2; the parameter will become keyword-only two minor releases later.\n",
      "  ax[0].set_xticks([0,50],[0,100])\n",
      "/tmp/ipykernel_40730/2219265660.py:54: MatplotlibDeprecationWarning: Passing the minor parameter of set_xticks() positionally is deprecated since Matplotlib 3.2; the parameter will become keyword-only two minor releases later.\n",
      "  ax[1].set_xticks([0,50],[0,100])\n",
      "/home/nina/miniconda3/envs/SarahData/lib/python3.8/site-packages/numpy/lib/function_base.py:2829: RuntimeWarning: invalid value encountered in true_divide\n",
      "  c /= stddev[:, None]\n"
     ]
    },
    {
     "name": "stdout",
     "output_type": "stream",
     "text": [
      "nan\n",
      "0.1919725976324262\n",
      "nan\n",
      "nan\n",
      "nan\n",
      "nan\n",
      "nan\n",
      "0.3610234002328443\n",
      "M4_D12_2020-11-13_15-08-51 0\n"
     ]
    },
    {
     "name": "stderr",
     "output_type": "stream",
     "text": [
      "/tmp/ipykernel_40730/2219265660.py:44: MatplotlibDeprecationWarning: Passing the minor parameter of set_xticks() positionally is deprecated since Matplotlib 3.2; the parameter will become keyword-only two minor releases later.\n",
      "  ax[0].set_xticks([0,50],[0,100])\n",
      "/tmp/ipykernel_40730/2219265660.py:54: MatplotlibDeprecationWarning: Passing the minor parameter of set_xticks() positionally is deprecated since Matplotlib 3.2; the parameter will become keyword-only two minor releases later.\n",
      "  ax[1].set_xticks([0,50],[0,100])\n",
      "/home/nina/miniconda3/envs/SarahData/lib/python3.8/site-packages/numpy/lib/function_base.py:2829: RuntimeWarning: invalid value encountered in true_divide\n",
      "  c /= stddev[:, None]\n"
     ]
    },
    {
     "name": "stdout",
     "output_type": "stream",
     "text": [
      "nan\n",
      "0.2954764836382305\n",
      "M3_D21_2020-11-26_14-59-39 4\n"
     ]
    },
    {
     "name": "stderr",
     "output_type": "stream",
     "text": [
      "/tmp/ipykernel_40730/2219265660.py:44: MatplotlibDeprecationWarning: Passing the minor parameter of set_xticks() positionally is deprecated since Matplotlib 3.2; the parameter will become keyword-only two minor releases later.\n",
      "  ax[0].set_xticks([0,50],[0,100])\n",
      "/tmp/ipykernel_40730/2219265660.py:54: MatplotlibDeprecationWarning: Passing the minor parameter of set_xticks() positionally is deprecated since Matplotlib 3.2; the parameter will become keyword-only two minor releases later.\n",
      "  ax[1].set_xticks([0,50],[0,100])\n"
     ]
    },
    {
     "name": "stdout",
     "output_type": "stream",
     "text": [
      "nan\n",
      "nan\n",
      "nan\n",
      "nan\n",
      "nan\n",
      "nan\n",
      "nan\n",
      "0.7233299386622397\n"
     ]
    },
    {
     "name": "stderr",
     "output_type": "stream",
     "text": [
      "/home/nina/miniconda3/envs/SarahData/lib/python3.8/site-packages/numpy/lib/function_base.py:2829: RuntimeWarning: invalid value encountered in true_divide\n",
      "  c /= stddev[:, None]\n"
     ]
    },
    {
     "name": "stdout",
     "output_type": "stream",
     "text": [
      "nan\n",
      "0.8212597111584948\n",
      "nan\n",
      "0.822655496513677\n"
     ]
    },
    {
     "name": "stderr",
     "output_type": "stream",
     "text": [
      "/home/nina/miniconda3/envs/SarahData/lib/python3.8/site-packages/numpy/lib/function_base.py:2829: RuntimeWarning: invalid value encountered in true_divide\n",
      "  c /= stddev[:, None]\n"
     ]
    },
    {
     "name": "stdout",
     "output_type": "stream",
     "text": [
      "nan\n"
     ]
    },
    {
     "name": "stderr",
     "output_type": "stream",
     "text": [
      "/home/nina/miniconda3/envs/SarahData/lib/python3.8/site-packages/numpy/lib/function_base.py:2829: RuntimeWarning: invalid value encountered in true_divide\n",
      "  c /= stddev[:, None]\n"
     ]
    },
    {
     "name": "stdout",
     "output_type": "stream",
     "text": [
      "nan\n"
     ]
    },
    {
     "name": "stderr",
     "output_type": "stream",
     "text": [
      "/home/nina/miniconda3/envs/SarahData/lib/python3.8/site-packages/numpy/lib/function_base.py:2829: RuntimeWarning: invalid value encountered in true_divide\n",
      "  c /= stddev[:, None]\n"
     ]
    },
    {
     "name": "stdout",
     "output_type": "stream",
     "text": [
      "nan\n",
      "0.6231093314178239\n",
      "0.5953459833187896\n"
     ]
    },
    {
     "name": "stderr",
     "output_type": "stream",
     "text": [
      "/home/nina/miniconda3/envs/SarahData/lib/python3.8/site-packages/numpy/lib/function_base.py:2829: RuntimeWarning: invalid value encountered in true_divide\n",
      "  c /= stddev[:, None]\n"
     ]
    },
    {
     "name": "stdout",
     "output_type": "stream",
     "text": [
      "nan\n"
     ]
    },
    {
     "name": "stderr",
     "output_type": "stream",
     "text": [
      "/home/nina/miniconda3/envs/SarahData/lib/python3.8/site-packages/numpy/lib/function_base.py:2829: RuntimeWarning: invalid value encountered in true_divide\n",
      "  c /= stddev[:, None]\n"
     ]
    },
    {
     "name": "stdout",
     "output_type": "stream",
     "text": [
      "nan\n",
      "0.41339673938340316\n",
      "M3_D22_2020-11-27_15-01-24 3\n"
     ]
    },
    {
     "name": "stderr",
     "output_type": "stream",
     "text": [
      "/tmp/ipykernel_40730/2219265660.py:44: MatplotlibDeprecationWarning: Passing the minor parameter of set_xticks() positionally is deprecated since Matplotlib 3.2; the parameter will become keyword-only two minor releases later.\n",
      "  ax[0].set_xticks([0,50],[0,100])\n",
      "/tmp/ipykernel_40730/2219265660.py:54: MatplotlibDeprecationWarning: Passing the minor parameter of set_xticks() positionally is deprecated since Matplotlib 3.2; the parameter will become keyword-only two minor releases later.\n",
      "  ax[1].set_xticks([0,50],[0,100])\n"
     ]
    },
    {
     "name": "stdout",
     "output_type": "stream",
     "text": [
      "nan\n",
      "nan\n"
     ]
    },
    {
     "name": "stderr",
     "output_type": "stream",
     "text": [
      "/home/nina/miniconda3/envs/SarahData/lib/python3.8/site-packages/numpy/lib/function_base.py:2829: RuntimeWarning: invalid value encountered in true_divide\n",
      "  c /= stddev[:, None]\n"
     ]
    },
    {
     "name": "stdout",
     "output_type": "stream",
     "text": [
      "nan\n",
      "0.49827875866529325\n",
      "M4_D11_2020-11-12_15-03-41 2\n"
     ]
    },
    {
     "name": "stderr",
     "output_type": "stream",
     "text": [
      "/tmp/ipykernel_40730/2219265660.py:44: MatplotlibDeprecationWarning: Passing the minor parameter of set_xticks() positionally is deprecated since Matplotlib 3.2; the parameter will become keyword-only two minor releases later.\n",
      "  ax[0].set_xticks([0,50],[0,100])\n",
      "/tmp/ipykernel_40730/2219265660.py:54: MatplotlibDeprecationWarning: Passing the minor parameter of set_xticks() positionally is deprecated since Matplotlib 3.2; the parameter will become keyword-only two minor releases later.\n",
      "  ax[1].set_xticks([0,50],[0,100])\n"
     ]
    },
    {
     "name": "stdout",
     "output_type": "stream",
     "text": [
      "0.4272340604512614\n",
      "M6_D14_2020-11-15_15-37-28 4\n"
     ]
    },
    {
     "name": "stderr",
     "output_type": "stream",
     "text": [
      "/tmp/ipykernel_40730/2219265660.py:44: MatplotlibDeprecationWarning: Passing the minor parameter of set_xticks() positionally is deprecated since Matplotlib 3.2; the parameter will become keyword-only two minor releases later.\n",
      "  ax[0].set_xticks([0,50],[0,100])\n",
      "/tmp/ipykernel_40730/2219265660.py:54: MatplotlibDeprecationWarning: Passing the minor parameter of set_xticks() positionally is deprecated since Matplotlib 3.2; the parameter will become keyword-only two minor releases later.\n",
      "  ax[1].set_xticks([0,50],[0,100])\n",
      "/home/nina/miniconda3/envs/SarahData/lib/python3.8/site-packages/numpy/lib/function_base.py:2829: RuntimeWarning: invalid value encountered in true_divide\n",
      "  c /= stddev[:, None]\n"
     ]
    },
    {
     "name": "stdout",
     "output_type": "stream",
     "text": [
      "nan\n",
      "nan\n"
     ]
    },
    {
     "name": "stderr",
     "output_type": "stream",
     "text": [
      "/home/nina/miniconda3/envs/SarahData/lib/python3.8/site-packages/numpy/lib/function_base.py:2829: RuntimeWarning: invalid value encountered in true_divide\n",
      "  c /= stddev[:, None]\n"
     ]
    },
    {
     "name": "stdout",
     "output_type": "stream",
     "text": [
      "nan\n",
      "0.22189647757855688\n",
      "0.2372789557520976\n",
      "0.3334214829260037\n",
      "M3_D19_2020-11-22_14-48-51 17\n"
     ]
    },
    {
     "name": "stderr",
     "output_type": "stream",
     "text": [
      "/tmp/ipykernel_40730/2219265660.py:44: MatplotlibDeprecationWarning: Passing the minor parameter of set_xticks() positionally is deprecated since Matplotlib 3.2; the parameter will become keyword-only two minor releases later.\n",
      "  ax[0].set_xticks([0,50],[0,100])\n",
      "/tmp/ipykernel_40730/2219265660.py:54: MatplotlibDeprecationWarning: Passing the minor parameter of set_xticks() positionally is deprecated since Matplotlib 3.2; the parameter will become keyword-only two minor releases later.\n",
      "  ax[1].set_xticks([0,50],[0,100])\n",
      "/home/nina/miniconda3/envs/SarahData/lib/python3.8/site-packages/numpy/lib/function_base.py:2829: RuntimeWarning: invalid value encountered in true_divide\n",
      "  c /= stddev[:, None]\n"
     ]
    },
    {
     "name": "stdout",
     "output_type": "stream",
     "text": [
      "nan\n"
     ]
    },
    {
     "name": "stderr",
     "output_type": "stream",
     "text": [
      "/home/nina/miniconda3/envs/SarahData/lib/python3.8/site-packages/numpy/lib/function_base.py:2829: RuntimeWarning: invalid value encountered in true_divide\n",
      "  c /= stddev[:, None]\n"
     ]
    },
    {
     "name": "stdout",
     "output_type": "stream",
     "text": [
      "nan\n",
      "nan\n",
      "0.6151511018803828\n"
     ]
    },
    {
     "name": "stderr",
     "output_type": "stream",
     "text": [
      "/home/nina/miniconda3/envs/SarahData/lib/python3.8/site-packages/numpy/lib/function_base.py:2829: RuntimeWarning: invalid value encountered in true_divide\n",
      "  c /= stddev[:, None]\n"
     ]
    },
    {
     "name": "stdout",
     "output_type": "stream",
     "text": [
      "nan\n",
      "0.3060915919106939\n",
      "M3_D6_2020-11-05_14-37-17 4\n"
     ]
    },
    {
     "name": "stderr",
     "output_type": "stream",
     "text": [
      "/tmp/ipykernel_40730/2219265660.py:44: MatplotlibDeprecationWarning: Passing the minor parameter of set_xticks() positionally is deprecated since Matplotlib 3.2; the parameter will become keyword-only two minor releases later.\n",
      "  ax[0].set_xticks([0,50],[0,100])\n",
      "/tmp/ipykernel_40730/2219265660.py:54: MatplotlibDeprecationWarning: Passing the minor parameter of set_xticks() positionally is deprecated since Matplotlib 3.2; the parameter will become keyword-only two minor releases later.\n",
      "  ax[1].set_xticks([0,50],[0,100])\n"
     ]
    },
    {
     "name": "stdout",
     "output_type": "stream",
     "text": [
      "0.34986640930590585\n",
      "M3_D18_2020-11-21_14-29-49 6\n"
     ]
    },
    {
     "name": "stderr",
     "output_type": "stream",
     "text": [
      "/tmp/ipykernel_40730/2219265660.py:44: MatplotlibDeprecationWarning: Passing the minor parameter of set_xticks() positionally is deprecated since Matplotlib 3.2; the parameter will become keyword-only two minor releases later.\n",
      "  ax[0].set_xticks([0,50],[0,100])\n",
      "/tmp/ipykernel_40730/2219265660.py:54: MatplotlibDeprecationWarning: Passing the minor parameter of set_xticks() positionally is deprecated since Matplotlib 3.2; the parameter will become keyword-only two minor releases later.\n",
      "  ax[1].set_xticks([0,50],[0,100])\n",
      "/home/nina/miniconda3/envs/SarahData/lib/python3.8/site-packages/numpy/lib/function_base.py:2829: RuntimeWarning: invalid value encountered in true_divide\n",
      "  c /= stddev[:, None]\n"
     ]
    },
    {
     "name": "stdout",
     "output_type": "stream",
     "text": [
      "nan\n",
      "nan\n"
     ]
    },
    {
     "name": "stderr",
     "output_type": "stream",
     "text": [
      "/home/nina/miniconda3/envs/SarahData/lib/python3.8/site-packages/numpy/lib/function_base.py:2829: RuntimeWarning: invalid value encountered in true_divide\n",
      "  c /= stddev[:, None]\n"
     ]
    },
    {
     "name": "stdout",
     "output_type": "stream",
     "text": [
      "nan\n",
      "0.5143135382602688\n"
     ]
    },
    {
     "name": "stderr",
     "output_type": "stream",
     "text": [
      "/home/nina/miniconda3/envs/SarahData/lib/python3.8/site-packages/numpy/lib/function_base.py:2829: RuntimeWarning: invalid value encountered in true_divide\n",
      "  c /= stddev[:, None]\n"
     ]
    },
    {
     "name": "stdout",
     "output_type": "stream",
     "text": [
      "nan\n"
     ]
    },
    {
     "name": "stderr",
     "output_type": "stream",
     "text": [
      "/home/nina/miniconda3/envs/SarahData/lib/python3.8/site-packages/numpy/lib/function_base.py:2829: RuntimeWarning: invalid value encountered in true_divide\n",
      "  c /= stddev[:, None]\n"
     ]
    },
    {
     "name": "stdout",
     "output_type": "stream",
     "text": [
      "nan\n",
      "0.2575955663908595\n",
      "M6_D3_2020-10-31_15-27-13 3\n"
     ]
    },
    {
     "name": "stderr",
     "output_type": "stream",
     "text": [
      "/tmp/ipykernel_40730/2219265660.py:44: MatplotlibDeprecationWarning: Passing the minor parameter of set_xticks() positionally is deprecated since Matplotlib 3.2; the parameter will become keyword-only two minor releases later.\n",
      "  ax[0].set_xticks([0,50],[0,100])\n",
      "/tmp/ipykernel_40730/2219265660.py:54: MatplotlibDeprecationWarning: Passing the minor parameter of set_xticks() positionally is deprecated since Matplotlib 3.2; the parameter will become keyword-only two minor releases later.\n",
      "  ax[1].set_xticks([0,50],[0,100])\n"
     ]
    },
    {
     "name": "stdout",
     "output_type": "stream",
     "text": [
      "0.3815901745446739\n",
      "M7_D12_2020-11-13_16-20-54 1\n"
     ]
    },
    {
     "name": "stderr",
     "output_type": "stream",
     "text": [
      "/tmp/ipykernel_40730/2219265660.py:44: MatplotlibDeprecationWarning: Passing the minor parameter of set_xticks() positionally is deprecated since Matplotlib 3.2; the parameter will become keyword-only two minor releases later.\n",
      "  ax[0].set_xticks([0,50],[0,100])\n",
      "/tmp/ipykernel_40730/2219265660.py:54: MatplotlibDeprecationWarning: Passing the minor parameter of set_xticks() positionally is deprecated since Matplotlib 3.2; the parameter will become keyword-only two minor releases later.\n",
      "  ax[1].set_xticks([0,50],[0,100])\n",
      "/home/nina/miniconda3/envs/SarahData/lib/python3.8/site-packages/numpy/lib/function_base.py:2829: RuntimeWarning: invalid value encountered in true_divide\n",
      "  c /= stddev[:, None]\n"
     ]
    },
    {
     "name": "stdout",
     "output_type": "stream",
     "text": [
      "nan\n",
      "0.2170069129753697\n",
      "0.5245630521033926\n",
      "nan\n",
      "0.6175084833267056\n",
      "0.38286742778308247\n",
      "M6_D12_2020-11-13_15-44-22 7\n"
     ]
    },
    {
     "name": "stderr",
     "output_type": "stream",
     "text": [
      "/tmp/ipykernel_40730/2219265660.py:44: MatplotlibDeprecationWarning: Passing the minor parameter of set_xticks() positionally is deprecated since Matplotlib 3.2; the parameter will become keyword-only two minor releases later.\n",
      "  ax[0].set_xticks([0,50],[0,100])\n",
      "/tmp/ipykernel_40730/2219265660.py:54: MatplotlibDeprecationWarning: Passing the minor parameter of set_xticks() positionally is deprecated since Matplotlib 3.2; the parameter will become keyword-only two minor releases later.\n",
      "  ax[1].set_xticks([0,50],[0,100])\n"
     ]
    },
    {
     "name": "stdout",
     "output_type": "stream",
     "text": [
      "0.5144419548704552\n",
      "0.4285811198701552\n",
      "M6_D12_2020-11-13_15-44-22 9\n",
      "0.3063415496053331\n",
      "M6_D12_2020-11-13_15-44-22 11\n",
      "0.3942361769242349\n",
      "M6_D12_2020-11-13_15-44-22 12\n",
      "0.36010560050180795\n",
      "M6_D12_2020-11-13_15-44-22 13\n"
     ]
    },
    {
     "name": "stderr",
     "output_type": "stream",
     "text": [
      "/home/nina/miniconda3/envs/SarahData/lib/python3.8/site-packages/numpy/lib/function_base.py:2829: RuntimeWarning: invalid value encountered in true_divide\n",
      "  c /= stddev[:, None]\n"
     ]
    },
    {
     "name": "stdout",
     "output_type": "stream",
     "text": [
      "nan\n",
      "nan\n",
      "0.4057330994480938\n",
      "M6_D15_2020-11-16_15-36-31 6\n"
     ]
    },
    {
     "name": "stderr",
     "output_type": "stream",
     "text": [
      "/tmp/ipykernel_40730/2219265660.py:44: MatplotlibDeprecationWarning: Passing the minor parameter of set_xticks() positionally is deprecated since Matplotlib 3.2; the parameter will become keyword-only two minor releases later.\n",
      "  ax[0].set_xticks([0,50],[0,100])\n",
      "/tmp/ipykernel_40730/2219265660.py:54: MatplotlibDeprecationWarning: Passing the minor parameter of set_xticks() positionally is deprecated since Matplotlib 3.2; the parameter will become keyword-only two minor releases later.\n",
      "  ax[1].set_xticks([0,50],[0,100])\n"
     ]
    },
    {
     "name": "stdout",
     "output_type": "stream",
     "text": [
      "0.21366326242324724\n"
     ]
    },
    {
     "name": "stderr",
     "output_type": "stream",
     "text": [
      "/home/nina/miniconda3/envs/SarahData/lib/python3.8/site-packages/numpy/lib/function_base.py:2829: RuntimeWarning: invalid value encountered in true_divide\n",
      "  c /= stddev[:, None]\n"
     ]
    },
    {
     "name": "stdout",
     "output_type": "stream",
     "text": [
      "nan\n",
      "0.5701749943214469\n",
      "nan\n"
     ]
    },
    {
     "name": "stderr",
     "output_type": "stream",
     "text": [
      "/home/nina/miniconda3/envs/SarahData/lib/python3.8/site-packages/numpy/lib/function_base.py:2829: RuntimeWarning: invalid value encountered in true_divide\n",
      "  c /= stddev[:, None]\n"
     ]
    },
    {
     "name": "stdout",
     "output_type": "stream",
     "text": [
      "nan\n"
     ]
    },
    {
     "name": "stderr",
     "output_type": "stream",
     "text": [
      "/home/nina/miniconda3/envs/SarahData/lib/python3.8/site-packages/numpy/lib/function_base.py:2829: RuntimeWarning: invalid value encountered in true_divide\n",
      "  c /= stddev[:, None]\n"
     ]
    },
    {
     "name": "stdout",
     "output_type": "stream",
     "text": [
      "nan\n",
      "nan\n"
     ]
    },
    {
     "name": "stderr",
     "output_type": "stream",
     "text": [
      "/home/nina/miniconda3/envs/SarahData/lib/python3.8/site-packages/numpy/lib/function_base.py:2829: RuntimeWarning: invalid value encountered in true_divide\n",
      "  c /= stddev[:, None]\n"
     ]
    },
    {
     "name": "stdout",
     "output_type": "stream",
     "text": [
      "nan\n",
      "nan\n",
      "nan\n",
      "nan\n"
     ]
    },
    {
     "name": "stderr",
     "output_type": "stream",
     "text": [
      "/home/nina/miniconda3/envs/SarahData/lib/python3.8/site-packages/numpy/lib/function_base.py:2829: RuntimeWarning: invalid value encountered in true_divide\n",
      "  c /= stddev[:, None]\n"
     ]
    },
    {
     "name": "stdout",
     "output_type": "stream",
     "text": [
      "nan\n"
     ]
    },
    {
     "name": "stderr",
     "output_type": "stream",
     "text": [
      "/home/nina/miniconda3/envs/SarahData/lib/python3.8/site-packages/numpy/lib/function_base.py:2829: RuntimeWarning: invalid value encountered in true_divide\n",
      "  c /= stddev[:, None]\n"
     ]
    },
    {
     "name": "stdout",
     "output_type": "stream",
     "text": [
      "nan\n",
      "0.5623495230300134\n",
      "nan\n",
      "0.6723717017001812\n",
      "0.612612424140649\n"
     ]
    },
    {
     "name": "stderr",
     "output_type": "stream",
     "text": [
      "/home/nina/miniconda3/envs/SarahData/lib/python3.8/site-packages/numpy/lib/function_base.py:2829: RuntimeWarning: invalid value encountered in true_divide\n",
      "  c /= stddev[:, None]\n"
     ]
    },
    {
     "name": "stdout",
     "output_type": "stream",
     "text": [
      "nan\n",
      "nan\n",
      "0.1214017048224696\n",
      "0.6617313306727951\n"
     ]
    },
    {
     "name": "stderr",
     "output_type": "stream",
     "text": [
      "/home/nina/miniconda3/envs/SarahData/lib/python3.8/site-packages/numpy/lib/function_base.py:2829: RuntimeWarning: invalid value encountered in true_divide\n",
      "  c /= stddev[:, None]\n"
     ]
    },
    {
     "name": "stdout",
     "output_type": "stream",
     "text": [
      "nan\n",
      "nan\n",
      "0.5229588676020176\n",
      "0.5551030480282517\n"
     ]
    },
    {
     "name": "stderr",
     "output_type": "stream",
     "text": [
      "/home/nina/miniconda3/envs/SarahData/lib/python3.8/site-packages/numpy/lib/function_base.py:2829: RuntimeWarning: invalid value encountered in true_divide\n",
      "  c /= stddev[:, None]\n"
     ]
    },
    {
     "name": "stdout",
     "output_type": "stream",
     "text": [
      "nan\n",
      "nan\n",
      "0.35983301794837463\n",
      "M6_D9_2020-11-08_15-53-11 2\n"
     ]
    },
    {
     "name": "stderr",
     "output_type": "stream",
     "text": [
      "/tmp/ipykernel_40730/2219265660.py:44: MatplotlibDeprecationWarning: Passing the minor parameter of set_xticks() positionally is deprecated since Matplotlib 3.2; the parameter will become keyword-only two minor releases later.\n",
      "  ax[0].set_xticks([0,50],[0,100])\n",
      "/tmp/ipykernel_40730/2219265660.py:54: MatplotlibDeprecationWarning: Passing the minor parameter of set_xticks() positionally is deprecated since Matplotlib 3.2; the parameter will become keyword-only two minor releases later.\n",
      "  ax[1].set_xticks([0,50],[0,100])\n"
     ]
    },
    {
     "name": "stdout",
     "output_type": "stream",
     "text": [
      "0.5430366439983195\n"
     ]
    },
    {
     "name": "stderr",
     "output_type": "stream",
     "text": [
      "/home/nina/miniconda3/envs/SarahData/lib/python3.8/site-packages/numpy/lib/function_base.py:2829: RuntimeWarning: invalid value encountered in true_divide\n",
      "  c /= stddev[:, None]\n"
     ]
    },
    {
     "name": "stdout",
     "output_type": "stream",
     "text": [
      "nan\n",
      "nan\n",
      "0.4696114004646623\n",
      "M6_D10_2020-11-09_15-44-20 0\n"
     ]
    },
    {
     "name": "stderr",
     "output_type": "stream",
     "text": [
      "/tmp/ipykernel_40730/2219265660.py:44: MatplotlibDeprecationWarning: Passing the minor parameter of set_xticks() positionally is deprecated since Matplotlib 3.2; the parameter will become keyword-only two minor releases later.\n",
      "  ax[0].set_xticks([0,50],[0,100])\n",
      "/tmp/ipykernel_40730/2219265660.py:54: MatplotlibDeprecationWarning: Passing the minor parameter of set_xticks() positionally is deprecated since Matplotlib 3.2; the parameter will become keyword-only two minor releases later.\n",
      "  ax[1].set_xticks([0,50],[0,100])\n"
     ]
    },
    {
     "name": "stdout",
     "output_type": "stream",
     "text": [
      "0.6280424025996848\n",
      "0.7344731649641096\n",
      "0.654127178877607\n",
      "0.6584970623883959\n"
     ]
    },
    {
     "name": "stderr",
     "output_type": "stream",
     "text": [
      "/home/nina/miniconda3/envs/SarahData/lib/python3.8/site-packages/numpy/lib/function_base.py:2829: RuntimeWarning: invalid value encountered in true_divide\n",
      "  c /= stddev[:, None]\n"
     ]
    },
    {
     "name": "stdout",
     "output_type": "stream",
     "text": [
      "nan\n",
      "nan\n",
      "nan\n",
      "nan\n",
      "0.6910523598625289\n",
      "nan\n",
      "nan\n",
      "nan\n",
      "nan\n",
      "0.5275686761677402\n",
      "0.5264034975212473\n",
      "0.5247000521258166\n",
      "0.4784058434136309\n",
      "M6_D6_2020-11-05_15-50-22 3\n"
     ]
    },
    {
     "name": "stderr",
     "output_type": "stream",
     "text": [
      "/tmp/ipykernel_40730/2219265660.py:44: MatplotlibDeprecationWarning: Passing the minor parameter of set_xticks() positionally is deprecated since Matplotlib 3.2; the parameter will become keyword-only two minor releases later.\n",
      "  ax[0].set_xticks([0,50],[0,100])\n",
      "/tmp/ipykernel_40730/2219265660.py:54: MatplotlibDeprecationWarning: Passing the minor parameter of set_xticks() positionally is deprecated since Matplotlib 3.2; the parameter will become keyword-only two minor releases later.\n",
      "  ax[1].set_xticks([0,50],[0,100])\n",
      "/home/nina/miniconda3/envs/SarahData/lib/python3.8/site-packages/numpy/lib/function_base.py:2829: RuntimeWarning: invalid value encountered in true_divide\n",
      "  c /= stddev[:, None]\n"
     ]
    },
    {
     "name": "stdout",
     "output_type": "stream",
     "text": [
      "nan\n",
      "nan\n"
     ]
    },
    {
     "name": "stderr",
     "output_type": "stream",
     "text": [
      "/home/nina/miniconda3/envs/SarahData/lib/python3.8/site-packages/numpy/lib/function_base.py:2829: RuntimeWarning: invalid value encountered in true_divide\n",
      "  c /= stddev[:, None]\n"
     ]
    },
    {
     "name": "stdout",
     "output_type": "stream",
     "text": [
      "nan\n",
      "0.46340051416069367\n",
      "M6_D13_2020-11-14_15-40-42 7\n"
     ]
    },
    {
     "name": "stderr",
     "output_type": "stream",
     "text": [
      "/tmp/ipykernel_40730/2219265660.py:44: MatplotlibDeprecationWarning: Passing the minor parameter of set_xticks() positionally is deprecated since Matplotlib 3.2; the parameter will become keyword-only two minor releases later.\n",
      "  ax[0].set_xticks([0,50],[0,100])\n",
      "/tmp/ipykernel_40730/2219265660.py:54: MatplotlibDeprecationWarning: Passing the minor parameter of set_xticks() positionally is deprecated since Matplotlib 3.2; the parameter will become keyword-only two minor releases later.\n",
      "  ax[1].set_xticks([0,50],[0,100])\n"
     ]
    },
    {
     "name": "stdout",
     "output_type": "stream",
     "text": [
      "0.36292143484102485\n",
      "M6_D13_2020-11-14_15-40-42 9\n",
      "nan\n",
      "0.4624373113700535\n",
      "M3_D4_2020-11-01_14-12-26 1\n"
     ]
    },
    {
     "name": "stderr",
     "output_type": "stream",
     "text": [
      "/tmp/ipykernel_40730/2219265660.py:44: MatplotlibDeprecationWarning: Passing the minor parameter of set_xticks() positionally is deprecated since Matplotlib 3.2; the parameter will become keyword-only two minor releases later.\n",
      "  ax[0].set_xticks([0,50],[0,100])\n",
      "/tmp/ipykernel_40730/2219265660.py:54: MatplotlibDeprecationWarning: Passing the minor parameter of set_xticks() positionally is deprecated since Matplotlib 3.2; the parameter will become keyword-only two minor releases later.\n",
      "  ax[1].set_xticks([0,50],[0,100])\n"
     ]
    },
    {
     "name": "stdout",
     "output_type": "stream",
     "text": [
      "0.3688157911846684\n",
      "M3_D4_2020-11-01_14-12-26 2\n",
      "0.5308596282119395\n"
     ]
    },
    {
     "name": "stderr",
     "output_type": "stream",
     "text": [
      "/home/nina/miniconda3/envs/SarahData/lib/python3.8/site-packages/numpy/lib/function_base.py:2829: RuntimeWarning: invalid value encountered in true_divide\n",
      "  c /= stddev[:, None]\n"
     ]
    },
    {
     "name": "stdout",
     "output_type": "stream",
     "text": [
      "nan\n",
      "nan\n",
      "0.662685278995168\n",
      "0.4525517910701362\n",
      "M3_D15_2020-11-16_14-21-36 2\n"
     ]
    },
    {
     "name": "stderr",
     "output_type": "stream",
     "text": [
      "/tmp/ipykernel_40730/2219265660.py:44: MatplotlibDeprecationWarning: Passing the minor parameter of set_xticks() positionally is deprecated since Matplotlib 3.2; the parameter will become keyword-only two minor releases later.\n",
      "  ax[0].set_xticks([0,50],[0,100])\n",
      "/tmp/ipykernel_40730/2219265660.py:54: MatplotlibDeprecationWarning: Passing the minor parameter of set_xticks() positionally is deprecated since Matplotlib 3.2; the parameter will become keyword-only two minor releases later.\n",
      "  ax[1].set_xticks([0,50],[0,100])\n"
     ]
    },
    {
     "name": "stdout",
     "output_type": "stream",
     "text": [
      "0.26784456054872885\n",
      "M7_D17_2020-11-20_16-15-32 0\n"
     ]
    },
    {
     "name": "stderr",
     "output_type": "stream",
     "text": [
      "/tmp/ipykernel_40730/2219265660.py:44: MatplotlibDeprecationWarning: Passing the minor parameter of set_xticks() positionally is deprecated since Matplotlib 3.2; the parameter will become keyword-only two minor releases later.\n",
      "  ax[0].set_xticks([0,50],[0,100])\n",
      "/tmp/ipykernel_40730/2219265660.py:54: MatplotlibDeprecationWarning: Passing the minor parameter of set_xticks() positionally is deprecated since Matplotlib 3.2; the parameter will become keyword-only two minor releases later.\n",
      "  ax[1].set_xticks([0,50],[0,100])\n",
      "/home/nina/miniconda3/envs/SarahData/lib/python3.8/site-packages/numpy/lib/function_base.py:2829: RuntimeWarning: invalid value encountered in true_divide\n",
      "  c /= stddev[:, None]\n"
     ]
    },
    {
     "name": "stdout",
     "output_type": "stream",
     "text": [
      "nan\n",
      "0.5919795436442606\n",
      "0.4932147573359498\n",
      "M3_D12_2020-11-13_14-27-08 4\n"
     ]
    },
    {
     "name": "stderr",
     "output_type": "stream",
     "text": [
      "/tmp/ipykernel_40730/2219265660.py:44: MatplotlibDeprecationWarning: Passing the minor parameter of set_xticks() positionally is deprecated since Matplotlib 3.2; the parameter will become keyword-only two minor releases later.\n",
      "  ax[0].set_xticks([0,50],[0,100])\n",
      "/tmp/ipykernel_40730/2219265660.py:54: MatplotlibDeprecationWarning: Passing the minor parameter of set_xticks() positionally is deprecated since Matplotlib 3.2; the parameter will become keyword-only two minor releases later.\n",
      "  ax[1].set_xticks([0,50],[0,100])\n"
     ]
    },
    {
     "name": "stdout",
     "output_type": "stream",
     "text": [
      "0.4786901295696766\n",
      "M7_D4_2020-11-01_16-05-43 2\n"
     ]
    },
    {
     "name": "stderr",
     "output_type": "stream",
     "text": [
      "/tmp/ipykernel_40730/2219265660.py:44: MatplotlibDeprecationWarning: Passing the minor parameter of set_xticks() positionally is deprecated since Matplotlib 3.2; the parameter will become keyword-only two minor releases later.\n",
      "  ax[0].set_xticks([0,50],[0,100])\n",
      "/tmp/ipykernel_40730/2219265660.py:54: MatplotlibDeprecationWarning: Passing the minor parameter of set_xticks() positionally is deprecated since Matplotlib 3.2; the parameter will become keyword-only two minor releases later.\n",
      "  ax[1].set_xticks([0,50],[0,100])\n",
      "/home/nina/miniconda3/envs/SarahData/lib/python3.8/site-packages/numpy/lib/function_base.py:2829: RuntimeWarning: invalid value encountered in true_divide\n",
      "  c /= stddev[:, None]\n"
     ]
    },
    {
     "name": "stdout",
     "output_type": "stream",
     "text": [
      "nan\n"
     ]
    },
    {
     "name": "stderr",
     "output_type": "stream",
     "text": [
      "/home/nina/miniconda3/envs/SarahData/lib/python3.8/site-packages/numpy/lib/function_base.py:2829: RuntimeWarning: invalid value encountered in true_divide\n",
      "  c /= stddev[:, None]\n"
     ]
    },
    {
     "name": "stdout",
     "output_type": "stream",
     "text": [
      "nan\n",
      "nan\n",
      "0.3500752729351194\n",
      "M6_D4_2020-11-01_15-27-08 0\n"
     ]
    },
    {
     "name": "stderr",
     "output_type": "stream",
     "text": [
      "/tmp/ipykernel_40730/2219265660.py:44: MatplotlibDeprecationWarning: Passing the minor parameter of set_xticks() positionally is deprecated since Matplotlib 3.2; the parameter will become keyword-only two minor releases later.\n",
      "  ax[0].set_xticks([0,50],[0,100])\n",
      "/tmp/ipykernel_40730/2219265660.py:54: MatplotlibDeprecationWarning: Passing the minor parameter of set_xticks() positionally is deprecated since Matplotlib 3.2; the parameter will become keyword-only two minor releases later.\n",
      "  ax[1].set_xticks([0,50],[0,100])\n",
      "/home/nina/miniconda3/envs/SarahData/lib/python3.8/site-packages/numpy/lib/function_base.py:2829: RuntimeWarning: invalid value encountered in true_divide\n",
      "  c /= stddev[:, None]\n"
     ]
    },
    {
     "name": "stdout",
     "output_type": "stream",
     "text": [
      "nan\n",
      "0.37371778280549534\n",
      "M6_D4_2020-11-01_15-27-08 2\n",
      "nan\n",
      "nan\n",
      "0.3712770373286552\n",
      "M6_D4_2020-11-01_15-27-08 12\n",
      "0.5927204973229584\n",
      "0.5146697464110231\n"
     ]
    },
    {
     "name": "stderr",
     "output_type": "stream",
     "text": [
      "/home/nina/miniconda3/envs/SarahData/lib/python3.8/site-packages/numpy/lib/function_base.py:2829: RuntimeWarning: invalid value encountered in true_divide\n",
      "  c /= stddev[:, None]\n"
     ]
    },
    {
     "name": "stdout",
     "output_type": "stream",
     "text": [
      "nan\n",
      "nan\n",
      "0.46176975177997587\n",
      "M4_D26_2020-12-03_15-28-32 0\n"
     ]
    },
    {
     "name": "stderr",
     "output_type": "stream",
     "text": [
      "/tmp/ipykernel_40730/2219265660.py:44: MatplotlibDeprecationWarning: Passing the minor parameter of set_xticks() positionally is deprecated since Matplotlib 3.2; the parameter will become keyword-only two minor releases later.\n",
      "  ax[0].set_xticks([0,50],[0,100])\n",
      "/tmp/ipykernel_40730/2219265660.py:54: MatplotlibDeprecationWarning: Passing the minor parameter of set_xticks() positionally is deprecated since Matplotlib 3.2; the parameter will become keyword-only two minor releases later.\n",
      "  ax[1].set_xticks([0,50],[0,100])\n"
     ]
    },
    {
     "name": "stdout",
     "output_type": "stream",
     "text": [
      "nan\n"
     ]
    },
    {
     "name": "stderr",
     "output_type": "stream",
     "text": [
      "/home/nina/miniconda3/envs/SarahData/lib/python3.8/site-packages/numpy/lib/function_base.py:2829: RuntimeWarning: invalid value encountered in true_divide\n",
      "  c /= stddev[:, None]\n"
     ]
    }
   ],
   "source": [
    "def plot_if_high_corr(data, cluster_id, file,\n",
    "             n_bins = 200, m=5, ckpt_before=80,ckpt_after=120):\n",
    "    [ds_rate, ds_vel, ds_pos, trial_num, trial_type] = data.iloc[cluster_id].spikes_per50ms\n",
    "    pos_t0 = ds_pos[trial_type==0]/LENGTH\n",
    "    pos_t1 = ds_pos[trial_type==1]/LENGTH\n",
    "    pos = ds_pos%LENGTH\n",
    "    ds_rate_t0 = ds_rate[trial_type==0]\n",
    "    ds_rate_t1 = ds_rate[trial_type==1]\n",
    "    trial_num_t0 = trial_num[trial_type==0]\n",
    "    trial_num_t1 = trial_num[trial_type==1]\n",
    "    cond_y_t0 = data.iloc[cluster_id].cond_y_t0\n",
    "    cond_y_t1 = data.iloc[cluster_id].cond_y_t1\n",
    "    cond_y = np.empty_like(ds_rate) \n",
    "    cond_y[trial_type==0] = cond_y_t0\n",
    "    cond_y[trial_type==1] = cond_y_t1\n",
    "\n",
    "    \n",
    "    diff_before_after = (np.mean(np.abs(ds_rate[pos<ckpt_before]-cond_y[pos<ckpt_before])),\n",
    "                        np.mean(np.abs(ds_rate[pos>ckpt_after]-cond_y[pos>ckpt_after])))\n",
    "   \n",
    "    if (diff_before_after[1]!=0):\n",
    "        ratio = diff_before_after[0]/diff_before_after[1]\n",
    "    else:\n",
    "        ratio = 0\n",
    "        \n",
    "    if ((ratio>2.) and (ratio<50.)) or ((ratio<.5) and (ratio>.02)):\n",
    "\n",
    "        A=both_types_in_pos_bins([trial_num_t0,trial_num_t1],[pos_t0, pos_t1],[ds_rate_t0,ds_rate_t1],\n",
    "                                n_bins=n_bins, m=m)\n",
    "        B=both_types_in_pos_bins([trial_num_t0,trial_num_t1],[pos_t0, pos_t1],[cond_y_t0,cond_y_t1],\n",
    "                                n_bins=n_bins, m=m)\n",
    "\n",
    "        corr = np.array([np.corrcoef(a,a-b)[0,1] for a,b in zip(A,B)]) #trial-average temporal pattern corr\n",
    "#         NOT time-average trial-to-trial variab -- if T\n",
    "        print(np.mean(corr))\n",
    "    #     print(np.corrcoef(A.flatten(),(A-B).flatten())[0,1])\n",
    "\n",
    "        if (np.abs(np.mean(corr))>=0.25) and (np.abs(np.mean(corr))<0.5):\n",
    "            print(data.iloc[cluster_id].session_id,cluster_id)\n",
    "            fig,ax = plt.subplots(1,2)\n",
    "            Hz_range = np.mean(A,axis=0).max(0)*0.5\n",
    "            ax[0].imshow(A-B,vmin=-Hz_range,vmax=Hz_range,cmap=\"RdBu\")\n",
    "            ax[0].axhline(len(np.unique(trial_num_t0)),color='k',linestyle=':')\n",
    "            ax[0].set_xticks([0,50],[0,100])\n",
    "        #     ax[0].colorbar(label='<raw rate> - <conditional rate>')\n",
    "            ax[0].set_xlabel('position, cm')\n",
    "            ax[0].set_ylabel('trial #')\n",
    "            ax[0].set_title(f'{data.iloc[cluster_id].session_id}, #{data.iloc[cluster_id].cluster_id}')\n",
    "\n",
    "            Hz_range = np.mean(A,axis=0).max(0)*1.2 # mean FR at the location with the highest FR\n",
    "            #     print(A.shape)\n",
    "            ax[1].imshow(A,vmin=0,vmax=Hz_range)\n",
    "            ax[1].axhline(len(np.unique(trial_num_t0)),color='k',linestyle=':')\n",
    "            ax[1].set_xticks([0,50],[0,100])\n",
    "        #     ax[1].colorbar(label='<raw rate> - <conditional rate>')\n",
    "            ax[1].set_xlabel('position, cm')\n",
    "            ax[1].set_ylabel('trial #')\n",
    "            ax[1].set_title(f'{data.iloc[cluster_id].session_id}, #{data.iloc[cluster_id].cluster_id}')\n",
    "\n",
    "        #     fig.colorbar(ax[0]);\n",
    "            plt.savefig(file)\n",
    "            plt.close();\n",
    "\n",
    "\n",
    "    \n",
    "session_list = glob.glob(f\"unified_copula/{cohort}/*.pkl\")\n",
    "for session in tqdm(session_list):\n",
    "    data = pd.read_pickle(session)\n",
    "    session_name=(session.split('/')[-1]).split(\"_50ms_copula.pkl\")[0]\n",
    "\n",
    "    for cluster_id in range(len(data)):\n",
    "#         print(cluster_id)\n",
    "        save_name = f\"interesting/uncorr2_{cohort}_{session_name}_{data.iloc[cluster_id].cluster_id}.png\"\n",
    "        plot_if_high_corr(data, cluster_id, save_name)\n",
    "    \n",
    "\n",
    "    "
   ]
  },
  {
   "cell_type": "code",
   "execution_count": 377,
   "metadata": {},
   "outputs": [
    {
     "data": {
      "text/plain": [
       "session_id                               M3_D19_2020-11-22_14-48-51\n",
       "cluster_id                                                       38\n",
       "spikes_per50ms    [[0.5377058196210523, 0.6194029416737961, 0.68...\n",
       "u_vel_t0          [0.03189159840785913, 0.04135798724802215, 0.0...\n",
       "u_rate_t0         [0.623210386692468, 0.6586941595162012, 0.6687...\n",
       "u_vel_t1          [0.0008488205493484025, 0.011890916881543357, ...\n",
       "u_rate_t1         [0.9583726907637526, 0.9719340535907547, 0.975...\n",
       "cond_y_t0         [0.25343558, 0.20591739, 0.2352699, 0.24926919...\n",
       "theta_t0          [0.26118222, 0.24416612, 0.2285253, 0.2213113,...\n",
       "cond_y_t1         [0.14107247, 0.23526499, 0.37400195, 0.2837915...\n",
       "theta_t1          [0.31300482, 0.31005728, 0.30308995, 0.2912054...\n",
       "Name: 35, dtype: object"
      ]
     },
     "execution_count": 377,
     "metadata": {},
     "output_type": "execute_result"
    },
    {
     "data": {
      "image/png": "[encoded data removed]",
      "text/plain": [
       "<Figure size 432x288 with 1 Axes>"
      ]
     },
     "metadata": {
      "needs_background": "light"
     },
     "output_type": "display_data"
    }
   ],
   "source": [
    "cohort='Cohort7_october2020'\n",
    "session='M3_D19_2020-11-22_14-48-51'\n",
    "# cluster_id=8\n",
    "# glob.glob(f\"unified_copula/{cohort}/*.pkl\")\n",
    "# data = pd.read_pickle(f\"unified_copula/{cohort}/{session}_50ms_copula.pkl\")\n",
    "idx = 17 #data.loc[data['cluster_id']==38].index[0]\n",
    "[ds_rate, ds_vel, ds_pos, trial_num, trial_type] = data.iloc[idx].spikes_per50ms\n",
    "pos = ds_pos%LENGTH\n",
    "cond_y = np.empty_like(ds_rate) \n",
    "cond_y[trial_type==0] = data.iloc[idx].cond_y_t0\n",
    "cond_y[trial_type==1] = data.iloc[idx].cond_y_t1\n",
    "# plt.plot(ds_rate[15000:16000])\n",
    "# plt.plot(cond_y[15000:16000])\n",
    "mask= trial_type==0\n",
    "plt.scatter(pos[mask],ds_rate[mask],alpha=0.05)\n",
    "plt.scatter(pos[mask],cond_y[mask],alpha=0.05)\n",
    "data.iloc[idx]"
   ]
  },
  {
   "cell_type": "code",
   "execution_count": 438,
   "metadata": {},
   "outputs": [
    {
     "data": {
      "text/plain": [
       "<matplotlib.collections.PathCollection at 0x7f0d267d6340>"
      ]
     },
     "execution_count": 438,
     "metadata": {},
     "output_type": "execute_result"
    },
    {
     "data": {
      "image/png": "[encoded data removed]",
      "text/plain": [
       "<Figure size 216x216 with 1 Axes>"
      ]
     },
     "metadata": {
      "needs_background": "light"
     },
     "output_type": "display_data"
    }
   ],
   "source": [
    "plt.figure(figsize=(3,3))\n",
    "mask = (ds_pos[trial_type==1]>40) & (ds_pos[trial_type==1]<70)\n",
    "plt.scatter(data.iloc[idx]['u_rate_t1'][mask],data.iloc[idx]['u_vel_t1'][mask],alpha=0.1)"
   ]
  },
  {
   "cell_type": "code",
   "execution_count": 441,
   "metadata": {},
   "outputs": [
    {
     "ename": "IndexError",
     "evalue": "boolean index did not match indexed array along dimension 0; dimension is 25749 but corresponding boolean dimension is 10303",
     "output_type": "error",
     "traceback": [
      "\u001b[0;31m---------------------------------------------------------------------------\u001b[0m",
      "\u001b[0;31mIndexError\u001b[0m                                Traceback (most recent call last)",
      "Input \u001b[0;32mIn [441]\u001b[0m, in \u001b[0;36m<module>\u001b[0;34m\u001b[0m\n\u001b[0;32m----> 1\u001b[0m mask2 \u001b[38;5;241m=\u001b[39m (\u001b[43mdata\u001b[49m\u001b[38;5;241;43m.\u001b[39;49m\u001b[43miloc\u001b[49m\u001b[43m[\u001b[49m\u001b[43midx\u001b[49m\u001b[43m]\u001b[49m\u001b[43m[\u001b[49m\u001b[38;5;124;43m'\u001b[39;49m\u001b[38;5;124;43mu_rate_t0\u001b[39;49m\u001b[38;5;124;43m'\u001b[39;49m\u001b[43m]\u001b[49m\u001b[43m[\u001b[49m\u001b[43mmask\u001b[49m\u001b[43m]\u001b[49m\u001b[38;5;241m>\u001b[39m\u001b[38;5;241m0.9\u001b[39m) \u001b[38;5;241m&\u001b[39m (data\u001b[38;5;241m.\u001b[39miloc[idx][\u001b[38;5;124m'\u001b[39m\u001b[38;5;124mu_vel_t0\u001b[39m\u001b[38;5;124m'\u001b[39m][mask]\u001b[38;5;241m>\u001b[39m\u001b[38;5;241m0\u001b[39m)\n\u001b[1;32m      2\u001b[0m plt\u001b[38;5;241m.\u001b[39mhist(ds_vel[trial_type\u001b[38;5;241m==\u001b[39m\u001b[38;5;241m0\u001b[39m][mask][mask2])\n",
      "\u001b[0;31mIndexError\u001b[0m: boolean index did not match indexed array along dimension 0; dimension is 25749 but corresponding boolean dimension is 10303"
     ]
    }
   ],
   "source": [
    "mask2 = (data.iloc[idx]['u_rate_t0'][mask]>0.9) & (data.iloc[idx]['u_vel_t0'][mask]>0)\n",
    "plt.hist(ds_vel[trial_type==0][mask][mask2])"
   ]
  },
  {
   "cell_type": "code",
   "execution_count": 378,
   "metadata": {},
   "outputs": [
    {
     "data": {
      "image/png": "[encoded data removed]",
      "text/plain": [
       "<Figure size 432x288 with 4 Axes>"
      ]
     },
     "metadata": {
      "needs_background": "light"
     },
     "output_type": "display_data"
    }
   ],
   "source": [
    "fig,ax = plt.subplots(2,2)\n",
    "for i,trtype in enumerate([0,1]):\n",
    "    for j,loc in enumerate([pos<90,pos>110]):\n",
    "        mask= (trial_type==trtype) & loc\n",
    "        ax[i,j].scatter(ds_rate[mask],ds_vel[mask],alpha=0.05)\n",
    "        ax[i,j].scatter(cond_y[mask],ds_vel[mask],alpha=0.05)\n",
    "        label = 'beaconed' if trtype==0 else 'non-beaconed'\n",
    "        if j==0:\n",
    "            label+= ' early'\n",
    "        else:\n",
    "            label+= ' late'\n",
    "        ax[i,j].set_title(label)"
   ]
  },
  {
   "cell_type": "code",
   "execution_count": 196,
   "metadata": {},
   "outputs": [
    {
     "data": {
      "text/html": [
       "<div>\n",
       "<style scoped>\n",
       "    .dataframe tbody tr th:only-of-type {\n",
       "        vertical-align: middle;\n",
       "    }\n",
       "\n",
       "    .dataframe tbody tr th {\n",
       "        vertical-align: top;\n",
       "    }\n",
       "\n",
       "    .dataframe thead th {\n",
       "        text-align: right;\n",
       "    }\n",
       "</style>\n",
       "<table border=\"1\" class=\"dataframe\">\n",
       "  <thead>\n",
       "    <tr style=\"text-align: right;\">\n",
       "      <th></th>\n",
       "      <th>session_id</th>\n",
       "      <th>cluster_id</th>\n",
       "      <th>spikes_per50ms</th>\n",
       "      <th>u_vel_t0</th>\n",
       "      <th>u_rate_t0</th>\n",
       "      <th>u_vel_t1</th>\n",
       "      <th>u_rate_t1</th>\n",
       "      <th>cond_y_t0</th>\n",
       "      <th>theta_t0</th>\n",
       "      <th>cond_y_t1</th>\n",
       "      <th>theta_t1</th>\n",
       "    </tr>\n",
       "  </thead>\n",
       "  <tbody>\n",
       "    <tr>\n",
       "      <th>3</th>\n",
       "      <td>M3_D12_2020-11-13_14-27-08</td>\n",
       "      <td>4</td>\n",
       "      <td>[[0.30030827259930076, 0.31334082774228644, 0....</td>\n",
       "      <td>[0.00539229215316086, 0.00028041819928304026, ...</td>\n",
       "      <td>[0.7834108563446592, 0.8530118427242794, 0.917...</td>\n",
       "      <td>[0.9269002143033614, 0.8955792836251573, 0.895...</td>\n",
       "      <td>[0.5962571738189321, 0.5242971620561699, 0.442...</td>\n",
       "      <td>[0.11065247, 0.3307644, 0.329851, 0.655403, 0....</td>\n",
       "      <td>[0.31770542, 0.24084972, 0.15277915, 0.0889917...</td>\n",
       "      <td>[0.26430902, 0.40199658, 0.00703856, 0.0035364...</td>\n",
       "      <td>[0.6676749, 0.52037615, 0.30728093, 0.22238012...</td>\n",
       "    </tr>\n",
       "    <tr>\n",
       "      <th>4</th>\n",
       "      <td>M3_D12_2020-11-13_14-27-08</td>\n",
       "      <td>5</td>\n",
       "      <td>[[0.41509359052574507, 0.46343656521306914, 0....</td>\n",
       "      <td>[0.00539229215316086, 0.00028041819928304026, ...</td>\n",
       "      <td>[0.14103720846002127, 0.1659492614104774, 0.15...</td>\n",
       "      <td>[0.9269002143033614, 0.8955792836251573, 0.895...</td>\n",
       "      <td>[0.9942810914223076, 0.9820970815579277, 0.970...</td>\n",
       "      <td>[0.4381403, 0.40565914, 0.5178832, 0.36418813,...</td>\n",
       "      <td>[0.052671175, 0.085474834, 0.101750195, 0.0612...</td>\n",
       "      <td>[1.3646207, 1.2405572, 1.3557336, 1.1499431, 1...</td>\n",
       "      <td>[-0.009933183, -0.0048392387, 0.0049410574, 0....</td>\n",
       "    </tr>\n",
       "    <tr>\n",
       "      <th>7</th>\n",
       "      <td>M3_D12_2020-11-13_14-27-08</td>\n",
       "      <td>8</td>\n",
       "      <td>[[1.5482244910082241, 1.7808541027209497, 1.94...</td>\n",
       "      <td>[0.00539229215316086, 0.00028041819928304026, ...</td>\n",
       "      <td>[0.6765277016211623, 0.7645869100754146, 0.820...</td>\n",
       "      <td>[0.9269002143033614, 0.8955792836251573, 0.895...</td>\n",
       "      <td>[0.1258956575709539, 0.1926328115183835, 0.249...</td>\n",
       "      <td>[0.9671845, 1.1040044, 1.4624665, 1.4685125, 1...</td>\n",
       "      <td>[-0.16966562, -0.12392899, -0.076330766, -0.03...</td>\n",
       "      <td>[0.39416215, 0.4455008, 0.38780895, 0.5088829,...</td>\n",
       "      <td>[-0.34441635, -0.23662888, -0.067749165, 0.082...</td>\n",
       "    </tr>\n",
       "    <tr>\n",
       "      <th>12</th>\n",
       "      <td>M3_D12_2020-11-13_14-27-08</td>\n",
       "      <td>13</td>\n",
       "      <td>[[1.3025930655418014, 1.5431937212189568, 1.76...</td>\n",
       "      <td>[0.00539229215316086, 0.00028041819928304026, ...</td>\n",
       "      <td>[0.11004987518961007, 0.18321262883649653, 0.3...</td>\n",
       "      <td>[0.9269002143033614, 0.8955792836251573, 0.895...</td>\n",
       "      <td>[0.9724108856956996, 0.9266092670910635, 0.962...</td>\n",
       "      <td>[1.7772977, 2.235792, 2.1593757, 2.2007184, 2....</td>\n",
       "      <td>[0.43530446, 0.44442457, 0.44968975, 0.449933,...</td>\n",
       "      <td>[3.1384733, 3.2585435, 3.3764138, 3.3166625, 3...</td>\n",
       "      <td>[0.5754479, 0.4469414, 0.31616694, 0.30678183,...</td>\n",
       "    </tr>\n",
       "    <tr>\n",
       "      <th>17</th>\n",
       "      <td>M3_D12_2020-11-13_14-27-08</td>\n",
       "      <td>19</td>\n",
       "      <td>[[0.9784160419434094, 1.1529796245058157, 1.30...</td>\n",
       "      <td>[0.00539229215316086, 0.00028041819928304026, ...</td>\n",
       "      <td>[0.5203578715091286, 0.6113051082563007, 0.628...</td>\n",
       "      <td>[0.9269002143033614, 0.8955792836251573, 0.895...</td>\n",
       "      <td>[0.9533836371545233, 0.9503016150615176, 0.962...</td>\n",
       "      <td>[2.9880476, 3.2868423, 2.3548462, 2.5973053, 2...</td>\n",
       "      <td>[0.42559054, 0.49435058, 0.53036475, 0.5121226...</td>\n",
       "      <td>[1.7073735, 1.5453683, 1.4258745, 1.5429128, 1...</td>\n",
       "      <td>[0.52071494, 0.53794557, 0.5514262, 0.55584854...</td>\n",
       "    </tr>\n",
       "    <tr>\n",
       "      <th>19</th>\n",
       "      <td>M3_D12_2020-11-13_14-27-08</td>\n",
       "      <td>21</td>\n",
       "      <td>[[0.26762268731782013, 0.32289531084816503, 0....</td>\n",
       "      <td>[0.00539229215316086, 0.00028041819928304026, ...</td>\n",
       "      <td>[0.6294286579931712, 0.6914009787654618, 0.723...</td>\n",
       "      <td>[0.9269002143033614, 0.8955792836251573, 0.895...</td>\n",
       "      <td>[0.9707682837673677, 0.9704765016040166, 0.982...</td>\n",
       "      <td>[0.34169304, 0.36615178, 0.39797235, 0.5031723...</td>\n",
       "      <td>[-0.36010075, -0.33861965, -0.3149625, -0.2946...</td>\n",
       "      <td>[1.306152, 1.2291867, 1.1732879, 1.280916, 1.2...</td>\n",
       "      <td>[-0.389182, -0.35461834, -0.31847933, -0.28439...</td>\n",
       "    </tr>\n",
       "    <tr>\n",
       "      <th>21</th>\n",
       "      <td>M3_D12_2020-11-13_14-27-08</td>\n",
       "      <td>23</td>\n",
       "      <td>[[0.42971741297539706, 0.48929395188253477, 0....</td>\n",
       "      <td>[0.00539229215316086, 0.00028041819928304026, ...</td>\n",
       "      <td>[0.0818129027910118, 0.13095399221365342, 0.19...</td>\n",
       "      <td>[0.9269002143033614, 0.8955792836251573, 0.895...</td>\n",
       "      <td>[0.7745822341338143, 0.8144447978876914, 0.829...</td>\n",
       "      <td>[0.76085216, 0.9559255, 0.7853415, 0.8959726, ...</td>\n",
       "      <td>[0.25560626, 0.27383903, 0.28705338, 0.2861001...</td>\n",
       "      <td>[0.8963686, 0.9392618, 0.9620295, 0.9145656, 0...</td>\n",
       "      <td>[0.10843871, 0.117385626, 0.12559323, 0.128314...</td>\n",
       "    </tr>\n",
       "    <tr>\n",
       "      <th>24</th>\n",
       "      <td>M3_D12_2020-11-13_14-27-08</td>\n",
       "      <td>26</td>\n",
       "      <td>[[0.7292920657913868, 0.819440068429045, 0.886...</td>\n",
       "      <td>[0.00539229215316086, 0.00028041819928304026, ...</td>\n",
       "      <td>[0.8046749693416414, 0.8742700489886219, 0.884...</td>\n",
       "      <td>[0.9269002143033614, 0.8955792836251573, 0.895...</td>\n",
       "      <td>[0.8001826696213157, 0.7785052281666364, 0.771...</td>\n",
       "      <td>[0.8479643, 1.1397848, 0.8776385, 0.9608073, 0...</td>\n",
       "      <td>[-0.25040197, -0.21798423, -0.18855375, -0.172...</td>\n",
       "      <td>[0.96428275, 0.81101847, 0.79186577, 0.8198888...</td>\n",
       "      <td>[-0.27591786, -0.2829142, -0.2851029, -0.27753...</td>\n",
       "    </tr>\n",
       "    <tr>\n",
       "      <th>27</th>\n",
       "      <td>M3_D12_2020-11-13_14-27-08</td>\n",
       "      <td>29</td>\n",
       "      <td>[[0.0, 0.0, 0.0, 0.0, 0.0, 0.0, 0.0, 0.0, 0.0,...</td>\n",
       "      <td>[0.00539229215316086, 0.00028041819928304026, ...</td>\n",
       "      <td>[0.7690148777301427, 0.5354966326531836, 0.751...</td>\n",
       "      <td>[0.9269002143033614, 0.8955792836251573, 0.895...</td>\n",
       "      <td>[0.4694555036928859, 0.8160803474833236, 0.424...</td>\n",
       "      <td>[0.0, 0.0, 0.0, 0.0, 0.0, 0.0, 0.0, 0.0, 0.0, ...</td>\n",
       "      <td>[0.00040900023, 0.004840721, 0.011847875, 0.02...</td>\n",
       "      <td>[0.0, 0.0, 0.0, 0.0, 0.0, 0.0, 0.0, 0.0, 0.0, ...</td>\n",
       "      <td>[0.07702828, 0.07091069, 0.066508, 0.068284236...</td>\n",
       "    </tr>\n",
       "  </tbody>\n",
       "</table>\n",
       "</div>"
      ],
      "text/plain": [
       "                    session_id  cluster_id  \\\n",
       "3   M3_D12_2020-11-13_14-27-08           4   \n",
       "4   M3_D12_2020-11-13_14-27-08           5   \n",
       "7   M3_D12_2020-11-13_14-27-08           8   \n",
       "12  M3_D12_2020-11-13_14-27-08          13   \n",
       "17  M3_D12_2020-11-13_14-27-08          19   \n",
       "19  M3_D12_2020-11-13_14-27-08          21   \n",
       "21  M3_D12_2020-11-13_14-27-08          23   \n",
       "24  M3_D12_2020-11-13_14-27-08          26   \n",
       "27  M3_D12_2020-11-13_14-27-08          29   \n",
       "\n",
       "                                       spikes_per50ms  \\\n",
       "3   [[0.30030827259930076, 0.31334082774228644, 0....   \n",
       "4   [[0.41509359052574507, 0.46343656521306914, 0....   \n",
       "7   [[1.5482244910082241, 1.7808541027209497, 1.94...   \n",
       "12  [[1.3025930655418014, 1.5431937212189568, 1.76...   \n",
       "17  [[0.9784160419434094, 1.1529796245058157, 1.30...   \n",
       "19  [[0.26762268731782013, 0.32289531084816503, 0....   \n",
       "21  [[0.42971741297539706, 0.48929395188253477, 0....   \n",
       "24  [[0.7292920657913868, 0.819440068429045, 0.886...   \n",
       "27  [[0.0, 0.0, 0.0, 0.0, 0.0, 0.0, 0.0, 0.0, 0.0,...   \n",
       "\n",
       "                                             u_vel_t0  \\\n",
       "3   [0.00539229215316086, 0.00028041819928304026, ...   \n",
       "4   [0.00539229215316086, 0.00028041819928304026, ...   \n",
       "7   [0.00539229215316086, 0.00028041819928304026, ...   \n",
       "12  [0.00539229215316086, 0.00028041819928304026, ...   \n",
       "17  [0.00539229215316086, 0.00028041819928304026, ...   \n",
       "19  [0.00539229215316086, 0.00028041819928304026, ...   \n",
       "21  [0.00539229215316086, 0.00028041819928304026, ...   \n",
       "24  [0.00539229215316086, 0.00028041819928304026, ...   \n",
       "27  [0.00539229215316086, 0.00028041819928304026, ...   \n",
       "\n",
       "                                            u_rate_t0  \\\n",
       "3   [0.7834108563446592, 0.8530118427242794, 0.917...   \n",
       "4   [0.14103720846002127, 0.1659492614104774, 0.15...   \n",
       "7   [0.6765277016211623, 0.7645869100754146, 0.820...   \n",
       "12  [0.11004987518961007, 0.18321262883649653, 0.3...   \n",
       "17  [0.5203578715091286, 0.6113051082563007, 0.628...   \n",
       "19  [0.6294286579931712, 0.6914009787654618, 0.723...   \n",
       "21  [0.0818129027910118, 0.13095399221365342, 0.19...   \n",
       "24  [0.8046749693416414, 0.8742700489886219, 0.884...   \n",
       "27  [0.7690148777301427, 0.5354966326531836, 0.751...   \n",
       "\n",
       "                                             u_vel_t1  \\\n",
       "3   [0.9269002143033614, 0.8955792836251573, 0.895...   \n",
       "4   [0.9269002143033614, 0.8955792836251573, 0.895...   \n",
       "7   [0.9269002143033614, 0.8955792836251573, 0.895...   \n",
       "12  [0.9269002143033614, 0.8955792836251573, 0.895...   \n",
       "17  [0.9269002143033614, 0.8955792836251573, 0.895...   \n",
       "19  [0.9269002143033614, 0.8955792836251573, 0.895...   \n",
       "21  [0.9269002143033614, 0.8955792836251573, 0.895...   \n",
       "24  [0.9269002143033614, 0.8955792836251573, 0.895...   \n",
       "27  [0.9269002143033614, 0.8955792836251573, 0.895...   \n",
       "\n",
       "                                            u_rate_t1  \\\n",
       "3   [0.5962571738189321, 0.5242971620561699, 0.442...   \n",
       "4   [0.9942810914223076, 0.9820970815579277, 0.970...   \n",
       "7   [0.1258956575709539, 0.1926328115183835, 0.249...   \n",
       "12  [0.9724108856956996, 0.9266092670910635, 0.962...   \n",
       "17  [0.9533836371545233, 0.9503016150615176, 0.962...   \n",
       "19  [0.9707682837673677, 0.9704765016040166, 0.982...   \n",
       "21  [0.7745822341338143, 0.8144447978876914, 0.829...   \n",
       "24  [0.8001826696213157, 0.7785052281666364, 0.771...   \n",
       "27  [0.4694555036928859, 0.8160803474833236, 0.424...   \n",
       "\n",
       "                                            cond_y_t0  \\\n",
       "3   [0.11065247, 0.3307644, 0.329851, 0.655403, 0....   \n",
       "4   [0.4381403, 0.40565914, 0.5178832, 0.36418813,...   \n",
       "7   [0.9671845, 1.1040044, 1.4624665, 1.4685125, 1...   \n",
       "12  [1.7772977, 2.235792, 2.1593757, 2.2007184, 2....   \n",
       "17  [2.9880476, 3.2868423, 2.3548462, 2.5973053, 2...   \n",
       "19  [0.34169304, 0.36615178, 0.39797235, 0.5031723...   \n",
       "21  [0.76085216, 0.9559255, 0.7853415, 0.8959726, ...   \n",
       "24  [0.8479643, 1.1397848, 0.8776385, 0.9608073, 0...   \n",
       "27  [0.0, 0.0, 0.0, 0.0, 0.0, 0.0, 0.0, 0.0, 0.0, ...   \n",
       "\n",
       "                                             theta_t0  \\\n",
       "3   [0.31770542, 0.24084972, 0.15277915, 0.0889917...   \n",
       "4   [0.052671175, 0.085474834, 0.101750195, 0.0612...   \n",
       "7   [-0.16966562, -0.12392899, -0.076330766, -0.03...   \n",
       "12  [0.43530446, 0.44442457, 0.44968975, 0.449933,...   \n",
       "17  [0.42559054, 0.49435058, 0.53036475, 0.5121226...   \n",
       "19  [-0.36010075, -0.33861965, -0.3149625, -0.2946...   \n",
       "21  [0.25560626, 0.27383903, 0.28705338, 0.2861001...   \n",
       "24  [-0.25040197, -0.21798423, -0.18855375, -0.172...   \n",
       "27  [0.00040900023, 0.004840721, 0.011847875, 0.02...   \n",
       "\n",
       "                                            cond_y_t1  \\\n",
       "3   [0.26430902, 0.40199658, 0.00703856, 0.0035364...   \n",
       "4   [1.3646207, 1.2405572, 1.3557336, 1.1499431, 1...   \n",
       "7   [0.39416215, 0.4455008, 0.38780895, 0.5088829,...   \n",
       "12  [3.1384733, 3.2585435, 3.3764138, 3.3166625, 3...   \n",
       "17  [1.7073735, 1.5453683, 1.4258745, 1.5429128, 1...   \n",
       "19  [1.306152, 1.2291867, 1.1732879, 1.280916, 1.2...   \n",
       "21  [0.8963686, 0.9392618, 0.9620295, 0.9145656, 0...   \n",
       "24  [0.96428275, 0.81101847, 0.79186577, 0.8198888...   \n",
       "27  [0.0, 0.0, 0.0, 0.0, 0.0, 0.0, 0.0, 0.0, 0.0, ...   \n",
       "\n",
       "                                             theta_t1  \n",
       "3   [0.6676749, 0.52037615, 0.30728093, 0.22238012...  \n",
       "4   [-0.009933183, -0.0048392387, 0.0049410574, 0....  \n",
       "7   [-0.34441635, -0.23662888, -0.067749165, 0.082...  \n",
       "12  [0.5754479, 0.4469414, 0.31616694, 0.30678183,...  \n",
       "17  [0.52071494, 0.53794557, 0.5514262, 0.55584854...  \n",
       "19  [-0.389182, -0.35461834, -0.31847933, -0.28439...  \n",
       "21  [0.10843871, 0.117385626, 0.12559323, 0.128314...  \n",
       "24  [-0.27591786, -0.2829142, -0.2851029, -0.27753...  \n",
       "27  [0.07702828, 0.07091069, 0.066508, 0.068284236...  "
      ]
     },
     "execution_count": 196,
     "metadata": {},
     "output_type": "execute_result"
    }
   ],
   "source": [
    "data"
   ]
  },
  {
   "cell_type": "code",
   "execution_count": null,
   "metadata": {},
   "outputs": [],
   "source": []
  }
 ],
 "metadata": {
  "kernelspec": {
   "display_name": "SarahData",
   "language": "python",
   "name": "sarahdata"
  },
  "language_info": {
   "codemirror_mode": {
    "name": "ipython",
    "version": 3
   },
   "file_extension": ".py",
   "mimetype": "text/x-python",
   "name": "python",
   "nbconvert_exporter": "python",
   "pygments_lexer": "ipython3",
   "version": "3.8.12"
  }
 },
 "nbformat": 4,
 "nbformat_minor": 2
}
