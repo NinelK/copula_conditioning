{
 "cells": [
  {
   "cell_type": "code",
   "execution_count": 116,
   "metadata": {},
   "outputs": [],
   "source": [
    "import numpy as np\n",
    "import pickle as pkl\n",
    "import matplotlib.pyplot as plt\n",
    "from tqdm.notebook import tqdm\n",
    "import os\n",
    "import pandas as pd\n",
    "\n",
    "import copulagp.marginal as mg\n",
    "from copulagp import bvcopula\n",
    "import torch\n",
    "from scipy import interpolate\n",
    "\n",
    "LENGTH = 200 #cm long VR corridor\n",
    "\n",
    "def plot_diff(data, cluster_id, file,\n",
    "             n_bins = 200, m=5):\n",
    "    [ds_rate, ds_vel, ds_pos, trial_num, trial_type] = data.iloc[cluster_id].spikes_per50ms\n",
    "    pos_t0 = ds_pos[trial_type==0]/LENGTH\n",
    "    pos_t1 = ds_pos[trial_type==1]/LENGTH\n",
    "    ds_rate_t0 = ds_rate[trial_type==0]\n",
    "    ds_rate_t1 = ds_rate[trial_type==1]\n",
    "    trial_num_t0 = trial_num[trial_type==0]\n",
    "    trial_num_t1 = trial_num[trial_type==1]\n",
    "    cond_y_t0 = data.iloc[cluster_id].cond_y_t0\n",
    "    cond_y_t1 = data.iloc[cluster_id].cond_y_t1\n",
    "\n",
    "    n_bins=100\n",
    "\n",
    "    def both_types_in_pos_bins(trial,pos,rate):\n",
    "        A_t0 = np.zeros((len(np.unique(trial_num_t0)),n_bins))\n",
    "        A_t1 = np.zeros((len(np.unique(trial_num_t1)),n_bins))\n",
    "        for A_tx, trial_num_tx, pos_tx, u_rate_tx in zip([A_t0,A_t1],\n",
    "                                                 trial,pos,rate):\n",
    "\n",
    "            for j,trial in tqdm(enumerate(np.unique(trial_num_tx))):\n",
    "                pos = pos_tx[trial_num_tx==trial]\n",
    "                for i in range(n_bins):\n",
    "                    mask = (pos>=(i-m)/n_bins) & (pos <=(i+1+m)/n_bins)\n",
    "                    if np.sum(mask)!=0:\n",
    "                        A_tx[j,i] = u_rate_tx[trial_num_tx==trial][mask].mean()\n",
    "\n",
    "        return np.concatenate([A_t0,A_t1])\n",
    "    A=both_types_in_pos_bins([trial_num_t0,trial_num_t1],[pos_t0, pos_t1],[ds_rate_t0,ds_rate_t1])\n",
    "    B=both_types_in_pos_bins([trial_num_t0,trial_num_t1],[pos_t0, pos_t1],[cond_y_t0,cond_y_t1])\n",
    "\n",
    "    Hz_range = np.mean(A,axis=0).max(0)*1.2 # mean FR at the location with the highest FR\n",
    "    #     print(A.shape)\n",
    "    plt.imshow(B,vmin=0,vmax=Hz_range)\n",
    "    Hz_range = np.mean(A,axis=0).max(0)*0.5\n",
    "    plt.imshow(A-B,vmin=-Hz_range,vmax=Hz_range,cmap=\"RdBu\")\n",
    "    plt.axhline(len(np.unique(trial_num_t0)),color='k',linestyle=':')\n",
    "    plt.xticks([0,50],[0,100])\n",
    "    plt.colorbar(label='<raw rate> - <conditional rate>')\n",
    "    plt.xlabel('position, cm')\n",
    "    plt.ylabel('trial #')\n",
    "    plt.title(f'{data.iloc[cluster_id].session_id}, #{data.iloc[cluster_id].cluster_id}')\n",
    "    # fig.colorbar(plot);\n",
    "    plt.savefig(file)\n",
    "    plt.close();"
   ]
  },
  {
   "cell_type": "code",
   "execution_count": 73,
   "metadata": {},
   "outputs": [
    {
     "data": {
      "text/plain": [
       "'Cohort7_october2020'"
      ]
     },
     "execution_count": 73,
     "metadata": {},
     "output_type": "execute_result"
    }
   ],
   "source": [
    "import glob\n",
    "\n",
    "cohorts = glob.glob(\"Cohort*\")\n",
    "cohort = cohorts[0]\n",
    "cohort"
   ]
  },
  {
   "cell_type": "code",
   "execution_count": 82,
   "metadata": {},
   "outputs": [
    {
     "data": {
      "text/plain": [
       "['unified_copula/Cohort7_october2020/M4_D12_2020-11-13_15-08-51_50ms_copula.pkl',\n",
       " 'unified_copula/Cohort7_october2020/M7_D1_2020-10-29_15-44-22_50ms_copula.pkl',\n",
       " 'unified_copula/Cohort7_october2020/M3_D6_2020-11-05_14-37-17_50ms_copula.pkl',\n",
       " 'unified_copula/Cohort7_october2020/M3_D26_2020-12-03_14-51-03_50ms_copula.pkl',\n",
       " 'unified_copula/Cohort7_october2020/M6_D6_2020-11-05_15-50-22_50ms_copula.pkl',\n",
       " 'unified_copula/Cohort7_october2020/M7_D26_2020-12-03_16-01-44_50ms_copula.pkl']"
      ]
     },
     "execution_count": 82,
     "metadata": {},
     "output_type": "execute_result"
    }
   ],
   "source": [
    "\n",
    "session_list = glob.glob(f\"unified_copula/{cohort}/*.pkl\")\n",
    "session_list\n",
    "    "
   ]
  },
  {
   "cell_type": "code",
   "execution_count": 102,
   "metadata": {},
   "outputs": [
    {
     "data": {
      "text/plain": [
       "15"
      ]
     },
     "execution_count": 102,
     "metadata": {},
     "output_type": "execute_result"
    }
   ],
   "source": [
    "session_id=4\n",
    "data = pd.read_pickle(session_list[session_id])\n",
    "len(data)"
   ]
  },
  {
   "cell_type": "code",
   "execution_count": 103,
   "metadata": {},
   "outputs": [],
   "source": [
    "diff_before_after=np.zeros((len(data),2))\n",
    "for cluster_id in range(len(data)):\n",
    "    [ds_rate, ds_vel, ds_pos, trial_num, trial_type] = data.iloc[cluster_id].spikes_per50ms\n",
    "    pos_t0 = ds_pos[trial_type==0]#/LENGTH\n",
    "    pos_t1 = ds_pos[trial_type==1]#/LENGTH\n",
    "    ds_rate_t0 = ds_rate[trial_type==0]\n",
    "    ds_rate_t1 = ds_rate[trial_type==1]\n",
    "    cond_y_t0 = data.iloc[cluster_id].cond_y_t0\n",
    "    cond_y_t1 = data.iloc[cluster_id].cond_y_t1\n",
    "\n",
    "    diff_before_after[cluster_id] = (np.mean(np.abs(ds_rate_t0[pos_t0<90]-cond_y_t0[pos_t0<90])),np.mean(np.abs(ds_rate_t0[pos_t0>110]-cond_y_t0[pos_t0>110])))"
   ]
  },
  {
   "cell_type": "code",
   "execution_count": 104,
   "metadata": {},
   "outputs": [
    {
     "data": {
      "image/png": "[encoded data removed]",
      "text/plain": [
       "<Figure size 432x288 with 1 Axes>"
      ]
     },
     "metadata": {
      "needs_background": "light"
     },
     "output_type": "display_data"
    }
   ],
   "source": [
    "mask = diff_before_after[:,1]!=0\n",
    "\n",
    "ratio = np.zeros_like(diff_before_after[:,0])\n",
    "ratio[mask] = np.clip(diff_before_after[mask,0]/diff_before_after[mask,1],0,10.)\n",
    "\n",
    "plt.scatter(diff_before_after[mask,0],ratio[mask])\n",
    "plt.axhline(1.)\n",
    "top=np.argmax(ratio[mask & (ratio!=10.)])\n",
    "bottom=np.argmin(ratio[mask & (ratio!=0.)])"
   ]
  },
  {
   "cell_type": "code",
   "execution_count": 107,
   "metadata": {},
   "outputs": [
    {
     "data": {
      "application/vnd.jupyter.widget-view+json": {
       "model_id": "e3293fe680714c5fba262015a9e5e4d8",
       "version_major": 2,
       "version_minor": 0
      },
      "text/plain": [
       "0it [00:00, ?it/s]"
      ]
     },
     "metadata": {},
     "output_type": "display_data"
    },
    {
     "data": {
      "application/vnd.jupyter.widget-view+json": {
       "model_id": "83d26bc05110447abfb69a7654e1a79f",
       "version_major": 2,
       "version_minor": 0
      },
      "text/plain": [
       "0it [00:00, ?it/s]"
      ]
     },
     "metadata": {},
     "output_type": "display_data"
    },
    {
     "data": {
      "application/vnd.jupyter.widget-view+json": {
       "model_id": "f9dd09c098234540a78a5e93fec3330a",
       "version_major": 2,
       "version_minor": 0
      },
      "text/plain": [
       "0it [00:00, ?it/s]"
      ]
     },
     "metadata": {},
     "output_type": "display_data"
    },
    {
     "data": {
      "application/vnd.jupyter.widget-view+json": {
       "model_id": "e7654d2c840f40cfa9bc4f10ddfe1da7",
       "version_major": 2,
       "version_minor": 0
      },
      "text/plain": [
       "0it [00:00, ?it/s]"
      ]
     },
     "metadata": {},
     "output_type": "display_data"
    },
    {
     "data": {
      "application/vnd.jupyter.widget-view+json": {
       "model_id": "a0dde1477458414fb55ad35421502805",
       "version_major": 2,
       "version_minor": 0
      },
      "text/plain": [
       "0it [00:00, ?it/s]"
      ]
     },
     "metadata": {},
     "output_type": "display_data"
    },
    {
     "data": {
      "application/vnd.jupyter.widget-view+json": {
       "model_id": "ed91ade8e6964ed8b42c2251f566398f",
       "version_major": 2,
       "version_minor": 0
      },
      "text/plain": [
       "0it [00:00, ?it/s]"
      ]
     },
     "metadata": {},
     "output_type": "display_data"
    },
    {
     "data": {
      "application/vnd.jupyter.widget-view+json": {
       "model_id": "fc001281e9044ee984b3a09e8a947c24",
       "version_major": 2,
       "version_minor": 0
      },
      "text/plain": [
       "0it [00:00, ?it/s]"
      ]
     },
     "metadata": {},
     "output_type": "display_data"
    },
    {
     "data": {
      "application/vnd.jupyter.widget-view+json": {
       "model_id": "d55281a1f02745c99f38d1afe80c6f1b",
       "version_major": 2,
       "version_minor": 0
      },
      "text/plain": [
       "0it [00:00, ?it/s]"
      ]
     },
     "metadata": {},
     "output_type": "display_data"
    },
    {
     "data": {
      "image/png": "[encoded data removed]",
      "text/plain": [
       "<Figure size 432x288 with 3 Axes>"
      ]
     },
     "metadata": {
      "needs_background": "light"
     },
     "output_type": "display_data"
    }
   ],
   "source": [
    "# plot_diff(data, cluster_id, )\n",
    "session_name=(session_list[session_id].split('/')[-1]).split(\"_copula.pkl\")[0]\n",
    "save_name = lambda which: f\"unified_copula/{cohort}/{session_name}_{which}.png\"\n",
    "plot_diff(data, top, save_name('top'))\n",
    "# plot_diff(data, bottom, save_name('bottom'))"
   ]
  },
  {
   "cell_type": "code",
   "execution_count": 106,
   "metadata": {},
   "outputs": [
    {
     "data": {
      "application/vnd.jupyter.widget-view+json": {
       "model_id": "5271f628bdb542a7b3a3f00da0da3d9c",
       "version_major": 2,
       "version_minor": 0
      },
      "text/plain": [
       "0it [00:00, ?it/s]"
      ]
     },
     "metadata": {},
     "output_type": "display_data"
    },
    {
     "data": {
      "application/vnd.jupyter.widget-view+json": {
       "model_id": "293ee1d22b19426487ac75a29b873669",
       "version_major": 2,
       "version_minor": 0
      },
      "text/plain": [
       "0it [00:00, ?it/s]"
      ]
     },
     "metadata": {},
     "output_type": "display_data"
    },
    {
     "data": {
      "application/vnd.jupyter.widget-view+json": {
       "model_id": "528b479f9a954b9c9ade21f2a85154f0",
       "version_major": 2,
       "version_minor": 0
      },
      "text/plain": [
       "0it [00:00, ?it/s]"
      ]
     },
     "metadata": {},
     "output_type": "display_data"
    },
    {
     "data": {
      "application/vnd.jupyter.widget-view+json": {
       "model_id": "d10ceae11d6a464ebb14a36a5963dfd5",
       "version_major": 2,
       "version_minor": 0
      },
      "text/plain": [
       "0it [00:00, ?it/s]"
      ]
     },
     "metadata": {},
     "output_type": "display_data"
    },
    {
     "data": {
      "image/png": "[encoded data removed]",
      "text/plain": [
       "<Figure size 432x288 with 2 Axes>"
      ]
     },
     "metadata": {
      "needs_background": "light"
     },
     "output_type": "display_data"
    }
   ],
   "source": [
    "plot_diff(data, bottom, save_name('bottom'))"
   ]
  },
  {
   "cell_type": "markdown",
   "metadata": {},
   "source": [
    "# Serialize"
   ]
  },
  {
   "cell_type": "code",
   "execution_count": null,
   "metadata": {},
   "outputs": [
    {
     "data": {
      "application/vnd.jupyter.widget-view+json": {
       "model_id": "9a073a9520414740a3140c427bba9f0e",
       "version_major": 2,
       "version_minor": 0
      },
      "text/plain": [
       "  0%|          | 0/14 [00:00<?, ?it/s]"
      ]
     },
     "metadata": {},
     "output_type": "display_data"
    },
    {
     "data": {
      "application/vnd.jupyter.widget-view+json": {
       "model_id": "e7491cb88237473d830cb16442de3494",
       "version_major": 2,
       "version_minor": 0
      },
      "text/plain": [
       "0it [00:00, ?it/s]"
      ]
     },
     "metadata": {},
     "output_type": "display_data"
    },
    {
     "data": {
      "application/vnd.jupyter.widget-view+json": {
       "model_id": "bdf623f759554771b5efedfd2acdf949",
       "version_major": 2,
       "version_minor": 0
      },
      "text/plain": [
       "0it [00:00, ?it/s]"
      ]
     },
     "metadata": {},
     "output_type": "display_data"
    },
    {
     "data": {
      "application/vnd.jupyter.widget-view+json": {
       "model_id": "597c89387d544937b1ad3afd3ab5dfac",
       "version_major": 2,
       "version_minor": 0
      },
      "text/plain": [
       "0it [00:00, ?it/s]"
      ]
     },
     "metadata": {},
     "output_type": "display_data"
    },
    {
     "data": {
      "application/vnd.jupyter.widget-view+json": {
       "model_id": "2d70dabf9d5a4c8182fcc903420be8bd",
       "version_major": 2,
       "version_minor": 0
      },
      "text/plain": [
       "0it [00:00, ?it/s]"
      ]
     },
     "metadata": {},
     "output_type": "display_data"
    },
    {
     "data": {
      "application/vnd.jupyter.widget-view+json": {
       "model_id": "3a7b58727e1b444d96bdd4e0028dc105",
       "version_major": 2,
       "version_minor": 0
      },
      "text/plain": [
       "0it [00:00, ?it/s]"
      ]
     },
     "metadata": {},
     "output_type": "display_data"
    },
    {
     "data": {
      "application/vnd.jupyter.widget-view+json": {
       "model_id": "a6ab13f29a5c4190ab2a2e2eb7756ed6",
       "version_major": 2,
       "version_minor": 0
      },
      "text/plain": [
       "0it [00:00, ?it/s]"
      ]
     },
     "metadata": {},
     "output_type": "display_data"
    },
    {
     "data": {
      "application/vnd.jupyter.widget-view+json": {
       "model_id": "1d09b1dc78db498db9b83c3ab4641db6",
       "version_major": 2,
       "version_minor": 0
      },
      "text/plain": [
       "0it [00:00, ?it/s]"
      ]
     },
     "metadata": {},
     "output_type": "display_data"
    },
    {
     "data": {
      "application/vnd.jupyter.widget-view+json": {
       "model_id": "23584d70d374497fbe28f4b122194f92",
       "version_major": 2,
       "version_minor": 0
      },
      "text/plain": [
       "0it [00:00, ?it/s]"
      ]
     },
     "metadata": {},
     "output_type": "display_data"
    },
    {
     "data": {
      "application/vnd.jupyter.widget-view+json": {
       "model_id": "8a54886492734626ab7547ae2e9a8908",
       "version_major": 2,
       "version_minor": 0
      },
      "text/plain": [
       "0it [00:00, ?it/s]"
      ]
     },
     "metadata": {},
     "output_type": "display_data"
    },
    {
     "data": {
      "application/vnd.jupyter.widget-view+json": {
       "model_id": "cdb01e09153c45db8ddfce051cdc7941",
       "version_major": 2,
       "version_minor": 0
      },
      "text/plain": [
       "0it [00:00, ?it/s]"
      ]
     },
     "metadata": {},
     "output_type": "display_data"
    },
    {
     "data": {
      "application/vnd.jupyter.widget-view+json": {
       "model_id": "27126bca93c444a0a4665ae17a029893",
       "version_major": 2,
       "version_minor": 0
      },
      "text/plain": [
       "0it [00:00, ?it/s]"
      ]
     },
     "metadata": {},
     "output_type": "display_data"
    },
    {
     "data": {
      "application/vnd.jupyter.widget-view+json": {
       "model_id": "2aaff1cae9c64d18bd9bd66a1b3cdd86",
       "version_major": 2,
       "version_minor": 0
      },
      "text/plain": [
       "0it [00:00, ?it/s]"
      ]
     },
     "metadata": {},
     "output_type": "display_data"
    },
    {
     "data": {
      "application/vnd.jupyter.widget-view+json": {
       "model_id": "4ac1286a7d9243228c4d3f9be5cc38a6",
       "version_major": 2,
       "version_minor": 0
      },
      "text/plain": [
       "0it [00:00, ?it/s]"
      ]
     },
     "metadata": {},
     "output_type": "display_data"
    },
    {
     "data": {
      "application/vnd.jupyter.widget-view+json": {
       "model_id": "872f81fb691c48728957172d7a4ebfba",
       "version_major": 2,
       "version_minor": 0
      },
      "text/plain": [
       "0it [00:00, ?it/s]"
      ]
     },
     "metadata": {},
     "output_type": "display_data"
    },
    {
     "data": {
      "application/vnd.jupyter.widget-view+json": {
       "model_id": "e15920a1b5e541b693ac074e26bfbfb2",
       "version_major": 2,
       "version_minor": 0
      },
      "text/plain": [
       "0it [00:00, ?it/s]"
      ]
     },
     "metadata": {},
     "output_type": "display_data"
    },
    {
     "data": {
      "application/vnd.jupyter.widget-view+json": {
       "model_id": "dbca6c756622412d963125eaf2badea7",
       "version_major": 2,
       "version_minor": 0
      },
      "text/plain": [
       "0it [00:00, ?it/s]"
      ]
     },
     "metadata": {},
     "output_type": "display_data"
    },
    {
     "data": {
      "application/vnd.jupyter.widget-view+json": {
       "model_id": "2c314ef1fc52435f98f1ed412cb4e006",
       "version_major": 2,
       "version_minor": 0
      },
      "text/plain": [
       "0it [00:00, ?it/s]"
      ]
     },
     "metadata": {},
     "output_type": "display_data"
    },
    {
     "data": {
      "application/vnd.jupyter.widget-view+json": {
       "model_id": "8621f83b3add4887bfd96cf2607608ea",
       "version_major": 2,
       "version_minor": 0
      },
      "text/plain": [
       "0it [00:00, ?it/s]"
      ]
     },
     "metadata": {},
     "output_type": "display_data"
    },
    {
     "data": {
      "application/vnd.jupyter.widget-view+json": {
       "model_id": "a67ad42109a5452f8f4476d4bfee1cab",
       "version_major": 2,
       "version_minor": 0
      },
      "text/plain": [
       "0it [00:00, ?it/s]"
      ]
     },
     "metadata": {},
     "output_type": "display_data"
    },
    {
     "data": {
      "application/vnd.jupyter.widget-view+json": {
       "model_id": "a54f2895df6a420793f554701889e72b",
       "version_major": 2,
       "version_minor": 0
      },
      "text/plain": [
       "0it [00:00, ?it/s]"
      ]
     },
     "metadata": {},
     "output_type": "display_data"
    },
    {
     "data": {
      "application/vnd.jupyter.widget-view+json": {
       "model_id": "c205e4782be24d8ca0ff88d7a7ab8cd1",
       "version_major": 2,
       "version_minor": 0
      },
      "text/plain": [
       "0it [00:00, ?it/s]"
      ]
     },
     "metadata": {},
     "output_type": "display_data"
    },
    {
     "data": {
      "application/vnd.jupyter.widget-view+json": {
       "model_id": "c435ab065acb470e94062ae0b73adb52",
       "version_major": 2,
       "version_minor": 0
      },
      "text/plain": [
       "0it [00:00, ?it/s]"
      ]
     },
     "metadata": {},
     "output_type": "display_data"
    },
    {
     "data": {
      "application/vnd.jupyter.widget-view+json": {
       "model_id": "12b70e9c3548498fa87fb859b72205d2",
       "version_major": 2,
       "version_minor": 0
      },
      "text/plain": [
       "0it [00:00, ?it/s]"
      ]
     },
     "metadata": {},
     "output_type": "display_data"
    },
    {
     "data": {
      "application/vnd.jupyter.widget-view+json": {
       "model_id": "af8069ca6db947ac91ba90fd8745501e",
       "version_major": 2,
       "version_minor": 0
      },
      "text/plain": [
       "0it [00:00, ?it/s]"
      ]
     },
     "metadata": {},
     "output_type": "display_data"
    },
    {
     "data": {
      "application/vnd.jupyter.widget-view+json": {
       "model_id": "1226cd3136684305a1abad4eca50ec31",
       "version_major": 2,
       "version_minor": 0
      },
      "text/plain": [
       "0it [00:00, ?it/s]"
      ]
     },
     "metadata": {},
     "output_type": "display_data"
    },
    {
     "data": {
      "application/vnd.jupyter.widget-view+json": {
       "model_id": "a60ea0b51358472cbd3c86abbeab9e57",
       "version_major": 2,
       "version_minor": 0
      },
      "text/plain": [
       "0it [00:00, ?it/s]"
      ]
     },
     "metadata": {},
     "output_type": "display_data"
    },
    {
     "data": {
      "application/vnd.jupyter.widget-view+json": {
       "model_id": "2ba8217fd5d24e6490c2392bdad81d41",
       "version_major": 2,
       "version_minor": 0
      },
      "text/plain": [
       "0it [00:00, ?it/s]"
      ]
     },
     "metadata": {},
     "output_type": "display_data"
    },
    {
     "data": {
      "application/vnd.jupyter.widget-view+json": {
       "model_id": "6e1445d8872747e59b53c8182c01ebd4",
       "version_major": 2,
       "version_minor": 0
      },
      "text/plain": [
       "0it [00:00, ?it/s]"
      ]
     },
     "metadata": {},
     "output_type": "display_data"
    },
    {
     "data": {
      "application/vnd.jupyter.widget-view+json": {
       "model_id": "3555c09babad45f48a90bdbac4050c4e",
       "version_major": 2,
       "version_minor": 0
      },
      "text/plain": [
       "0it [00:00, ?it/s]"
      ]
     },
     "metadata": {},
     "output_type": "display_data"
    },
    {
     "data": {
      "application/vnd.jupyter.widget-view+json": {
       "model_id": "6b2d5bc0531849569e204c8811daa5ce",
       "version_major": 2,
       "version_minor": 0
      },
      "text/plain": [
       "0it [00:00, ?it/s]"
      ]
     },
     "metadata": {},
     "output_type": "display_data"
    },
    {
     "data": {
      "application/vnd.jupyter.widget-view+json": {
       "model_id": "78dd222132ce4985a4d30ce284ef5ced",
       "version_major": 2,
       "version_minor": 0
      },
      "text/plain": [
       "0it [00:00, ?it/s]"
      ]
     },
     "metadata": {},
     "output_type": "display_data"
    },
    {
     "data": {
      "application/vnd.jupyter.widget-view+json": {
       "model_id": "74fe3858ba5d47b78d25639b37d1b913",
       "version_major": 2,
       "version_minor": 0
      },
      "text/plain": [
       "0it [00:00, ?it/s]"
      ]
     },
     "metadata": {},
     "output_type": "display_data"
    },
    {
     "data": {
      "application/vnd.jupyter.widget-view+json": {
       "model_id": "377a54c0826d4829a5545a0011f6c7f8",
       "version_major": 2,
       "version_minor": 0
      },
      "text/plain": [
       "0it [00:00, ?it/s]"
      ]
     },
     "metadata": {},
     "output_type": "display_data"
    }
   ],
   "source": [
    "session_list = glob.glob(f\"unified_copula/{cohort}/*.pkl\")\n",
    "for session in tqdm(session_list):\n",
    "    data = pd.read_pickle(session)\n",
    "\n",
    "    diff_before_after=np.zeros((len(data),2))\n",
    "    for cluster_id in range(len(data)):\n",
    "        [ds_rate, ds_vel, ds_pos, trial_num, trial_type] = data.iloc[cluster_id].spikes_per50ms\n",
    "        pos_t0 = ds_pos[trial_type==0]#/LENGTH\n",
    "        pos_t1 = ds_pos[trial_type==1]#/LENGTH\n",
    "        ds_rate_t0 = ds_rate[trial_type==0]\n",
    "        ds_rate_t1 = ds_rate[trial_type==1]\n",
    "        cond_y_t0 = data.iloc[cluster_id].cond_y_t0\n",
    "        cond_y_t1 = data.iloc[cluster_id].cond_y_t1\n",
    "\n",
    "        diff_before_after[cluster_id] = (np.mean(np.abs(ds_rate_t0[pos_t0<90]-cond_y_t0[pos_t0<90])),np.mean(np.abs(ds_rate_t0[pos_t0>110]-cond_y_t0[pos_t0>110])))\n",
    "    \n",
    "    mask = diff_before_after[:,1]!=0\n",
    "\n",
    "    ratio = np.zeros_like(diff_before_after[:,0])\n",
    "    ratio[mask] = np.clip(diff_before_after[mask,0]/diff_before_after[mask,1],0,10.)\n",
    "\n",
    "    plt.scatter(diff_before_after[mask,0],ratio[mask])\n",
    "    plt.axhline(1.)\n",
    "    \n",
    "    if len(ratio[mask & (ratio!=10.) & (ratio!=0.)])>0:\n",
    "        top=np.max(ratio[mask & (ratio!=10.)])\n",
    "        top_idx=np.argmax(ratio[mask & (ratio!=10.)])\n",
    "        bottom=np.min(ratio[mask & (ratio!=0.)])\n",
    "        bottom_idx=np.argmin(ratio[mask & (ratio!=0.)])\n",
    "\n",
    "        session_name=(session.split('/')[-1]).split(\"_copula.pkl\")[0]\n",
    "        save_name = lambda which: f\"unified_copula/{cohort}/{session_name}_{which}.png\"\n",
    "        plot_diff(data, top_idx, save_name('top'))\n",
    "        plot_diff(data, bottom_idx, save_name('bottom'))\n",
    "\n",
    "        if top>2.:\n",
    "            save_name = f\"interesting/effect_{cohort}_{session_name}.png\"\n",
    "            plot_diff(data, top_idx, save_name)\n",
    "\n",
    "        if bottom<0.5:\n",
    "            save_name = f\"interesting/countereffect_{cohort}_{session_name}.png\"\n",
    "            plot_diff(data, bottom_idx, save_name)\n",
    "    \n",
    "\n",
    "    "
   ]
  },
  {
   "cell_type": "code",
   "execution_count": null,
   "metadata": {},
   "outputs": [],
   "source": []
  }
 ],
 "metadata": {
  "kernelspec": {
   "display_name": "SarahData",
   "language": "python",
   "name": "sarahdata"
  },
  "language_info": {
   "codemirror_mode": {
    "name": "ipython",
    "version": 3
   },
   "file_extension": ".py",
   "mimetype": "text/x-python",
   "name": "python",
   "nbconvert_exporter": "python",
   "pygments_lexer": "ipython3",
   "version": "3.8.12"
  }
 },
 "nbformat": 4,
 "nbformat_minor": 2
}
